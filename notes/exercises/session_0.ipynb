{
 "cells": [
  {
   "cell_type": "markdown",
   "id": "50bc88d6-641e-4edb-9c2f-8e3c00cbffdc",
   "metadata": {},
   "source": [
    "# Tutorial\n",
    "\n",
    "<font color=\"red\">This is Session 0, a tutorial session where **nothing** needs to be returned at the end.</font>\r\n",
    "\n",
    "Note: the neural network part is based on https://github.com/pytorch/examples/tree/main/mnist.\n",
    "\n",
    "* [Popular Libraries](#Popular-Libraries-)\n",
    "* [Why PyTorch](#Why-PyTorch-)\n",
    "* [Environment Installation](#Environment-Installation-)\n",
    "* [PyTorch Tutorial](#PyTorch-Tutorial-)\n",
    "    * [PyTorch Tensor](#PyTorch-Tensor-)\n",
    "    * [Tensor Manipulations](#Tensor-Manipulations-)\n",
    "* [Neural Network Tutorial](#Neural-Network-Tutorial-)\n",
    "    * [Load and Preprocess Data](#Load-and-Preprocess-Data-)\n",
    "    * [Define model](#Define-model-)\n",
    "    * [Basic Optimization Loop](#Basic-optimization-loop-)\n",
    "    * [Evaluate Models Performance](#Evaluate-Models-Performance-)\n",
    "* [More information](#More-information-)\n",
    "* [Returning Exercises](#Returning-exercises-)"
   ]
  },
  {
   "cell_type": "markdown",
   "id": "801e962e-b556-4e2d-a895-79873a9cb9c9",
   "metadata": {},
   "source": [
    "## Popular Libraries <a class=\"anchor\" id=\"popular-libraries\"></a>\n",
    "\n",
    "**PyTorch** – Open-source deep learning framework.  \n",
    "- **torch** – Core library for tensor operations, autograd, and deep learning models.  \n",
    "- **torchvision** – Tools for image processing, datasets, and pre-trained vision models.  \n",
    "\n",
    "**NumPy** – Numerical computing library that provides array operations and mathematical functions.  \n",
    "\n",
    "**Matplotlib** – Visualisation library for creating plots, graphs, and charts to analyze data.\n",
    "\n",
    "**SciPy** – Tools for optimization, integration, interpolation, and other common scientific tasks\n",
    "\n",
    "**tqdm** – Adds progress bars to loops and tasks for better tracking.  \n",
    "\n",
    "**Jupyter** – Interactive notebook environment for coding in a web-based interface.  \n"
   ]
  },
  {
   "attachments": {},
   "cell_type": "markdown",
   "id": "7c2a6f27-6063-4534-8916-6f0723d7504b",
   "metadata": {},
   "source": [
    "## Why PyTorch <a class=\"anchor\" id=\"why-pytorch\"></a>\n",
    "\n",
    "- Open-source.\n",
    "- Most popular deep learning framework on https://paperswithcode.com/trends\n",
    "- Simple and Python-friendly.\n",
    "- Supports GPU acceleration. (GPU is not needed for this course)\n",
    "- Some contributors: Meta, Microsoft, OpenAI, AMD, Nvidia...\n",
    "- Frequent updates and support.  \n",
    "- Includes `torchvision`, `torchaudio`, `TorchText`."
   ]
  },
  {
   "cell_type": "markdown",
   "id": "2a467a83-6da4-4d4e-b78e-e2b2786d55f3",
   "metadata": {},
   "source": [
    "## Environment Installation <a class=\"anchor\" id=\"environment-installation\"></a>\n",
    "\n",
    "**1. Base Environment & Tools Setup**\n",
    "\n",
    "- To manage Python and packages, we recommend **Miniconda**.\n",
    "- https://repo.anaconda.com/miniconda/\n",
    "- We will work with .ipynb files, we recommend **Jupyter Notebook/Lab**.\n",
    "- This tutorial goes over recommended installations.\n",
    "- You are free to use your setup. Make sure your setup supports installing required libraries/versions etc. <font color=\"red\">An old package manager may use outdated Python and libraries, which can cause issues in the long term. If you have been using the same version for a long time, we recommend updating Conda or your package manager first.</font>\n",
    "\n",
    "---\n",
    "\n",
    "**2. Open Terminal & Check Base Environment**\n",
    "\n",
    "- After Miniconda installation, open a new terminal.\n",
    "- See the tag `base` on left, indicating the default environment.\n",
    "- To avoid environment conflicts, we will create a new environment for the course.\n",
    "\n",
    "---\n",
    "\n",
    "**3. Create a New Environment**\n",
    "\n",
    "**Option 1:** Create an Environment Manually\n",
    "\n",
    "`\n",
    "conda create --name my_env_name python=3.10\n",
    "`\n",
    "\n",
    "- If you follow this option, you must install required libraries manually.\n",
    "- **my_env_name** → Replace with your preferred environment name.\n",
    "- **python=3.10** → Specifies Python version 3.10 for this environment.\n",
    "\n",
    "**Option 2:** Create an Environment from a YAML File\n",
    "\n",
    "Run the following command to create an environment from a `.yml` / `.yaml` file:\n",
    "\n",
    "`\n",
    "conda env create -f environment.yml\n",
    "`\n",
    "\n",
    "---\n",
    "\n",
    "**4. Activate the Environment**\n",
    "\n",
    "- Check available environments:\n",
    "\n",
    "`\n",
    "conda env list\n",
    "`\n",
    "\n",
    "- Activate environment:\n",
    "\n",
    "`\n",
    "conda activate my_env_name\n",
    "`\n",
    "\n",
    "---\n",
    "\n",
    "**5. Verify Python Version**\n",
    "\n",
    "After creating the environment, check if Python is correctly installed:\n",
    "\n",
    "`\n",
    "python --version\n",
    "`\n",
    "\n",
    "---\n",
    "\n",
    "**6. Install Packages in the Environment**\n",
    "\n",
    "- Once the environment is activated, you can install additional packages.\n",
    "\n",
    "- PyTorch is intentionally not included in the YAML file.\n",
    "\n",
    "- We will manually install it to see an example of manual package installation.\n",
    "\n",
    "- Find version you need: https://pytorch.org/get-started/locally/\n",
    "\n",
    "- Run the command in your terminal while the environment is active.\n",
    "\n",
    "---\n",
    "\n",
    "**7. CPU vs. GPU Installation**\n",
    "\n",
    "This course is designed to run on **CPU**. If you install the **GPU version**, you will need **GPU drivers, CUDA, cuDNN..** (not covered in this course).\n",
    "\n",
    "Later examples will demonstrate how to write **code that works on both CPU & GPU**. However, for homeworks, **you do not need to write GPU-compatible code**.\n",
    "\n",
    "---\n",
    "\n",
    "### Summary of Steps\n",
    "**1. Install Miniconda** from [Miniconda Download](https://repo.anaconda.com/miniconda/).\n",
    "\n",
    "**2. Open terminal** and verify `base` environment is active.\n",
    "\n",
    "**3. Create a new environment**:\n",
    "   - `conda create --name my_env_name python=3.10` and install libraries manually,\n",
    "   - OR use a `.yml` file: `conda env create -f environment.yaml`\n",
    "\n",
    "**4. Activate the environment**: `conda activate my_env_name`\n",
    "\n",
    "**5. Verify Python version**: `python --version`\n",
    "\n",
    "**6. Install PyTorch**:\n",
    "   - Visit [PyTorch Install](https://pytorch.org/get-started/locally/).\n",
    "   - CPU is enough for this course, but an optional GPU setup is possible.\n",
    "   - Run the recommended installation command."
   ]
  },
  {
   "cell_type": "markdown",
   "id": "efb48d3d-917b-460b-9102-45b2efa5345b",
   "metadata": {},
   "source": [
    "## PyTorch Tutorial <a class=\"anchor\" id=\"pytorch-tutorial\"></a>\n",
    "\n",
    "- Activate environment.\n",
    "- Open Jupyter Notebook by typing `jupyter notebook` to work on IPYNB file.\n",
    "- Check if `torch` is installed and its version."
   ]
  },
  {
   "cell_type": "code",
   "execution_count": 1,
   "id": "1ba4b5bd-6fab-467b-bedc-a378f5a332c5",
   "metadata": {},
   "outputs": [
    {
     "name": "stdout",
     "output_type": "stream",
     "text": [
      "2.6.0+cpu\n"
     ]
    }
   ],
   "source": [
    "import torch\n",
    "print(torch.__version__)"
   ]
  },
  {
   "cell_type": "markdown",
   "id": "1ebea88a-52b7-44b0-9209-ecc9c60b291d",
   "metadata": {},
   "source": [
    "### PyTorch Tensor <a class=\"anchor\" id=\"pytorch-tensor\"></a>\n",
    "\n",
    "- Fundamental data structures in deep learning libraries.\n",
    "- Represent data in a numerical way.\n",
    "- Can be processed on CPUs or GPUs.\n",
    "- PyTorch has a detailed [Tensor](https://pytorch.org/docs/stable/tensors.html) documentation page."
   ]
  },
  {
   "cell_type": "code",
   "execution_count": 2,
   "id": "b6fea9b2-bef0-4cd3-a2fc-4d354642d610",
   "metadata": {},
   "outputs": [
    {
     "name": "stdout",
     "output_type": "stream",
     "text": [
      "Device: cpu\n",
      "Shape: torch.Size([3])\n",
      "Number of dimensions (ndim): 1\n",
      "Data type (dtype): torch.int64\n"
     ]
    }
   ],
   "source": [
    "tensor_1d = torch.tensor([1, 2, 3])\n",
    "\n",
    "print(\"Device:\", tensor_1d.device)\n",
    "print(\"Shape:\", tensor_1d.shape)\n",
    "print(\"Number of dimensions (ndim):\", tensor_1d.ndim)\n",
    "print(\"Data type (dtype):\", tensor_1d.dtype)"
   ]
  },
  {
   "cell_type": "code",
   "execution_count": 3,
   "id": "1c4ee0e1-ca8c-4fbb-99fe-f9f6c08adfdb",
   "metadata": {},
   "outputs": [
    {
     "name": "stdout",
     "output_type": "stream",
     "text": [
      "Device: cpu\n",
      "Shape: torch.Size([2, 3])\n",
      "Number of dimensions (ndim): 2\n",
      "Data type (dtype): torch.int64\n"
     ]
    }
   ],
   "source": [
    "tensor_2d = torch.tensor([[1,  2,  3],\n",
    "                          [10, 11, 12]])\n",
    "\n",
    "print(\"Device:\", tensor_2d.device)\n",
    "print(\"Shape:\", tensor_2d.shape)\n",
    "print(\"Number of dimensions (ndim):\", tensor_2d.ndim)\n",
    "print(\"Data type (dtype):\", tensor_2d.dtype)"
   ]
  },
  {
   "cell_type": "code",
   "execution_count": 4,
   "id": "ca63417d-bb7f-4975-aa1a-652d489c3f4d",
   "metadata": {},
   "outputs": [
    {
     "name": "stdout",
     "output_type": "stream",
     "text": [
      "Device: cpu\n",
      "Shape: torch.Size([2, 3])\n",
      "Number of dimensions (ndim): 2\n",
      "Data type (dtype): torch.float32\n"
     ]
    }
   ],
   "source": [
    "# Changed 1 to 1.1\n",
    "tensor_2d_decimal = torch.tensor([[1.1,  2,  3],\n",
    "                                  [10, 11, 12]])\n",
    "\n",
    "print(\"Device:\", tensor_2d_decimal.device)\n",
    "print(\"Shape:\", tensor_2d_decimal.shape)\n",
    "print(\"Number of dimensions (ndim):\", tensor_2d_decimal.ndim)\n",
    "print(\"Data type (dtype):\", tensor_2d_decimal.dtype)"
   ]
  },
  {
   "cell_type": "code",
   "execution_count": 5,
   "id": "5402de66-6b16-4d90-aabc-5aea22f4bc02",
   "metadata": {},
   "outputs": [
    {
     "name": "stdout",
     "output_type": "stream",
     "text": [
      "Device: cpu\n",
      "Shape: torch.Size([2, 3])\n",
      "Number of dimensions (ndim): 2\n",
      "Data type (dtype): torch.float32\n",
      "Requires gradient: True\n"
     ]
    }
   ],
   "source": [
    "# Features of tensors can be modified\n",
    "device = \"cuda\" if torch.cuda.is_available() else \"cpu\"\n",
    "\n",
    "tensor_2d_modified = torch.tensor([[1, 2, 3],\n",
    "                                   [10, 11, 12]],\n",
    "                                  dtype=torch.float32,\n",
    "                                  device=device,\n",
    "                                  requires_grad=True)\n",
    "\n",
    "print(\"Device:\", tensor_2d_modified.device)\n",
    "print(\"Shape:\", tensor_2d_modified.shape)\n",
    "print(\"Number of dimensions (ndim):\", tensor_2d_modified.ndim)\n",
    "print(\"Data type (dtype):\", tensor_2d_modified.dtype)\n",
    "# <tensor>.requires_grad=True tells PyTorch to compute gradients for this tensor during backpropagation\n",
    "print(\"Requires gradient:\", tensor_2d_modified.requires_grad)"
   ]
  },
  {
   "cell_type": "code",
   "execution_count": 6,
   "id": "d3024714-2b7e-4d3b-bbb9-80995374a55c",
   "metadata": {},
   "outputs": [
    {
     "name": "stdout",
     "output_type": "stream",
     "text": [
      "Tensor x: tensor(42)\n",
      "dtype of the tensor: torch.int64\n",
      "Value extracted with .item(): 42\n",
      "Type of the extracted value: <class 'int'>\n"
     ]
    }
   ],
   "source": [
    "# .item() extract the number from single element tensor\n",
    "x = torch.tensor(42)\n",
    "print(\"Tensor x:\", x)\n",
    "print(\"dtype of the tensor:\", x.dtype)\n",
    "\n",
    "value = x.item()\n",
    "print(\"Value extracted with .item():\", value)\n",
    "print(\"Type of the extracted value:\", type(value))"
   ]
  },
  {
   "cell_type": "markdown",
   "id": "aa5302d3-960d-4fa5-8e9b-7e4b7f2b88e2",
   "metadata": {},
   "source": [
    "### Tensor Manipulations <a class=\"anchor\" id=\"tensor-manipulations\"></a>"
   ]
  },
  {
   "cell_type": "code",
   "execution_count": 7,
   "id": "f09ed977-ab2d-4c17-a155-f53657866774",
   "metadata": {},
   "outputs": [
    {
     "name": "stdout",
     "output_type": "stream",
     "text": [
      "tensor([[1., 2., 3.],\n",
      "        [4., 5., 6.]])\n",
      "Shape: torch.Size([2, 3])\n",
      "dtype: torch.float32\n",
      "ndim: 2\n"
     ]
    }
   ],
   "source": [
    "# Initial data\n",
    "data = torch.tensor([[1., 2., 3.],\n",
    "                     [4., 5., 6.]])\n",
    "print(data)\n",
    "print(\"Shape:\", data.shape)\n",
    "print(\"dtype:\", data.dtype)\n",
    "print(\"ndim:\", data.ndim)"
   ]
  },
  {
   "cell_type": "code",
   "execution_count": 8,
   "id": "ef5ce115-1cd0-4158-a66f-d7be03556c73",
   "metadata": {},
   "outputs": [
    {
     "name": "stdout",
     "output_type": "stream",
     "text": [
      "tensor([[1.],\n",
      "        [4.]])\n",
      "Shape: torch.Size([2, 1])\n"
     ]
    }
   ],
   "source": [
    "# Slicing first column of all rows from data\n",
    "slice_example = data[:, :1]\n",
    "print(slice_example)\n",
    "print(\"Shape:\", slice_example.shape)"
   ]
  },
  {
   "cell_type": "code",
   "execution_count": 9,
   "id": "c98ce98e-6b8b-4913-8202-7a776e5e1b11",
   "metadata": {},
   "outputs": [
    {
     "name": "stdout",
     "output_type": "stream",
     "text": [
      "tensor([1., 2., 3., 4., 5., 6.])\n",
      "Shape: torch.Size([6])\n",
      "ndim: 1\n"
     ]
    }
   ],
   "source": [
    "# Reshape data to 1D\n",
    "reshaped = data.reshape(6)\n",
    "print(reshaped)\n",
    "print(\"Shape:\", reshaped.shape)\n",
    "print(\"ndim:\", reshaped.ndim)"
   ]
  },
  {
   "cell_type": "code",
   "execution_count": 10,
   "id": "fadba403-1351-4150-b1b3-fbe809a88a02",
   "metadata": {},
   "outputs": [
    {
     "name": "stdout",
     "output_type": "stream",
     "text": [
      "tensor([[1., 2., 3., 4., 5., 6.]])\n",
      "Shape: torch.Size([1, 6])\n",
      "ndim: 2\n"
     ]
    }
   ],
   "source": [
    "# Reshape data to 2D\n",
    "reshaped = data.reshape(1, 6)\n",
    "print(reshaped)\n",
    "print(\"Shape:\", reshaped.shape)\n",
    "print(\"ndim:\", reshaped.ndim)"
   ]
  },
  {
   "cell_type": "code",
   "execution_count": 11,
   "id": "ef97fe7f-6838-4b26-a7b0-13d36e9b65af",
   "metadata": {},
   "outputs": [
    {
     "name": "stdout",
     "output_type": "stream",
     "text": [
      "tensor([[1., 2.],\n",
      "        [3., 4.],\n",
      "        [5., 6.]])\n",
      "Shape: torch.Size([3, 2])\n"
     ]
    }
   ],
   "source": [
    "# Reshape data: \"-1\" tells pytorch to infer it\n",
    "reshaped = data.reshape(-1, 2)\n",
    "print(reshaped)\n",
    "print(\"Shape:\", reshaped.shape)"
   ]
  },
  {
   "cell_type": "code",
   "execution_count": 12,
   "id": "e30a3950-b4a0-4499-8a68-24f393496c6e",
   "metadata": {},
   "outputs": [
    {
     "data": {
      "text/plain": [
       "tensor([[1., 2., 3.],\n",
       "        [4., 5., 6.]])"
      ]
     },
     "execution_count": 12,
     "metadata": {},
     "output_type": "execute_result"
    }
   ],
   "source": [
    "data # remember data"
   ]
  },
  {
   "cell_type": "code",
   "execution_count": 13,
   "id": "028a0249-a890-4317-aa94-b72235a3c027",
   "metadata": {},
   "outputs": [
    {
     "name": "stdout",
     "output_type": "stream",
     "text": [
      "tensor([[1., 2., 3.],\n",
      "        [4., 5., 6.],\n",
      "        [1., 2., 3.],\n",
      "        [4., 5., 6.]])\n",
      "Shape: torch.Size([4, 3])\n"
     ]
    }
   ],
   "source": [
    "# Concatenate along dim=0\n",
    "cat_dim0 = torch.cat([data, data], dim=0)\n",
    "print(cat_dim0)\n",
    "print(\"Shape:\", cat_dim0.shape)"
   ]
  },
  {
   "cell_type": "code",
   "execution_count": 14,
   "id": "0810a5c6-e7c5-46a0-baca-86d4b7624e23",
   "metadata": {},
   "outputs": [
    {
     "name": "stdout",
     "output_type": "stream",
     "text": [
      "Data Reshaped to (1, 2, 3):\n",
      "tensor([[[1., 2., 3.],\n",
      "         [4., 5., 6.]]])\n",
      "Shape: torch.Size([1, 2, 3])\n",
      "ndim: 3\n",
      "\n",
      "After squeeze:\n",
      "tensor([[1., 2., 3.],\n",
      "        [4., 5., 6.]])\n",
      "Shape: torch.Size([2, 3])\n",
      "ndim: 2\n",
      "\n",
      "After unsqueeze:\n",
      "tensor([[[1., 2., 3.],\n",
      "         [4., 5., 6.]]])\n",
      "Shape: torch.Size([1, 2, 3])\n",
      "ndim: 3\n"
     ]
    }
   ],
   "source": [
    "# Squeeze: removes any dimension of size 1\n",
    "data_3d = data.reshape((1, 2, 3))\n",
    "print(\"Data Reshaped to (1, 2, 3):\")\n",
    "print(data_3d)\n",
    "print(\"Shape:\", data_3d.shape)\n",
    "print(\"ndim:\", data_3d.ndim)\n",
    "\n",
    "data_squeezed = data_3d.squeeze()\n",
    "print(\"\\nAfter squeeze:\")\n",
    "print(data_squeezed)\n",
    "print(\"Shape:\", data_squeezed.shape)\n",
    "print(\"ndim:\", data_squeezed.ndim)\n",
    "\n",
    "# Unsqueeze: add a new dimension of size 1\n",
    "data_unsqueezed = data_squeezed.unsqueeze(0)\n",
    "print(\"\\nAfter unsqueeze:\")\n",
    "print(data_unsqueezed)\n",
    "print(\"Shape:\", data_unsqueezed.shape)\n",
    "print(\"ndim:\", data_unsqueezed.ndim)"
   ]
  },
  {
   "cell_type": "code",
   "execution_count": 15,
   "id": "a80ca9a1-9c76-41aa-be7c-f9f852757737",
   "metadata": {},
   "outputs": [
    {
     "name": "stdout",
     "output_type": "stream",
     "text": [
      "Random Tensor (randn):\n",
      "tensor([[ 0.1656,  0.8948,  1.7010],\n",
      "        [-1.2194, -0.2148, -2.2676]])\n",
      "Shape: torch.Size([2, 3])\n"
     ]
    }
   ],
   "source": [
    "# 2x3 tensor with random values from a standard normal distribution\n",
    "rand_tensor = torch.randn((2, 3))\n",
    "print(\"Random Tensor (randn):\")\n",
    "print(rand_tensor)\n",
    "print(\"Shape:\", rand_tensor.shape)"
   ]
  },
  {
   "cell_type": "code",
   "execution_count": 16,
   "id": "dbe399d4-04fd-4860-9204-8f38023a2cf5",
   "metadata": {},
   "outputs": [
    {
     "name": "stdout",
     "output_type": "stream",
     "text": [
      "Zeros Tensor:\n",
      "tensor([[0., 0., 0.],\n",
      "        [0., 0., 0.]])\n",
      "Shape: torch.Size([2, 3])\n"
     ]
    }
   ],
   "source": [
    "# 2x3 tensor filled with zeros\n",
    "zeros_tensor = torch.zeros((2, 3))\n",
    "print(\"Zeros Tensor:\")\n",
    "print(zeros_tensor)\n",
    "print(\"Shape:\", zeros_tensor.shape)"
   ]
  },
  {
   "cell_type": "code",
   "execution_count": 17,
   "id": "da365546-1322-4d23-baad-5ff8b3497f04",
   "metadata": {},
   "outputs": [
    {
     "name": "stdout",
     "output_type": "stream",
     "text": [
      "Ones Tensor:\n",
      "tensor([[1., 1., 1.],\n",
      "        [1., 1., 1.]])\n",
      "Shape: torch.Size([2, 3])\n"
     ]
    }
   ],
   "source": [
    "# 2x3 tensor filled with ones\n",
    "ones_tensor = torch.ones((2, 3))\n",
    "print(\"Ones Tensor:\")\n",
    "print(ones_tensor)\n",
    "print(\"Shape:\", ones_tensor.shape)"
   ]
  },
  {
   "cell_type": "code",
   "execution_count": 18,
   "id": "4fea1f80-fc7b-4b7d-a5f4-1b2a3b4c50d1",
   "metadata": {},
   "outputs": [
    {
     "name": "stdout",
     "output_type": "stream",
     "text": [
      "Tensor with torch.arange(10):\n",
      "tensor([0, 1, 2, 3, 4, 5, 6, 7, 8, 9])\n"
     ]
    }
   ],
   "source": [
    "# tensor with values from 0 to 10 (exclusive), i.e., 0,1,2,...,9\n",
    "tensor_range = torch.arange(10)\n",
    "print(\"Tensor with torch.arange(10):\")\n",
    "print(tensor_range)"
   ]
  },
  {
   "cell_type": "code",
   "execution_count": 19,
   "id": "1444e3ae-bf1d-426a-8a31-7daaeb277cef",
   "metadata": {},
   "outputs": [
    {
     "name": "stdout",
     "output_type": "stream",
     "text": [
      "Tensor with torch.arange(0, 10, 2):\n",
      "tensor([0, 2, 4, 6, 8])\n"
     ]
    }
   ],
   "source": [
    "# tensor with values from 0 to 10 (exclusive) with a step of 2: 0,2,4,6,8\n",
    "tensor_range_step = torch.arange(0, 10, 2)\n",
    "print(\"Tensor with torch.arange(0, 10, 2):\")\n",
    "print(tensor_range_step)"
   ]
  },
  {
   "cell_type": "code",
   "execution_count": 20,
   "id": "394af25a-b762-429a-95ce-9c9e5fc640aa",
   "metadata": {},
   "outputs": [
    {
     "name": "stdout",
     "output_type": "stream",
     "text": [
      "Tensor x:\n",
      "tensor([ 5,  3,  2,  1,  8,  9, 12])\n",
      "\n",
      "Minimum value in x: 1\n",
      "Maximum value in x: 12\n"
     ]
    }
   ],
   "source": [
    "# min, max functions\n",
    "\n",
    "# Define a 1D tensor\n",
    "x = torch.tensor([5, 3, 2, 1, 8, 9, 12])\n",
    "print(\"Tensor x:\")\n",
    "print(x)\n",
    "\n",
    "# Get the minimum and maximum value in the tensor\n",
    "min_val = torch.min(x)\n",
    "max_val = torch.max(x)\n",
    "print(\"\\nMinimum value in x:\", min_val.item())\n",
    "print(\"Maximum value in x:\", max_val.item())"
   ]
  },
  {
   "cell_type": "code",
   "execution_count": 21,
   "id": "0a278329-ee52-4495-9ae8-9603514ff4be",
   "metadata": {},
   "outputs": [
    {
     "name": "stdout",
     "output_type": "stream",
     "text": [
      "Base Tensor:\n",
      "tensor([[1., 2., 3.],\n",
      "        [4., 5., 6.]])\n",
      "Shape: torch.Size([2, 3]) \n",
      "\n",
      "Random Tensor (created with rand_like):\n",
      "tensor([[0.3989, 0.2070, 0.7332],\n",
      "        [0.9444, 0.3537, 0.3838]])\n",
      "Shape: torch.Size([2, 3])\n"
     ]
    }
   ],
   "source": [
    "# rand_like function\n",
    "\n",
    "# Define a 2x3 tensor\n",
    "base_tensor = torch.tensor([[1, 2, 3],\n",
    "                            [4, 5, 6]],\n",
    "                           dtype=torch.float32)\n",
    "\n",
    "# Create a new tensor with the same shape as 'base_tensor', but filled with random values in [0, 1)\n",
    "rand_like_tensor = torch.rand_like(base_tensor)\n",
    "\n",
    "print(\"Base Tensor:\")\n",
    "print(base_tensor)\n",
    "print(\"Shape:\", base_tensor.shape, \"\\n\")\n",
    "\n",
    "print(\"Random Tensor (created with rand_like):\")\n",
    "print(rand_like_tensor)\n",
    "print(\"Shape:\", rand_like_tensor.shape)"
   ]
  },
  {
   "cell_type": "code",
   "execution_count": 22,
   "id": "4788b1cc-abee-491e-ae69-859ba4178080",
   "metadata": {},
   "outputs": [
    {
     "name": "stdout",
     "output_type": "stream",
     "text": [
      "Symmetric matrix (Sigma = temp @ temp.T):\n",
      "tensor([[3.9840, 1.1351, 0.0571],\n",
      "        [1.1351, 1.8647, 0.2224],\n",
      "        [0.0571, 0.2224, 1.4986]])\n",
      "Shape: torch.Size([3, 3])\n"
     ]
    }
   ],
   "source": [
    "# create a random 3x3 matrix\n",
    "temp = torch.randn(3, 3)\n",
    "# Multiply it by its transpose to get a symmetric matrix (like a covariance)\n",
    "Sigma = temp @ temp.T\n",
    "print(\"Symmetric matrix (Sigma = temp @ temp.T):\")\n",
    "print(Sigma)\n",
    "print(\"Shape:\", Sigma.shape)"
   ]
  },
  {
   "cell_type": "code",
   "execution_count": 23,
   "id": "c93982b1-797d-4c31-ab5b-60f44ae3211f",
   "metadata": {},
   "outputs": [
    {
     "name": "stdout",
     "output_type": "stream",
     "text": [
      "One sample from a multivariate normal with mean=0 and Sigma:\n",
      "tensor([-2.7502, -1.6804, -0.4668])\n",
      "Sample shape: torch.Size([3])\n"
     ]
    }
   ],
   "source": [
    "# PyTorch's distribution API to sample from a multivariate normal\n",
    "samples = torch.distributions.multivariate_normal.MultivariateNormal(\n",
    "    loc=torch.zeros(3), \n",
    "    covariance_matrix=Sigma).rsample()\n",
    "print(\"One sample from a multivariate normal with mean=0 and Sigma:\")\n",
    "print(samples)\n",
    "print(\"Sample shape:\", samples.shape)"
   ]
  },
  {
   "cell_type": "markdown",
   "id": "207bff98-3bd4-446a-8732-672c504560c5",
   "metadata": {},
   "source": [
    "## Neural Network Tutorial <a class=\"anchor\" id=\"neural-network-tutorial\"></a>"
   ]
  },
  {
   "cell_type": "markdown",
   "id": "38ea265f-1270-4c9c-8952-d2d92e06e966",
   "metadata": {},
   "source": [
    "- **DISCLAIMER:** The rest of this notebook demonstrates a simple neural network implementation using PyTorch. The concepts introduced here will be covered in detail in upcoming lectures.\n",
    "\n",
    "- **Data:** MNIST dataset, where each image is grayscale with a size of 28×28 pixels.\n",
    "- **Task:** Build a neural network model to classify these images into 10 digit classes (0–9)."
   ]
  },
  {
   "cell_type": "markdown",
   "id": "f22dea9b-13d4-4c76-b439-3fd7769d8194",
   "metadata": {},
   "source": [
    "**Solution Steps**\n",
    "\n",
    "1. Load and preprocess the MNIST data. Visualise a few sample images along with their labels and shapes.\n",
    "3. Define model.\n",
    "4. Train model with training set, that predicts the digit from each image.\n",
    "5. Evaluate model's performance on a test set."
   ]
  },
  {
   "cell_type": "code",
   "execution_count": 24,
   "id": "4f5ef6e6-dfa9-491e-936d-76e4cef3208b",
   "metadata": {},
   "outputs": [],
   "source": [
    "# import libraries\n",
    "import torch\n",
    "import torch.nn as nn\n",
    "import torch.nn.functional as F\n",
    "import torch.optim as optim\n",
    "from torchvision import datasets, transforms\n",
    "import numpy as np\n",
    "import matplotlib.pyplot as plt\n",
    "from tqdm import tqdm"
   ]
  },
  {
   "cell_type": "code",
   "execution_count": 25,
   "id": "39589646-1ea8-4169-840c-af8b3281615a",
   "metadata": {},
   "outputs": [
    {
     "data": {
      "text/plain": [
       "<torch._C.Generator at 0x7c5905c441f0>"
      ]
     },
     "execution_count": 25,
     "metadata": {},
     "output_type": "execute_result"
    }
   ],
   "source": [
    "# fix random seeds for reproducibility\n",
    "np.random.seed(1)\n",
    "torch.manual_seed(1)"
   ]
  },
  {
   "cell_type": "code",
   "execution_count": 26,
   "id": "17fe7097-e530-4db4-8ac3-3c5870a66b59",
   "metadata": {},
   "outputs": [],
   "source": [
    "# set device. (not necessary for this course)\n",
    "device = \"cuda\" if torch.cuda.is_available() else \"cpu\""
   ]
  },
  {
   "cell_type": "markdown",
   "id": "6ba874bd-6d66-438a-9093-eca60b0b2f07",
   "metadata": {},
   "source": [
    "### Load and Preprocess Data <a class=\"anchor\" id=\"load-and-preprocess-data\"></a>"
   ]
  },
  {
   "cell_type": "code",
   "execution_count": 27,
   "id": "78495078-ff20-4e9e-9141-a0d7dac9a1e3",
   "metadata": {},
   "outputs": [],
   "source": [
    "batch_size = 128"
   ]
  },
  {
   "cell_type": "code",
   "execution_count": 28,
   "id": "c47aaf8a-c72a-4464-beb4-d99039efbd0f",
   "metadata": {},
   "outputs": [],
   "source": [
    "transform = transforms.Compose([transforms.ToTensor(), transforms.Normalize((0.1307,), (0.3081,))])\n",
    "\n",
    "dataset1 = datasets.MNIST(\"data\", train=True, download=True, transform=transform)\n",
    "dataset2 = datasets.MNIST(\"data\", train=False, transform=transform)\n",
    "\n",
    "train_loader = torch.utils.data.DataLoader(dataset1, batch_size=batch_size)\n",
    "test_loader = torch.utils.data.DataLoader(dataset2, batch_size=batch_size)"
   ]
  },
  {
   "cell_type": "code",
   "execution_count": 29,
   "id": "b72a84a6-6c7e-4ac3-9952-2b81aecbff7c",
   "metadata": {},
   "outputs": [
    {
     "name": "stdout",
     "output_type": "stream",
     "text": [
      "Image Shape:  torch.Size([1, 28, 28])\n",
      "Image Label:  5\n"
     ]
    }
   ],
   "source": [
    "img, label = dataset1[0]\n",
    "print(\"Image Shape: \", img.shape)\n",
    "print(\"Image Label: \", label)"
   ]
  },
  {
   "cell_type": "code",
   "execution_count": 30,
   "id": "5bbee650-96db-4172-a1b4-c32322a7beb2",
   "metadata": {},
   "outputs": [
    {
     "data": {
      "image/png": "[encoded data removed]",
      "text/plain": [
       "<Figure size 600x600 with 4 Axes>"
      ]
     },
     "metadata": {},
     "output_type": "display_data"
    }
   ],
   "source": [
    "# Visualise data we are working with\n",
    "\n",
    "# Create a 2x2 grid of subplots\n",
    "fig, axes = plt.subplots(2, 2, figsize=(6, 6))\n",
    "# Add title\n",
    "fig.suptitle(\"Data Visualisation\", fontsize=16) \n",
    "\n",
    "# Loop over the first 4 images in the dataset\n",
    "for i, ax in enumerate(axes.flatten()):\n",
    "    img, label = dataset1[i]\n",
    "    # Each image originally has torch.Size([1, 28, 28]) shape.\n",
    "    ax.imshow(img.squeeze(), cmap=\"gray\")\n",
    "    # Set title for each subplot\n",
    "    ax.set_title(f\"True Label: {label}\")\n",
    "\n",
    "# Automatically adjust spacing between subplots\n",
    "plt.tight_layout()\n",
    "# Show plot\n",
    "plt.show()"
   ]
  },
  {
   "cell_type": "markdown",
   "id": "54b99b6c-1e85-459b-9ae3-af8b042c6952",
   "metadata": {},
   "source": [
    "### Define model <a class=\"anchor\" id=\"define-model\"></a>"
   ]
  },
  {
   "cell_type": "markdown",
   "id": "2c1184e3-c176-4226-9ec7-613e76a34672",
   "metadata": {},
   "source": [
    "- A Fully connected neural network designed for classification tasks like MNIST digit recognition.\n",
    "- Model expects input to be flattened into 784-dimensional vector (each image has 28x28 shape).\n",
    "- Model outputs 10 neurons corresponding to 10 classes (digits 0-9).\n",
    "- Has 3 Linear layers.\n",
    "- Has 2 ReLU activation functions."
   ]
  },
  {
   "cell_type": "code",
   "execution_count": 31,
   "id": "8204e7c6-287c-4fe8-b079-ca24c80a774e",
   "metadata": {},
   "outputs": [],
   "source": [
    "class Net(nn.Module):\n",
    "    def __init__(self):\n",
    "        super().__init__()\n",
    "        self.layers = nn.Sequential(\n",
    "            nn.Linear(784, 400), \n",
    "            nn.ReLU(), \n",
    "            nn.Linear(400, 400), \n",
    "            nn.ReLU(), \n",
    "            nn.Linear(400, 10)\n",
    "        )\n",
    "\n",
    "    def forward(self, x):\n",
    "        x = torch.flatten(x, 1)\n",
    "        x = self.layers(x)\n",
    "        return x\n",
    "\n",
    "model = Net().to(device)"
   ]
  },
  {
   "cell_type": "markdown",
   "id": "a5f35923-ed94-4879-aa95-92afa2412bae",
   "metadata": {},
   "source": [
    "**Working with gradients**"
   ]
  },
  {
   "cell_type": "markdown",
   "id": "1f0168fe-d230-4f88-bd90-5dd652428b89",
   "metadata": {},
   "source": [
    "- Below loop iterates over all trainable parameters (weights and biases) in the model.\n",
    "- It prints gradient associated with each parameter which is computed after backpropagation."
   ]
  },
  {
   "cell_type": "code",
   "execution_count": 32,
   "id": "79d5e915-ba80-4089-948f-870b890d9b03",
   "metadata": {},
   "outputs": [
    {
     "name": "stdout",
     "output_type": "stream",
     "text": [
      "None\n",
      "None\n",
      "None\n",
      "None\n",
      "None\n",
      "None\n"
     ]
    }
   ],
   "source": [
    "# Model has six params in total\n",
    "# 1 weight, 1 bias param per linear layer. Model has 3 linear layers.\n",
    "for param in model.parameters():\n",
    "    # Print gradients of each param\n",
    "    print(param.grad)"
   ]
  },
  {
   "cell_type": "code",
   "execution_count": 33,
   "id": "99e99f53-bdac-4255-a878-62a9eea14d2a",
   "metadata": {
    "scrolled": true
   },
   "outputs": [
    {
     "name": "stdout",
     "output_type": "stream",
     "text": [
      "tensor([[ 0.0065, -0.0061, -0.0072,  ...,  0.0050,  0.0116,  0.0210],\n",
      "        [-0.0184,  0.0028,  0.0375,  ..., -0.0288, -0.0671, -0.0926],\n",
      "        [-0.0057,  0.0054,  0.0064,  ..., -0.0044, -0.0103, -0.0185],\n",
      "        ...,\n",
      "        [ 0.0525, -0.1325,  0.0388,  ..., -0.0437, -0.1011, -0.0182],\n",
      "        [-0.0036,  0.0112, -0.0051,  ...,  0.0051,  0.0119,  0.0061],\n",
      "        [ 0.0064, -0.0146,  0.0028,  ..., -0.0037, -0.0085,  0.0015]])\n",
      "tensor([-1.1024e-02,  5.9864e-02,  9.7241e-03,  0.0000e+00,  9.5465e-02,\n",
      "         9.7426e-02,  1.1574e-02, -4.6675e-02,  6.5430e-02, -4.1396e-02,\n",
      "        -1.3757e-02,  0.0000e+00,  7.0411e-02,  0.0000e+00,  3.1817e-02,\n",
      "         0.0000e+00,  0.0000e+00,  0.0000e+00,  0.0000e+00,  2.1864e-02,\n",
      "        -1.6706e-02,  6.2334e-02, -4.2357e-02, -9.9804e-03,  0.0000e+00,\n",
      "         1.0689e-02,  0.0000e+00,  2.2966e-02,  3.1646e-02,  1.7688e-02,\n",
      "         0.0000e+00,  4.2324e-02,  0.0000e+00,  3.0203e-02, -3.9801e-02,\n",
      "        -4.8417e-02, -1.3152e-02,  6.9150e-02,  2.6114e-02,  1.9412e-02,\n",
      "        -8.7995e-03, -1.7779e-02,  0.0000e+00, -1.5866e-01, -3.3572e-02,\n",
      "        -5.8206e-02,  5.5954e-02,  2.1210e-03,  0.0000e+00, -3.1200e-02,\n",
      "         0.0000e+00, -9.0944e-02, -8.1130e-02,  0.0000e+00, -8.6089e-02,\n",
      "         1.1810e-02, -6.0531e-02, -6.8480e-03,  2.6943e-03,  0.0000e+00,\n",
      "         0.0000e+00,  0.0000e+00, -8.1761e-02,  0.0000e+00, -9.1674e-03,\n",
      "        -1.4155e-02, -4.6626e-02, -1.3044e-03,  4.0302e-02,  1.9631e-02,\n",
      "         5.8008e-02,  1.3664e-03,  3.9487e-02,  0.0000e+00,  0.0000e+00,\n",
      "        -2.0482e-02, -3.1071e-02, -8.8760e-02,  7.0272e-02, -4.6572e-02,\n",
      "         0.0000e+00, -6.6254e-03, -5.9216e-02, -2.7776e-03, -1.7438e-03,\n",
      "         5.9564e-02,  4.3696e-03,  0.0000e+00, -1.3989e-01, -2.6255e-02,\n",
      "         8.9412e-02,  1.6060e-02, -5.5984e-02,  1.3495e-01, -1.3165e-02,\n",
      "         1.9503e-02, -7.1313e-02,  5.6252e-02, -9.9298e-02, -3.6095e-02,\n",
      "         0.0000e+00,  4.7309e-02,  2.0612e-02,  0.0000e+00,  0.0000e+00,\n",
      "        -8.4858e-02,  0.0000e+00,  0.0000e+00,  5.5962e-02,  1.3224e-02,\n",
      "         0.0000e+00,  7.1299e-02,  0.0000e+00,  0.0000e+00, -2.6019e-02,\n",
      "        -6.2795e-03,  1.5019e-02, -4.2270e-02,  4.0792e-02, -4.1044e-03,\n",
      "        -3.3644e-02,  3.5864e-02, -4.4124e-03,  0.0000e+00, -6.9532e-03,\n",
      "         4.3394e-02,  0.0000e+00,  0.0000e+00,  0.0000e+00,  0.0000e+00,\n",
      "         2.0883e-02,  1.0416e-02,  1.6700e-02,  0.0000e+00,  0.0000e+00,\n",
      "         2.2804e-01, -9.8805e-03, -2.0077e-02,  1.8577e-02,  0.0000e+00,\n",
      "        -2.1011e-03,  0.0000e+00, -4.9475e-02,  6.5518e-02,  2.0329e-02,\n",
      "         1.0132e-01,  0.0000e+00,  1.0779e-01,  4.7917e-02,  0.0000e+00,\n",
      "         6.1911e-03,  9.7318e-02, -2.4924e-02, -6.3056e-02,  0.0000e+00,\n",
      "         5.0405e-02,  3.8282e-02,  4.9437e-03,  4.1019e-03, -1.2477e-01,\n",
      "        -2.8874e-02,  4.4172e-03, -5.3178e-02,  1.1561e-01, -4.5284e-02,\n",
      "         0.0000e+00,  0.0000e+00, -3.3415e-02,  2.9231e-02,  1.4069e-02,\n",
      "         1.1806e-01, -9.6172e-03, -2.6482e-02,  0.0000e+00, -7.7890e-02,\n",
      "        -5.7300e-02,  6.8599e-02,  9.2391e-02, -4.7792e-02,  1.9379e-01,\n",
      "        -1.2363e-02, -3.1733e-02, -2.8538e-02, -5.0101e-02,  3.0449e-02,\n",
      "        -3.9474e-03, -3.3448e-02,  2.8524e-02, -1.4399e-02,  0.0000e+00,\n",
      "         0.0000e+00,  5.2518e-04,  9.6753e-03, -1.3206e-02, -7.4033e-02,\n",
      "        -5.7939e-02,  0.0000e+00, -7.2803e-02, -5.1881e-02,  4.1507e-02,\n",
      "         1.9216e-02,  0.0000e+00,  0.0000e+00,  2.6009e-02, -4.5098e-02,\n",
      "         0.0000e+00,  0.0000e+00,  9.7387e-02, -8.3623e-03,  2.1272e-02,\n",
      "        -1.1440e-02,  3.2470e-02,  3.3972e-02,  0.0000e+00, -2.1713e-02,\n",
      "         6.6860e-02,  3.7227e-02,  8.5169e-02,  5.1694e-02,  0.0000e+00,\n",
      "        -3.0411e-02,  3.6589e-02, -2.6944e-02,  2.5900e-02,  0.0000e+00,\n",
      "         2.6535e-02,  0.0000e+00, -1.5037e-02,  9.3051e-03, -1.5696e-02,\n",
      "         5.5809e-02,  0.0000e+00, -7.3474e-02,  1.0224e-01,  5.0213e-02,\n",
      "         3.1764e-02, -3.4013e-02,  8.3441e-02,  2.7977e-02, -3.1203e-02,\n",
      "         1.9057e-02,  1.8173e-02,  0.0000e+00,  6.8681e-02,  6.8803e-04,\n",
      "         0.0000e+00,  0.0000e+00, -1.0984e-01,  1.1821e-02,  0.0000e+00,\n",
      "         0.0000e+00,  8.6076e-02, -8.7202e-02,  2.1806e-02, -2.7756e-03,\n",
      "        -6.2807e-02,  0.0000e+00, -4.5310e-02, -3.7802e-02,  2.8661e-02,\n",
      "        -3.4666e-02,  0.0000e+00,  7.3429e-03, -6.2322e-02,  0.0000e+00,\n",
      "        -6.1062e-03,  8.7326e-03,  1.8460e-02,  5.0475e-02, -1.5907e-06,\n",
      "         8.5969e-02, -7.3876e-02,  2.9192e-02,  1.2892e-01, -3.9473e-02,\n",
      "         0.0000e+00,  3.0012e-02,  3.6198e-02, -3.8653e-02, -1.2462e-01,\n",
      "        -7.0464e-03,  0.0000e+00,  5.6933e-02, -2.4481e-02,  1.6443e-02,\n",
      "        -1.4108e-02, -5.1079e-02,  2.4598e-02,  0.0000e+00,  4.5016e-03,\n",
      "        -5.9044e-02,  0.0000e+00, -6.6412e-02,  1.2624e-02, -8.6737e-02,\n",
      "        -8.9984e-03, -6.1937e-02,  2.7799e-02, -3.4505e-02,  4.2930e-02,\n",
      "         3.5377e-02,  5.0781e-03,  6.7997e-02, -6.6879e-02, -4.6081e-02,\n",
      "         1.0223e-02, -1.9894e-02, -1.4127e-02, -1.2700e-01,  0.0000e+00,\n",
      "         0.0000e+00,  4.0010e-02, -2.5890e-02,  4.6872e-02,  0.0000e+00,\n",
      "        -9.7593e-02, -1.7403e-02, -2.6656e-03,  2.9824e-02,  4.5400e-02,\n",
      "        -2.1341e-02, -5.0769e-02,  1.9444e-02,  0.0000e+00, -3.2951e-02,\n",
      "        -3.5162e-02,  2.4765e-02, -6.9409e-03, -8.7741e-02, -5.5429e-02,\n",
      "         1.3182e-01,  3.7413e-02,  0.0000e+00, -1.2725e-01,  0.0000e+00,\n",
      "         0.0000e+00,  2.9661e-02,  3.3317e-03,  2.1459e-03,  0.0000e+00,\n",
      "         9.5041e-02,  0.0000e+00, -1.0778e-01,  0.0000e+00,  3.5002e-02,\n",
      "         4.3746e-02,  5.7025e-02,  1.0426e-01, -6.4472e-02, -5.4515e-02,\n",
      "        -1.9154e-02, -1.4078e-03,  2.4715e-02, -4.0663e-02,  9.4438e-02,\n",
      "        -6.0619e-02,  7.3639e-02,  9.2692e-02,  1.0097e-02,  0.0000e+00,\n",
      "         2.1842e-02,  3.6264e-02,  2.6365e-02,  0.0000e+00, -9.3490e-03,\n",
      "         3.9970e-02,  1.1953e-01, -2.0038e-02, -3.2020e-02,  7.6381e-02,\n",
      "        -3.2713e-02,  0.0000e+00, -7.6118e-02,  4.8012e-02,  3.8628e-02,\n",
      "         3.7911e-02,  1.1796e-02,  0.0000e+00,  0.0000e+00,  1.9365e-02,\n",
      "         0.0000e+00,  0.0000e+00,  0.0000e+00, -5.9735e-02,  1.9621e-02,\n",
      "        -3.6877e-02, -1.9937e-02,  0.0000e+00, -6.7238e-03, -4.0422e-02,\n",
      "        -8.2756e-03,  0.0000e+00, -2.9956e-02, -2.8629e-02, -8.3738e-02,\n",
      "        -9.8412e-02,  0.0000e+00,  7.3981e-02, -9.2429e-03,  5.8011e-03])\n",
      "tensor([[ 0.0000,  0.0000,  0.0000,  ...,  0.0000,  0.0000,  0.0000],\n",
      "        [ 0.0000, -0.0027,  0.0000,  ..., -0.0201, -0.0432, -0.0286],\n",
      "        [ 0.0000,  0.0041,  0.0000,  ...,  0.0304,  0.0654,  0.0433],\n",
      "        ...,\n",
      "        [-0.0195, -0.0504, -0.0221,  ..., -0.0121, -0.0569,  0.0000],\n",
      "        [ 0.0000,  0.0000,  0.0000,  ...,  0.0000,  0.0000,  0.0000],\n",
      "        [ 0.0255,  0.0713,  0.0290,  ...,  0.0554,  0.1595,  0.0564]])\n",
      "tensor([ 0.0000e+00, -4.0518e-02,  6.1296e-02,  0.0000e+00,  7.4673e-03,\n",
      "        -1.3788e-01,  0.0000e+00,  0.0000e+00, -6.5909e-02, -6.3113e-02,\n",
      "         1.5930e-01, -2.3268e-01,  1.7157e-01,  0.0000e+00,  8.1876e-02,\n",
      "         2.1502e-01,  1.2609e-01, -1.3077e-01,  1.9320e-03,  1.4070e-01,\n",
      "         9.0241e-02,  3.2752e-02,  9.2526e-02, -1.7788e-02, -7.8494e-02,\n",
      "         0.0000e+00, -1.6222e-03, -5.6321e-02,  8.4702e-02,  7.7615e-02,\n",
      "        -3.2196e-02,  0.0000e+00, -2.9798e-02, -3.8709e-02,  0.0000e+00,\n",
      "        -7.1294e-02,  1.7144e-01,  1.7406e-01, -2.2388e-01, -2.3468e-02,\n",
      "         0.0000e+00, -1.0418e-01,  4.9079e-02, -3.7979e-02, -1.0070e-01,\n",
      "         0.0000e+00,  8.0026e-02, -3.9008e-02,  0.0000e+00,  2.8291e-02,\n",
      "         5.8273e-02,  0.0000e+00,  0.0000e+00,  1.4445e-01,  0.0000e+00,\n",
      "         0.0000e+00,  9.1069e-02, -1.5330e-03,  0.0000e+00,  2.2556e-02,\n",
      "         0.0000e+00,  1.9910e-01, -1.8194e-01,  3.7692e-01, -1.1365e-01,\n",
      "         1.1802e-01,  2.2236e-02, -8.8721e-02,  3.4566e-02, -2.0444e-02,\n",
      "         0.0000e+00, -2.6348e-02,  0.0000e+00, -5.9948e-02,  0.0000e+00,\n",
      "        -2.4870e-02,  0.0000e+00,  1.0511e-01,  2.0700e-02,  0.0000e+00,\n",
      "         0.0000e+00,  0.0000e+00,  2.9204e-02, -5.1295e-03,  4.5092e-02,\n",
      "        -6.3037e-02,  3.7374e-02,  0.0000e+00,  1.7600e-01,  3.4263e-03,\n",
      "         2.1940e-01,  6.3364e-02, -3.4120e-01,  6.5093e-02,  0.0000e+00,\n",
      "         0.0000e+00,  0.0000e+00,  4.6485e-01,  1.6848e-01, -8.2771e-02,\n",
      "         1.7311e-02, -1.5508e-03, -5.4966e-02, -2.8068e-01,  0.0000e+00,\n",
      "         0.0000e+00,  0.0000e+00, -6.7395e-03,  0.0000e+00,  1.0876e-01,\n",
      "         0.0000e+00,  1.2187e-01, -1.2194e-02, -3.8170e-02,  5.5126e-03,\n",
      "         0.0000e+00,  0.0000e+00, -1.1110e-01,  0.0000e+00,  3.3061e-02,\n",
      "         0.0000e+00,  0.0000e+00,  7.0084e-02,  5.3182e-02,  0.0000e+00,\n",
      "        -6.7257e-02,  5.4945e-02, -1.2612e-01, -5.8449e-02, -1.5051e-01,\n",
      "         0.0000e+00,  3.4933e-01,  0.0000e+00,  3.9280e-02, -1.7705e-02,\n",
      "        -1.6889e-01,  6.4840e-02, -1.3377e-01, -9.1328e-02,  0.0000e+00,\n",
      "        -8.4654e-02,  0.0000e+00,  0.0000e+00, -1.4280e-01,  0.0000e+00,\n",
      "         0.0000e+00,  8.8463e-02,  4.1584e-02,  8.5386e-02,  0.0000e+00,\n",
      "        -1.3057e-01,  0.0000e+00,  1.9660e-01, -8.8585e-02, -8.7525e-03,\n",
      "        -1.3248e-01,  4.7997e-02, -8.9525e-02,  0.0000e+00, -2.1102e-01,\n",
      "         1.1151e-01,  6.4379e-02,  1.3386e-01, -6.0725e-02, -7.8825e-02,\n",
      "         1.7738e-01, -2.9939e-01, -3.6050e-02,  0.0000e+00,  0.0000e+00,\n",
      "         1.3376e-01,  0.0000e+00, -3.6868e-02,  1.1172e-01, -2.8636e-01,\n",
      "         1.2153e-02,  6.0232e-02, -4.3563e-02,  0.0000e+00,  1.5965e-02,\n",
      "         0.0000e+00,  0.0000e+00,  0.0000e+00,  1.3310e-01, -8.0201e-02,\n",
      "         1.3510e-01,  9.5656e-02,  1.0013e-01, -2.8755e-02, -2.0757e-01,\n",
      "         0.0000e+00,  0.0000e+00,  0.0000e+00,  0.0000e+00, -4.3712e-02,\n",
      "        -4.8571e-02, -2.6090e-01, -3.8057e-02,  1.3718e-01,  0.0000e+00,\n",
      "        -1.0874e-01,  4.8513e-02, -1.6642e-01, -1.3768e-02,  0.0000e+00,\n",
      "        -1.4727e-01, -9.5912e-02,  0.0000e+00, -4.7842e-02,  0.0000e+00,\n",
      "        -8.6288e-02, -3.0703e-02,  1.3188e-01,  1.2891e-01,  9.3961e-02,\n",
      "         0.0000e+00,  3.1871e-01, -8.5723e-03, -2.3054e-02, -3.3598e-02,\n",
      "         0.0000e+00,  8.6493e-02,  0.0000e+00,  0.0000e+00,  4.7785e-01,\n",
      "        -2.6073e-04, -5.8796e-03, -2.3482e-01, -1.9466e-01, -4.5016e-02,\n",
      "         0.0000e+00,  7.5057e-03,  3.0185e-02,  2.3456e-01, -2.4565e-01,\n",
      "         7.1821e-02,  0.0000e+00,  1.5220e-01,  6.6499e-02,  0.0000e+00,\n",
      "         0.0000e+00,  9.1827e-02, -5.2502e-02,  3.6781e-01,  0.0000e+00,\n",
      "         8.7908e-02,  0.0000e+00,  1.0951e-02, -2.0857e-01, -1.2467e-01,\n",
      "         8.2101e-02,  0.0000e+00,  0.0000e+00, -3.0643e-01, -1.8555e-01,\n",
      "         0.0000e+00,  1.7076e-01,  4.0968e-02,  6.6383e-02, -1.1678e-01,\n",
      "         3.1621e-02, -9.4611e-02,  5.8411e-02, -2.9566e-02,  4.6107e-02,\n",
      "         0.0000e+00,  1.3410e-01, -1.0486e-01, -1.4739e-01,  0.0000e+00,\n",
      "         0.0000e+00, -1.4405e-01,  3.2950e-01,  2.1839e-02, -1.4511e-01,\n",
      "         1.7798e-01,  1.5846e-01,  0.0000e+00,  3.2650e-01, -9.2184e-03,\n",
      "        -7.3872e-02,  1.1739e-01, -5.1848e-02,  3.5252e-02, -8.9034e-02,\n",
      "         0.0000e+00,  0.0000e+00,  0.0000e+00,  0.0000e+00, -1.6336e-01,\n",
      "         0.0000e+00, -8.0848e-02,  6.7847e-02,  1.9858e-01, -3.8357e-02,\n",
      "         9.7293e-02,  0.0000e+00,  1.6524e-01, -6.9654e-03,  1.6981e-01,\n",
      "        -3.6543e-03,  0.0000e+00,  0.0000e+00,  2.3789e-02,  3.5025e-01,\n",
      "         8.4813e-02, -1.1160e-01,  9.3975e-02,  2.4975e-01,  5.3513e-02,\n",
      "        -4.3832e-03,  1.4671e-01,  0.0000e+00,  5.3089e-02,  2.2285e-01,\n",
      "         1.1945e-01,  0.0000e+00,  2.0508e-02, -4.1742e-02,  0.0000e+00,\n",
      "         0.0000e+00,  0.0000e+00,  2.4242e-02,  6.7951e-02,  0.0000e+00,\n",
      "         5.4153e-02,  0.0000e+00,  4.2902e-02, -1.3193e-02, -1.0052e-01,\n",
      "         4.5043e-02,  1.1712e-01,  0.0000e+00,  0.0000e+00,  2.1718e-01,\n",
      "        -2.5625e-01,  2.2966e-01, -1.5129e-01,  0.0000e+00,  1.5314e-01,\n",
      "        -9.0043e-03,  2.0471e-02, -5.0391e-02,  1.0484e-01, -2.8296e-01,\n",
      "         0.0000e+00,  4.9821e-02, -3.6107e-02, -1.5073e-01,  1.3168e-01,\n",
      "         4.5672e-01, -3.1571e-01, -8.6676e-02,  0.0000e+00,  6.3433e-02,\n",
      "         7.7628e-02,  9.2582e-02, -4.9681e-02,  0.0000e+00,  0.0000e+00,\n",
      "         9.5706e-02,  0.0000e+00, -2.1352e-01, -3.1363e-02, -7.3250e-02,\n",
      "         1.2909e-01, -1.4979e-01,  4.1231e-01, -1.3023e-01,  0.0000e+00,\n",
      "         1.3189e-01,  0.0000e+00,  1.2061e-01,  4.1358e-02, -1.1923e-01,\n",
      "         9.4270e-02,  1.9957e-01, -7.6475e-02,  7.5892e-02,  4.0925e-02,\n",
      "        -1.0503e-01,  2.4583e-01, -4.5097e-01,  2.7474e-01,  0.0000e+00,\n",
      "         8.4052e-03, -4.0286e-02,  0.0000e+00,  0.0000e+00,  1.6369e-02,\n",
      "         2.1767e-02, -1.0018e-01,  8.2396e-02, -7.8419e-02, -5.5478e-02,\n",
      "         7.1167e-02,  3.1426e-01, -6.1052e-02,  0.0000e+00,  1.5962e-01])\n",
      "tensor([[0.0000, 0.0162, 0.0918,  ..., 0.0766, 0.0000, 1.1171],\n",
      "        [0.0000, 0.0162, 0.0918,  ..., 0.0766, 0.0000, 1.1171],\n",
      "        [0.0000, 0.0162, 0.0918,  ..., 0.0766, 0.0000, 1.1171],\n",
      "        ...,\n",
      "        [0.0000, 0.0162, 0.0918,  ..., 0.0766, 0.0000, 1.1171],\n",
      "        [0.0000, 0.0162, 0.0918,  ..., 0.0766, 0.0000, 1.1171],\n",
      "        [0.0000, 0.0162, 0.0918,  ..., 0.0766, 0.0000, 1.1171]])\n",
      "tensor([2., 2., 2., 2., 2., 2., 2., 2., 2., 2.])\n"
     ]
    }
   ],
   "source": [
    "# Create a dummy input tensor to simulate a batch of 2 images.\n",
    "input = torch.randn((2, 784), device=device) # images are flattened\n",
    "\n",
    "# # dummy loss\n",
    "loss = torch.sum(model(input))\n",
    "\n",
    "# Compute the gradients via backpropagation.\n",
    "# This calculates how loss changes w.r.t. each parameter in the model.\n",
    "loss.backward()\n",
    "\n",
    "# Print gradients\n",
    "for param in model.parameters():\n",
    "    print(param.grad)"
   ]
  },
  {
   "cell_type": "code",
   "execution_count": 34,
   "id": "82dcab6e-04a9-4f9b-b9e7-03e3c492f56b",
   "metadata": {
    "scrolled": true
   },
   "outputs": [
    {
     "name": "stdout",
     "output_type": "stream",
     "text": [
      "tensor([[ 0.7628, -1.1152, -0.0899,  ..., -0.2894,  0.9058,  1.1348],\n",
      "        [-0.6042,  0.0198, -0.6665,  ..., -0.5847, -0.1911,  0.3612],\n",
      "        [ 2.2067,  1.3721, -0.1284,  ..., -0.4746, -0.9477,  0.6298],\n",
      "        ...,\n",
      "        [ 0.0727,  0.2161, -0.5722,  ..., -1.6264,  0.5801,  0.4671],\n",
      "        [ 1.3423, -1.9695,  1.2200,  ..., -0.7267, -2.0478,  0.1924],\n",
      "        [ 0.7057, -0.4455,  0.6319,  ...,  0.5382,  0.7824,  0.9663]])\n",
      "tensor([-0.9982,  0.8160, -0.7544,  0.8091, -1.2163, -0.7655, -0.1191,  1.9221,\n",
      "        -0.4677,  0.6915, -0.1015,  0.7058,  2.7172, -1.6156,  0.5550,  1.2531,\n",
      "         1.1468,  1.0431,  0.5607,  0.6595,  0.5505, -0.5893,  0.5088,  1.0610,\n",
      "        -0.1412, -0.3350,  0.4065,  0.1955,  0.7307,  0.5519,  0.6427, -1.6109,\n",
      "         0.1700, -0.2317, -1.0877, -0.0698, -1.2753, -1.2869,  1.0607,  1.7469,\n",
      "         0.3762, -0.3096,  0.4794, -0.6773,  0.8211,  0.5543,  0.0488, -2.3112,\n",
      "        -0.3182, -0.6208,  0.2747,  0.2177, -0.5494,  0.1103, -2.5085,  1.2653,\n",
      "         1.1167, -1.4830, -0.1360, -1.1101,  1.0482, -0.4129, -0.7583,  0.0171,\n",
      "         0.4188,  1.2276,  1.4671,  1.0559,  0.9312,  0.9718, -0.5949,  0.8477,\n",
      "        -0.9151,  0.3837,  0.8585,  0.6712, -0.5970,  1.5265, -1.1230,  0.6563,\n",
      "         0.1289, -0.0868,  1.0167,  0.5731,  0.5090,  0.0734,  0.8438,  0.6285,\n",
      "        -0.3362,  0.7221, -0.7969,  1.0313,  0.1738,  1.0839,  1.1120, -0.4505,\n",
      "         0.1785, -0.7627, -0.0693, -0.1367,  0.7647,  0.8148, -0.5724,  1.6417,\n",
      "        -0.9882,  0.1518,  0.5895,  0.9844, -0.8720,  1.8652,  0.0935, -1.7235,\n",
      "        -0.1053, -0.2922, -1.8614,  0.3984,  0.6031,  0.8568,  1.0440, -0.8698,\n",
      "        -2.3598, -1.4487,  1.2164, -1.2135, -0.6549, -0.6882, -0.1107,  0.6166,\n",
      "         2.0247, -0.6955, -0.5215,  0.1292, -0.1614,  0.2529, -0.9868,  0.7733,\n",
      "        -0.1575,  0.6033, -1.4315,  0.3443,  1.2999,  0.4192, -0.2828,  0.0255,\n",
      "         0.7887, -1.6374, -0.5030, -0.1263,  0.6874,  0.8982, -0.8215,  0.1644,\n",
      "        -0.7064,  1.0401,  1.4349,  2.1683,  0.5649, -1.0712,  0.6029,  0.1946,\n",
      "         0.6612,  0.0396, -0.3523,  0.1247,  1.0821,  0.9756,  0.5906, -0.0684,\n",
      "        -0.0747, -1.5756,  2.3737,  1.0395, -0.5799,  2.3219,  1.3870, -0.4772,\n",
      "        -0.7905, -0.9995, -1.4203, -0.4323, -0.0850,  1.1816,  0.8568, -0.9328,\n",
      "         1.0382,  0.1019,  1.3935, -0.2221,  0.4555, -0.9889,  2.8152,  0.2070,\n",
      "         0.6451,  1.6304, -0.3417,  1.0336,  1.0365, -0.1421,  0.3756,  0.7134,\n",
      "         0.1704, -0.2359, -0.7542,  0.4538,  1.0993, -0.1954,  1.9109,  0.5138,\n",
      "        -0.2426,  1.2312,  0.3623, -0.5762,  0.8745, -2.0616, -2.5705,  0.0553,\n",
      "         0.4618, -0.6118,  1.4991,  0.6956, -2.5970, -1.2179, -0.4319,  0.7285,\n",
      "        -0.5169,  0.7830, -1.4057, -0.3395, -0.2617, -1.9857, -0.2713,  0.5217,\n",
      "         0.8871, -1.5516,  0.1127,  0.9680, -0.9776, -0.8124, -0.4963, -0.1066,\n",
      "        -0.8235, -0.1626, -0.3956,  0.0210,  0.1543, -0.2212, -0.1765,  0.3253,\n",
      "         1.2271,  0.0918, -1.6474, -0.4312, -0.1754,  0.2510, -0.8734, -0.1307,\n",
      "        -0.3074, -0.6956,  1.5762,  2.4715,  0.3675, -0.9357, -1.5875, -0.8459,\n",
      "         1.4127,  0.2638,  0.5855,  0.2051,  0.9481,  1.5640, -0.8529,  0.6807,\n",
      "        -0.3857, -0.0188,  0.9277,  1.3230, -0.3360, -0.2424,  0.3484,  0.0558,\n",
      "         0.3479,  1.2264,  1.2621, -0.5899,  0.6285,  0.7877,  0.9934,  0.5964,\n",
      "         0.2605, -1.3687, -0.4037,  1.1236, -1.2508, -1.2320,  1.8259,  0.6883,\n",
      "        -0.2896, -0.7232, -0.6054, -2.1268, -1.6675,  1.5237,  1.5560,  1.7097,\n",
      "         0.3298,  1.3614,  0.6871, -1.5718,  0.6818,  1.1349,  1.2668, -0.4627,\n",
      "        -0.9816,  1.3216,  0.0057, -0.6520,  1.4043,  2.0326, -0.0166, -0.7758,\n",
      "        -1.0922,  0.3753, -0.4180, -1.3940,  0.9882,  0.0816, -1.1446, -0.3533,\n",
      "        -0.5720,  0.4166, -0.1906,  0.1187, -0.8347,  0.6374, -0.1076,  0.3146,\n",
      "        -0.0484,  0.4759,  0.4682,  0.8794,  0.1015, -0.1586, -0.6022,  0.4971,\n",
      "         0.6885, -0.6572, -0.6906,  0.1602, -1.3919,  0.1512, -0.2547, -2.0142,\n",
      "         0.6825,  0.7797,  0.8884,  0.3602, -1.6746,  1.2040,  0.9571, -0.0245,\n",
      "         1.1164,  0.4387, -0.2679, -0.9808,  1.3282,  1.3507,  1.3300, -0.8009,\n",
      "         1.4346, -0.5909,  0.8516, -0.7720, -0.1657, -1.0334,  1.9715, -0.2168,\n",
      "        -1.2381,  0.6991,  0.5260, -0.4689, -0.1370, -0.0248,  1.6285, -0.0547,\n",
      "         0.6684, -1.5221,  0.5702, -0.1887,  0.4085, -0.2744,  0.2352,  0.0573,\n",
      "        -1.9312,  1.1641, -1.4684, -1.0721,  0.0618, -0.8687, -1.4350,  1.2294])\n",
      "tensor([[-0.3420, -0.6035,  0.0855,  ...,  0.4205, -0.7323,  1.5277],\n",
      "        [ 1.1096,  1.1533, -0.0319,  ..., -0.2876, -1.7598, -0.1808],\n",
      "        [-0.1701,  0.2877, -0.9243,  ..., -1.0501, -1.1442, -0.3650],\n",
      "        ...,\n",
      "        [-1.2265, -2.0644,  1.9984,  ..., -1.2603, -0.8111, -2.4565],\n",
      "        [ 0.5479,  2.4225,  1.8130,  ..., -0.0725, -1.4426, -1.4438],\n",
      "        [-0.3559, -0.4182,  0.3735,  ..., -1.9062,  1.0771, -1.0203]])\n",
      "tensor([-0.1616,  1.6020,  0.4682,  0.8059,  3.1300,  2.3025,  0.0246, -0.7034,\n",
      "         0.5952,  0.5453,  0.1981, -0.0386, -0.6120, -0.3863, -0.8500, -0.5680,\n",
      "         0.7206,  0.6270, -0.3183,  1.9151, -0.8392,  1.1759, -0.6407,  0.5743,\n",
      "         0.1065, -0.2574,  0.7073,  0.8433, -0.7228,  0.4642, -1.4778,  1.4921,\n",
      "        -1.6114,  0.8756,  0.6935,  0.0222,  1.2262, -0.0320,  1.5532, -0.4439,\n",
      "         0.3667, -0.1104, -1.0038, -0.0515, -1.7636,  0.2658,  0.4191,  0.3533,\n",
      "         0.0618, -0.5596,  0.1243,  0.4125, -0.1411,  0.7013, -0.7400, -0.7075,\n",
      "         0.5259,  0.2889, -1.5691, -0.5861, -1.7976,  0.4018,  2.2387, -0.9675,\n",
      "        -0.6319, -1.3658, -1.8402,  1.5037,  0.0910, -1.3277,  0.8611, -0.4580,\n",
      "         1.3018,  0.3426, -0.4396, -0.3695,  1.0592,  0.6904,  1.2002,  0.6213,\n",
      "         1.0959, -0.0228, -0.3622, -0.9073, -2.5565, -2.6610,  0.0143,  0.5417,\n",
      "        -0.3819, -1.3568,  1.5714, -1.5483, -2.4262,  0.4634, -0.0482, -0.1240,\n",
      "        -0.4949, -0.6849,  1.0648, -1.0329,  0.1740, -1.0263, -0.0860, -0.8204,\n",
      "        -0.0561,  0.2626, -0.2545, -0.0950,  0.4820,  0.8567, -0.5429,  2.4858,\n",
      "        -0.2528,  0.2329, -2.5315, -1.4908, -0.3884, -1.2728,  0.5289,  0.6909,\n",
      "         1.2968,  0.6828,  0.8463, -0.0601, -1.1632,  0.1968, -0.0872, -0.4108,\n",
      "         0.5757,  0.0337, -1.6646,  0.5771, -0.3494,  1.4341,  2.2014,  0.6318,\n",
      "        -2.7887,  0.2546, -0.3464,  0.2727, -0.5875, -0.3368,  0.0592,  1.2502,\n",
      "        -0.1568,  0.7649,  1.8679, -1.0163, -0.1429, -3.6054, -0.3985,  1.1583,\n",
      "         1.7060, -1.2487,  2.5210, -0.6577,  1.8596, -0.5808,  0.3191,  0.4460,\n",
      "         1.7865,  1.2740,  0.5270, -0.1456, -0.9706, -1.8427,  1.1171,  0.7536,\n",
      "         0.1552,  1.0104,  1.6809,  1.4088,  0.3407, -0.9026, -0.5808,  1.8353,\n",
      "        -1.4304,  0.5107,  1.1908, -0.3465, -0.3127, -0.0823, -0.0564,  1.6415,\n",
      "         0.5267, -0.8330,  1.3588, -0.3276, -0.2861,  0.9554,  0.8794,  2.1206,\n",
      "         1.0100, -0.9774, -0.3213, -0.8521,  0.7257, -0.2696, -0.9704,  0.8790,\n",
      "         0.2852, -0.4694, -1.1611,  1.8933,  0.6510, -0.5166,  0.3125,  1.4808,\n",
      "        -0.7836,  1.1020,  0.1918,  1.2278, -0.0844, -1.6035, -0.4179, -0.0423,\n",
      "        -0.0066,  0.3134, -1.2341,  2.3828, -0.9758,  1.0640, -0.9326, -0.8310,\n",
      "         0.0786,  1.1806, -0.3367,  0.0283, -2.2390, -0.5710, -0.8324,  0.7644,\n",
      "         0.0685,  1.2004, -0.6741,  0.6310, -0.9745,  2.0312,  1.2255,  0.3401,\n",
      "        -0.9499, -0.2122,  1.8431,  1.2586,  0.4010, -0.8067,  0.9508, -0.3840,\n",
      "        -2.7825,  2.7850, -1.3028,  0.0112, -0.9760, -0.8884, -0.4829, -1.5750,\n",
      "        -0.8581, -0.3546,  0.0216,  0.5219,  1.9587,  0.1859,  1.4164, -0.4931,\n",
      "        -0.4754, -0.8048, -0.6420, -0.1978, -1.9279,  0.1149,  0.4545,  0.0867,\n",
      "        -1.5607,  1.5258, -0.5147, -2.5218,  1.4581,  0.3853, -0.1426, -1.2493,\n",
      "         0.2506,  2.0640,  0.7782, -1.4698, -0.1959, -1.5116,  0.4481, -0.7181,\n",
      "         1.8439, -0.0642,  0.3222,  1.8806, -1.2948, -0.4136, -0.8410, -0.9551,\n",
      "        -1.3612, -1.5708,  0.5182,  1.4884, -0.2057,  0.3789, -0.0930, -0.4443,\n",
      "        -0.2748, -0.1457, -1.6927, -0.6761,  0.9175,  0.8531, -0.8861, -2.0782,\n",
      "        -0.4292, -0.6250,  1.7684,  1.0293, -1.0706, -0.1526,  0.6799, -0.1054,\n",
      "        -1.1811,  0.4404,  0.4320,  1.6493,  0.5371, -1.1724, -0.5714,  0.9316,\n",
      "         1.1034, -2.5874,  0.7890,  0.8519, -1.2435, -0.7467,  1.9984, -0.0780,\n",
      "        -0.8066, -1.0603, -0.5454, -0.1351,  1.9803,  0.6543, -0.8335,  0.6085,\n",
      "        -0.9525,  0.8948,  0.5978,  1.8963,  0.5164, -0.7123, -0.2175, -1.0827,\n",
      "        -0.2933,  0.6547,  0.3453, -2.0516, -0.3592,  0.0262, -1.0470,  0.3092,\n",
      "         1.9923, -1.0958, -2.1030, -1.2094,  0.2446, -0.2131, -2.0027,  2.3808,\n",
      "        -0.4004, -0.6237, -0.5684, -0.4576,  1.2610,  1.1308, -0.3374, -0.7363,\n",
      "        -0.4513, -0.2593, -0.3304,  1.6308, -0.9761, -0.5357,  0.6486,  0.6833,\n",
      "        -1.4873,  0.7033,  0.5303, -0.3089,  0.1719,  0.1182, -0.3993,  0.8973,\n",
      "        -0.0182, -0.0653,  1.0610,  1.6649, -0.1285, -1.1203,  0.2745,  0.3472])\n",
      "tensor([[ 0.3201, -0.3794, -0.7279,  ...,  0.3689,  0.0588,  0.4680],\n",
      "        [-0.0064,  0.5385, -0.7859,  ...,  1.7168,  0.4740,  0.9128],\n",
      "        [ 1.0929, -0.2483,  0.5581,  ..., -0.4202,  1.1098,  1.6254],\n",
      "        ...,\n",
      "        [ 0.0476, -0.6321, -0.0032,  ..., -1.1506, -1.0827,  1.2919],\n",
      "        [ 1.6308,  0.1367,  1.1390,  ...,  0.7084, -1.0594, -0.1323],\n",
      "        [ 0.0445, -1.1455, -0.8218,  ..., -2.1622,  1.3381, -0.2703]])\n",
      "tensor([ 1.1531,  3.6367, -0.0148,  1.8188,  2.4144,  1.0263, -1.1826,  2.7984,\n",
      "         0.7349,  1.8728])\n"
     ]
    }
   ],
   "source": [
    "# For each parameter in the model, add random noise to its existing gradient\n",
    "for param in model.parameters():\n",
    "    param.grad += torch.randn_like(param)\n",
    "    print(param.grad)"
   ]
  },
  {
   "cell_type": "markdown",
   "id": "7b784322-9ce3-4d19-962c-0ad18debbac8",
   "metadata": {},
   "source": [
    "### Basic optimization loop <a class=\"anchor\" id=\"basic-optimization-loop\"></a>"
   ]
  },
  {
   "cell_type": "code",
   "execution_count": 35,
   "id": "b8e7e546-4efb-4bed-9f0d-4eb94e02294c",
   "metadata": {},
   "outputs": [],
   "source": [
    "# Set hyperparameters: learning rate, logging interval, and number of epochs\n",
    "lr = 3e-4\n",
    "log_interval = 10\n",
    "num_epochs = 5\n",
    "\n",
    "# Create the model and move it to the device (CPU or GPU)\n",
    "model = Net().to(device)\n",
    "# Initialize the optimizer\n",
    "optimizer = optim.Adam(model.parameters(), lr=lr)"
   ]
  },
  {
   "cell_type": "code",
   "execution_count": 36,
   "id": "457a4da5-1bed-4614-83f6-af185e3f9988",
   "metadata": {},
   "outputs": [],
   "source": [
    "def train(model, device, train_loader, optimizer, epoch):\n",
    "    \n",
    "    # Set model to training mode\n",
    "    model.train()\n",
    "    \n",
    "    # Progress bar for the training loader\n",
    "    pbar = tqdm(enumerate(train_loader), total=len(train_loader))\n",
    "    \n",
    "    losses = []\n",
    "    \n",
    "    for batch_idx, (data, target) in pbar:\n",
    "        \n",
    "        # Move input data and labels to the selected device\n",
    "        data, target = data.to(device), target.to(device)\n",
    "        \n",
    "        optimizer.zero_grad() # Clear previous gradients\n",
    "        output = model(data) # Forward pass: compute model output\n",
    "        loss = F.cross_entropy(output, target) # Compute cross-entropy loss\n",
    "        loss.backward() # Backpropagate to compute gradients\n",
    "        optimizer.step() # Update model parameters\n",
    "        \n",
    "        if batch_idx % log_interval == 0:\n",
    "            pbar.set_postfix({\"loss\": loss.item()})\n",
    "            \n",
    "        losses.append(loss.item())\n",
    "        \n",
    "    return losses"
   ]
  },
  {
   "cell_type": "code",
   "execution_count": 37,
   "id": "20c2f2a0-2239-41ce-b507-dd4dd9d4fd00",
   "metadata": {},
   "outputs": [],
   "source": [
    "def test(model, device, test_loader):\n",
    "    model.eval()\n",
    "    test_loss = 0\n",
    "    correct = 0\n",
    "    with torch.no_grad():\n",
    "        for data, target in test_loader:\n",
    "            data, target = data.to(device), target.to(device)\n",
    "            output = model(data)\n",
    "            test_loss += F.cross_entropy(output, target, reduction='sum').item()  # sum up batch loss\n",
    "            pred = output.argmax(dim=1, keepdim=True)  # get the index of the max log-probability\n",
    "            correct += pred.eq(target.view_as(pred)).sum().item()\n",
    "\n",
    "    test_loss /= len(test_loader.dataset)\n",
    "\n",
    "    print('\\nTest set: Average loss: {:.4f}, Accuracy: {}/{} ({:.0f}%)\\n'.format(\n",
    "        test_loss, correct, len(test_loader.dataset),\n",
    "        100. * correct / len(test_loader.dataset)))"
   ]
  },
  {
   "cell_type": "code",
   "execution_count": 38,
   "id": "e68dca78-8a77-4a79-8bd0-bd687f02b03c",
   "metadata": {
    "scrolled": true
   },
   "outputs": [
    {
     "name": "stderr",
     "output_type": "stream",
     "text": [
      "100%|████████████████████████████| 469/469 [00:13<00:00, 34.84it/s, loss=0.0388]\n"
     ]
    },
    {
     "name": "stdout",
     "output_type": "stream",
     "text": [
      "\n",
      "Test set: Average loss: 0.1849, Accuracy: 9415/10000 (94%)\n",
      "\n"
     ]
    },
    {
     "name": "stderr",
     "output_type": "stream",
     "text": [
      "100%|█████████████████████████████| 469/469 [00:11<00:00, 39.42it/s, loss=0.026]\n"
     ]
    },
    {
     "name": "stdout",
     "output_type": "stream",
     "text": [
      "\n",
      "Test set: Average loss: 0.1240, Accuracy: 9600/10000 (96%)\n",
      "\n"
     ]
    },
    {
     "name": "stderr",
     "output_type": "stream",
     "text": [
      "100%|████████████████████████████| 469/469 [00:13<00:00, 35.93it/s, loss=0.0139]\n"
     ]
    },
    {
     "name": "stdout",
     "output_type": "stream",
     "text": [
      "\n",
      "Test set: Average loss: 0.0990, Accuracy: 9690/10000 (97%)\n",
      "\n"
     ]
    },
    {
     "name": "stderr",
     "output_type": "stream",
     "text": [
      "100%|███████████████████████████| 469/469 [00:11<00:00, 39.32it/s, loss=0.00758]\n"
     ]
    },
    {
     "name": "stdout",
     "output_type": "stream",
     "text": [
      "\n",
      "Test set: Average loss: 0.0874, Accuracy: 9724/10000 (97%)\n",
      "\n"
     ]
    },
    {
     "name": "stderr",
     "output_type": "stream",
     "text": [
      "100%|█████████████████████████████| 469/469 [00:10<00:00, 42.84it/s, loss=0.005]\n"
     ]
    },
    {
     "name": "stdout",
     "output_type": "stream",
     "text": [
      "\n",
      "Test set: Average loss: 0.0819, Accuracy: 9734/10000 (97%)\n",
      "\n"
     ]
    }
   ],
   "source": [
    "all_losses = []\n",
    "for epoch in range(num_epochs):\n",
    "    all_losses.extend(train(model, device, train_loader, optimizer, epoch))\n",
    "    test(model, device, test_loader)"
   ]
  },
  {
   "cell_type": "markdown",
   "id": "10ffd362-066d-44de-a4de-f6bc05d7cb0c",
   "metadata": {},
   "source": [
    "**Option 1 to save and load models**"
   ]
  },
  {
   "cell_type": "code",
   "execution_count": 39,
   "id": "c958f8e1-a00f-42b9-a562-3a3330719684",
   "metadata": {},
   "outputs": [],
   "source": [
    "torch.save(model, \"mnist.pt\")"
   ]
  },
  {
   "cell_type": "code",
   "execution_count": 40,
   "id": "fe5483ff-fc1b-4a18-a796-27b85eb84562",
   "metadata": {},
   "outputs": [],
   "source": [
    "model = torch.load(\"mnist.pt\", weights_only=False)"
   ]
  },
  {
   "cell_type": "markdown",
   "id": "a511c595-7a96-42f6-82c7-2738fee8985f",
   "metadata": {},
   "source": [
    "**Option 2 to save and load models**"
   ]
  },
  {
   "cell_type": "code",
   "execution_count": 41,
   "id": "01e9b09c-8505-4ada-808d-1cb46cd76a62",
   "metadata": {},
   "outputs": [],
   "source": [
    "torch.save(model.state_dict(), \"mnist_weights.pt\")"
   ]
  },
  {
   "cell_type": "code",
   "execution_count": 42,
   "id": "2761b6ea-30ac-42ef-980d-b5fb0237873b",
   "metadata": {},
   "outputs": [
    {
     "data": {
      "text/plain": [
       "Net(\n",
       "  (layers): Sequential(\n",
       "    (0): Linear(in_features=784, out_features=400, bias=True)\n",
       "    (1): ReLU()\n",
       "    (2): Linear(in_features=400, out_features=400, bias=True)\n",
       "    (3): ReLU()\n",
       "    (4): Linear(in_features=400, out_features=10, bias=True)\n",
       "  )\n",
       ")"
      ]
     },
     "execution_count": 42,
     "metadata": {},
     "output_type": "execute_result"
    }
   ],
   "source": [
    "model = Net()\n",
    "model.load_state_dict(torch.load(\"mnist_weights.pt\", weights_only=True))\n",
    "model.to(device)"
   ]
  },
  {
   "cell_type": "markdown",
   "id": "08ec169b-86ff-4c9b-b69d-e4fd938f8063",
   "metadata": {},
   "source": [
    "### Evaluate Models Performance <a class=\"anchor\" id=\"evaluate-models-performance\"></a>"
   ]
  },
  {
   "cell_type": "code",
   "execution_count": 43,
   "id": "56f353ca-301c-45e3-baec-77a22518185c",
   "metadata": {},
   "outputs": [
    {
     "name": "stdout",
     "output_type": "stream",
     "text": [
      "\n",
      "Test set: Average loss: 0.0819, Accuracy: 9734/10000 (97%)\n",
      "\n"
     ]
    }
   ],
   "source": [
    "test(model, device, test_loader)"
   ]
  },
  {
   "cell_type": "markdown",
   "id": "95630abc-a2d7-42d0-9889-c66717ef8929",
   "metadata": {},
   "source": [
    "**Basic loss plotting**"
   ]
  },
  {
   "cell_type": "code",
   "execution_count": 44,
   "id": "2b48e959-0089-475b-beaf-dce81fc01e00",
   "metadata": {},
   "outputs": [
    {
     "data": {
      "image/png": "[encoded data removed]",
      "text/plain": [
       "<Figure size 1600x800 with 1 Axes>"
      ]
     },
     "metadata": {},
     "output_type": "display_data"
    }
   ],
   "source": [
    "plt.figure(figsize=(8, 4), dpi=200)\n",
    "plt.plot(all_losses)\n",
    "plt.title('Training Loss')\n",
    "plt.xlabel('iterations')\n",
    "plt.ylabel('loss')\n",
    "plt.xlim(0, 2500)\n",
    "plt.ylim(0, 2.5)\n",
    "plt.grid(True)\n",
    "plt.show()"
   ]
  },
  {
   "cell_type": "markdown",
   "id": "49154f09-a6a8-44b4-aa21-fa7199777657",
   "metadata": {},
   "source": [
    "**Plotting predictions with images**"
   ]
  },
  {
   "cell_type": "code",
   "execution_count": 45,
   "id": "122aea6b-9475-42c4-b8f9-e00cf728067c",
   "metadata": {},
   "outputs": [
    {
     "data": {
      "image/png": "[encoded data removed]",
      "text/plain": [
       "<Figure size 1500x200 with 10 Axes>"
      ]
     },
     "metadata": {},
     "output_type": "display_data"
    }
   ],
   "source": [
    "def plot_test_predictions(model, test_loader, device, num_images=10):\n",
    "    model.eval()  # Set model to evaluation mode\n",
    "    images, labels = next(iter(test_loader))  # Get a batch of test images\n",
    "    images, labels = images.to(device), labels.to(device)\n",
    "\n",
    "    with torch.no_grad():  # Disable gradient calculation\n",
    "        outputs = model(images)  \n",
    "        _, preds = torch.max(outputs, 1)  # Get the predicted class\n",
    "\n",
    "    # Plot the images with predicted and true labels\n",
    "    fig, axes = plt.subplots(1, num_images, figsize=(15, 2))\n",
    "    fig.suptitle(\"Test Set Predictions\", fontsize=15)\n",
    "    for i in range(num_images):\n",
    "        ax = axes[i]\n",
    "        ax.imshow(images[i].cpu().squeeze(), cmap=\"gray\")  # Convert to CPU for plotting\n",
    "        ax.set_title(f\"P: {preds[i].item()} / T: {labels[i].item()}\")\n",
    "        ax.axis(\"off\")\n",
    "        \n",
    "    plt.tight_layout(rect=[0, 0, 1, 0.95])\n",
    "    plt.show()\n",
    "\n",
    "plot_test_predictions(model, test_loader, device)"
   ]
  },
  {
   "cell_type": "markdown",
   "id": "4c3ff579-8c71-4b76-adc6-71aa6a80de5b",
   "metadata": {},
   "source": [
    "## More information <a class=\"anchor\" id=\"more-information\"></a>\n",
    "\n",
    "* The main resources would be the official PyTorch resources\n",
    "    1. https://pytorch.org/tutorials\n",
    "    2. https://github.com/pytorch/examples"
   ]
  },
  {
   "cell_type": "markdown",
   "id": "27914f69",
   "metadata": {},
   "source": [
    "## Returning exercises <a class=\"anchor\" id=\"returning-exercises\"></a>\n",
    "\n",
    "* Save the completed notebook, after running it once, as a PDF file (Export --> PDF).\n",
    "* Submit both the notebook and the PDF\n",
    "* Before submitting the PDF, ensure that the results are easy to read.\n",
    "* For plots:\n",
    "    * Always label the axes.\n",
    "    * Follow any instructions regarding setting axis limits etc."
   ]
  },
  {
   "cell_type": "code",
   "execution_count": null,
   "id": "a121b405-8f63-4082-b16d-45585807c318",
   "metadata": {},
   "outputs": [],
   "source": []
  }
 ],
 "metadata": {
  "kernelspec": {
   "display_name": "Python 3 (ipykernel)",
   "language": "python",
   "name": "python3"
  },
  "language_info": {
   "codemirror_mode": {
    "name": "ipython",
    "version": 3
   },
   "file_extension": ".py",
   "mimetype": "text/x-python",
   "name": "python",
   "nbconvert_exporter": "python",
   "pygments_lexer": "ipython3",
   "version": "3.10.16"
  }
 },
 "nbformat": 4,
 "nbformat_minor": 5
}
