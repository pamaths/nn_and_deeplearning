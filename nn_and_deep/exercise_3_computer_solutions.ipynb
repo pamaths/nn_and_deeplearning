{
 "cells": [
  {
   "cell_type": "markdown",
   "id": "7e5598e8-2871-42ad-95c0-06c01af90387",
   "metadata": {},
   "source": [
    "# 1. Hyperparameter optimization"
   ]
  },
  {
   "cell_type": "markdown",
   "id": "23a567fc-410a-4627-9e2a-0dbce23b8127",
   "metadata": {},
   "source": [
    "To install Optuna: run `pip install optuna` in console after activating your environment."
   ]
  },
  {
   "cell_type": "code",
   "execution_count": 1,
   "id": "4046888a-c3b2-4ed5-afbf-852b37af5d0d",
   "metadata": {},
   "outputs": [
    {
     "data": {
      "text/plain": [
       "<torch._C.Generator at 0x20d7fd61430>"
      ]
     },
     "execution_count": 1,
     "metadata": {},
     "output_type": "execute_result"
    }
   ],
   "source": [
    "import torch\n",
    "import torchvision\n",
    "import torchvision.transforms as transforms\n",
    "from torch.utils.data import DataLoader, random_split, ConcatDataset, Subset\n",
    "import torch.nn as nn\n",
    "import torch.nn.functional as F\n",
    "import matplotlib.pyplot as plt\n",
    "import numpy as np\n",
    "import math\n",
    "import optuna\n",
    "import optuna.visualization as vis\n",
    "\n",
    "seed = 42\n",
    "torch.manual_seed(seed)"
   ]
  },
  {
   "cell_type": "markdown",
   "id": "06b39ae3-23c6-4610-a84c-9d76fc3e6416",
   "metadata": {},
   "source": [
    "Load MNIST data. **DO NOT CHANGE THIS.**"
   ]
  },
  {
   "cell_type": "code",
   "execution_count": 2,
   "id": "202b9568-81b1-4051-bfbf-207deb1fb7a4",
   "metadata": {},
   "outputs": [
    {
     "name": "stdout",
     "output_type": "stream",
     "text": [
      "Total training images: 24000\n",
      "Total validation images: 6000\n",
      "Total test images: 10000\n"
     ]
    }
   ],
   "source": [
    "def get_mnist_loaders(batch_size, valid_ratio, seed, downsample_ratio):\n",
    "    # Define the transformation: convert to tensor and normalize\n",
    "    transform = transforms.Compose([\n",
    "        transforms.ToTensor(),\n",
    "        transforms.Normalize((0.1307,), (0.3081,))\n",
    "    ])\n",
    "    \n",
    "    # Load the full training set (train=True returns the 60k training images)\n",
    "    train_dataset = torchvision.datasets.MNIST(\n",
    "        root=\"data\",\n",
    "        train=True,\n",
    "        download=True,\n",
    "        transform=transform\n",
    "    )\n",
    "    \n",
    "    # Optionally downsample the training data\n",
    "    if downsample_ratio < 1.0:\n",
    "        subset_size = int(len(train_dataset) * downsample_ratio)\n",
    "        indices = list(range(subset_size))\n",
    "        train_dataset = Subset(train_dataset, indices)\n",
    "    \n",
    "    # Load the test set (train=False returns the 10k testing images)\n",
    "    test_dataset = torchvision.datasets.MNIST(\n",
    "        root=\"data\",\n",
    "        train=False,\n",
    "        download=True,\n",
    "        transform=transform\n",
    "    )\n",
    "    \n",
    "    # Split training set into training and validation set\n",
    "    train_size = int((1.0 - valid_ratio) * len(train_dataset))\n",
    "    valid_size = len(train_dataset) - train_size\n",
    "    gen = torch.Generator().manual_seed(seed)\n",
    "    train_dataset, valid_dataset = random_split(train_dataset, [train_size, valid_size], generator=gen)\n",
    "    \n",
    "    # DataLoaders\n",
    "    train_loader = DataLoader(train_dataset, batch_size=batch_size, shuffle=True)\n",
    "    valid_loader = DataLoader(valid_dataset, batch_size=batch_size, shuffle=False)\n",
    "    test_loader  = DataLoader(test_dataset,  batch_size=batch_size, shuffle=False)\n",
    "    \n",
    "    return train_loader, valid_loader, test_loader\n",
    "\n",
    "batch_size = 128\n",
    "valid_ratio = 0.2\n",
    "downsample_ratio = 0.5\n",
    "\n",
    "# Create the DataLoaders\n",
    "train_loader, valid_loader, test_loader = get_mnist_loaders(batch_size=batch_size, \n",
    "                                                              valid_ratio=valid_ratio, \n",
    "                                                              seed=seed,\n",
    "                                                              downsample_ratio=downsample_ratio)\n",
    "\n",
    "# Total number of images in each dataset\n",
    "print(\"Total training images:\", len(train_loader.dataset))\n",
    "print(\"Total validation images:\", len(valid_loader.dataset))\n",
    "print(\"Total test images:\", len(test_loader.dataset))"
   ]
  },
  {
   "cell_type": "markdown",
   "id": "fe935f6a-2b13-4f02-861e-23e1e8f49002",
   "metadata": {},
   "source": [
    "## (1a) Implement CNN\n",
    "\n",
    "Write here the network structure as described in the exercise sheet.\n",
    "\n",
    "Remember to **make the kernel size a parameter**, so that it can be controlled later."
   ]
  },
  {
   "cell_type": "code",
   "execution_count": 3,
   "id": "96ecc5eb-df11-49b7-b3cd-5171f6ae735e",
   "metadata": {},
   "outputs": [],
   "source": [
    "class CNN(nn.Module):\n",
    "    \n",
    "    def __init__(self, kernel_size):\n",
    "        super().__init__()\n",
    "        self.conv1 = nn.Conv2d(1, 16, kernel_size=kernel_size, stride=1)\n",
    "        self.temp = math.floor((27 - kernel_size) / 2 + 1)\n",
    "        self.fc1 = nn.Linear(self.temp * self.temp * 16, 32)\n",
    "        self.fc2 = nn.Linear(32, 10)\n",
    "\n",
    "    def forward(self, x):\n",
    "        x = F.relu(self.conv1(x))\n",
    "        x = F.max_pool2d(x, 2, 2)\n",
    "        x = x.view(-1, self.temp * self.temp * 16)\n",
    "        x = F.relu(self.fc1(x))\n",
    "        x = self.fc2(x)\n",
    "        return F.log_softmax(x, dim=-1)"
   ]
  },
  {
   "cell_type": "markdown",
   "id": "755c8260-d76d-4adb-874d-5d1427532f07",
   "metadata": {},
   "source": [
    "#### (1b & 1c) Train&Test Functions\n",
    "\n",
    "To help focus on tuning optimizers and networks, we provided 3 pre-written functions for training and testing.\n",
    "\n",
    "By having clear functions, we can easily compare different settings and keep the process consistent.\n",
    "\n",
    "**You do not need to change anything in this part.**"
   ]
  },
  {
   "cell_type": "code",
   "execution_count": 4,
   "id": "c2c47dd7-0f6b-440f-9ea9-0cdbb4c762eb",
   "metadata": {},
   "outputs": [],
   "source": [
    "# Training function.\n",
    "def train(net, train_loader, parameters, epochs=1):\n",
    "    optimizer = torch.optim.SGD(net.parameters(), lr=parameters[\"lr\"], momentum=parameters[\"momentum\"])\n",
    "    criterion = nn.NLLLoss()\n",
    "    net.train()\n",
    "    for epoch in range(epochs):\n",
    "        for images, labels in train_loader:\n",
    "            optimizer.zero_grad()\n",
    "            outputs = net(images)\n",
    "            loss = criterion(outputs, labels)\n",
    "            loss.backward()\n",
    "            optimizer.step()\n",
    "    return net\n",
    "\n",
    "# Evaluation function.\n",
    "def evaluate(net, data_loader):\n",
    "    net.eval()\n",
    "    correct = 0\n",
    "    total = 0\n",
    "    with torch.no_grad():\n",
    "        for images, labels in data_loader:\n",
    "            outputs = net(images)\n",
    "            predictions = outputs.argmax(dim=1)\n",
    "            correct += (predictions == labels).sum().item()\n",
    "            total += labels.size(0)\n",
    "    accuracy = correct / total\n",
    "    return accuracy\n",
    "\n",
    "# Function for final training using best params on combined train and validation sets, then testing.\n",
    "def train_test(parameters):\n",
    "    combined_dataset = ConcatDataset([train_loader.dataset, valid_loader.dataset])\n",
    "    combined_loader = DataLoader(combined_dataset, batch_size=batch_size, shuffle=True)\n",
    "    \n",
    "    net = CNN(kernel_size=parameters[\"kernel_size\"])\n",
    "    net = train(net, combined_loader, parameters)\n",
    "    test_accuracy = evaluate(net, test_loader)\n",
    "    return test_accuracy"
   ]
  },
  {
   "cell_type": "markdown",
   "id": "41c15c5e-7586-41bf-aeeb-453aa53a9a91",
   "metadata": {},
   "source": [
    "## (1b) Bayesian optimization using Optuna\n",
    "\n",
    "Optuna requires an objective for the optimization.\n",
    "\n",
    "Our objective returns validation accuracy, and we use direction=\"maximize\".\n",
    "\n",
    "So, we aim to maximize the accuracy of the validation dataset.\n",
    "\n",
    "**Here, your task is to define the hyperparameter search spaces** (suggested hyperparameters).\n",
    "\n",
    "Here you can see the documentary page for search spaces:\n",
    "\n",
    "https://optuna.readthedocs.io/en/stable/tutorial/10_key_features/002_configurations.html"
   ]
  },
  {
   "cell_type": "code",
   "execution_count": 5,
   "id": "618da3a6-3097-470a-9c04-fc720c6fa627",
   "metadata": {},
   "outputs": [
    {
     "name": "stderr",
     "output_type": "stream",
     "text": [
      "[I 2025-04-11 16:14:40,599] A new study created in memory with name: no-name-d980600b-6d38-4bfa-8d20-6fce64b869c7\n",
      "[I 2025-04-11 16:14:43,987] Trial 0 finished with value: 0.25066666666666665 and parameters: {'lr': 3.1489116479568635e-05, 'momentum': 0.9507143064099162, 'kernel_size': 3}. Best is trial 0 with value: 0.25066666666666665.\n",
      "[I 2025-04-11 16:14:47,366] Trial 1 finished with value: 0.091 and parameters: {'lr': 4.207053950287936e-06, 'momentum': 0.05808361216819946, 'kernel_size': 3}. Best is trial 0 with value: 0.25066666666666665.\n",
      "[I 2025-04-11 16:14:50,721] Trial 2 finished with value: 0.09633333333333334 and parameters: {'lr': 1.2087541473056965e-06, 'momentum': 0.9699098521619943, 'kernel_size': 3}. Best is trial 0 with value: 0.25066666666666665.\n",
      "[I 2025-04-11 16:14:54,088] Trial 3 finished with value: 0.1295 and parameters: {'lr': 5.415244119402541e-06, 'momentum': 0.3042422429595377, 'kernel_size': 3}. Best is trial 0 with value: 0.25066666666666665.\n",
      "[I 2025-04-11 16:14:57,356] Trial 4 finished with value: 0.2803333333333333 and parameters: {'lr': 0.0002801635158716264, 'momentum': 0.13949386065204183, 'kernel_size': 7}. Best is trial 4 with value: 0.2803333333333333.\n",
      "[I 2025-04-11 16:15:00,628] Trial 5 finished with value: 0.5618333333333333 and parameters: {'lr': 0.0013826232179369874, 'momentum': 0.19967378215835974, 'kernel_size': 5}. Best is trial 5 with value: 0.5618333333333333.\n",
      "[I 2025-04-11 16:15:03,899] Trial 6 finished with value: 0.22866666666666666 and parameters: {'lr': 0.000269264691008618, 'momentum': 0.17052412368729153, 'kernel_size': 7}. Best is trial 5 with value: 0.5618333333333333.\n",
      "[I 2025-04-11 16:15:07,151] Trial 7 finished with value: 0.7551666666666667 and parameters: {'lr': 0.0017123375973163992, 'momentum': 0.3046137691733707, 'kernel_size': 5}. Best is trial 7 with value: 0.7551666666666667.\n",
      "[I 2025-04-11 16:15:10,448] Trial 8 finished with value: 0.094 and parameters: {'lr': 3.0771802712506896e-06, 'momentum': 0.4951769101112702, 'kernel_size': 5}. Best is trial 7 with value: 0.7551666666666667.\n",
      "[I 2025-04-11 16:15:13,719] Trial 9 finished with value: 0.4261666666666667 and parameters: {'lr': 0.0004467752817973908, 'momentum': 0.31171107608941095, 'kernel_size': 5}. Best is trial 7 with value: 0.7551666666666667.\n",
      "[I 2025-04-11 16:15:17,007] Trial 10 finished with value: 0.9065 and parameters: {'lr': 0.00804836998643663, 'momentum': 0.6998750099215975, 'kernel_size': 5}. Best is trial 10 with value: 0.9065.\n",
      "[I 2025-04-11 16:15:20,314] Trial 11 finished with value: 0.9011666666666667 and parameters: {'lr': 0.006359752317113245, 'momentum': 0.7151696121967952, 'kernel_size': 5}. Best is trial 10 with value: 0.9065.\n",
      "[I 2025-04-11 16:15:23,650] Trial 12 finished with value: 0.9061666666666667 and parameters: {'lr': 0.008690693327164533, 'momentum': 0.7763994737686188, 'kernel_size': 5}. Best is trial 10 with value: 0.9065.\n",
      "[I 2025-04-11 16:15:26,963] Trial 13 finished with value: 0.9003333333333333 and parameters: {'lr': 0.009789042109785687, 'momentum': 0.7274274902192149, 'kernel_size': 5}. Best is trial 10 with value: 0.9065.\n",
      "[I 2025-04-11 16:15:30,224] Trial 14 finished with value: 0.8641666666666666 and parameters: {'lr': 0.0020317683689294167, 'momentum': 0.7455992573127374, 'kernel_size': 5}. Best is trial 10 with value: 0.9065.\n",
      "[I 2025-04-11 16:15:33,635] Trial 15 finished with value: 0.16566666666666666 and parameters: {'lr': 6.81517669265802e-05, 'momentum': 0.5732909776512292, 'kernel_size': 5}. Best is trial 10 with value: 0.9065.\n",
      "[I 2025-04-11 16:15:37,100] Trial 16 finished with value: 0.916 and parameters: {'lr': 0.0036517735556274595, 'momentum': 0.8567085756302437, 'kernel_size': 7}. Best is trial 16 with value: 0.916.\n",
      "[I 2025-04-11 16:15:40,454] Trial 17 finished with value: 0.8406666666666667 and parameters: {'lr': 0.0030450797404414282, 'momentum': 0.5629283768752651, 'kernel_size': 7}. Best is trial 16 with value: 0.916.\n",
      "[I 2025-04-11 16:15:43,815] Trial 18 finished with value: 0.8401666666666666 and parameters: {'lr': 0.0006377498741418543, 'momentum': 0.8669692540269889, 'kernel_size': 7}. Best is trial 16 with value: 0.916.\n",
      "[I 2025-04-11 16:15:47,159] Trial 19 finished with value: 0.08333333333333333 and parameters: {'lr': 2.350699706323715e-05, 'momentum': 0.6328144143670666, 'kernel_size': 7}. Best is trial 16 with value: 0.916.\n",
      "[I 2025-04-11 16:15:50,497] Trial 20 finished with value: 0.8293333333333334 and parameters: {'lr': 0.0008387744815011899, 'momentum': 0.8650923264122814, 'kernel_size': 7}. Best is trial 16 with value: 0.916.\n",
      "[I 2025-04-11 16:15:53,863] Trial 21 finished with value: 0.9045 and parameters: {'lr': 0.0046236144825196135, 'momentum': 0.8269227276274815, 'kernel_size': 5}. Best is trial 16 with value: 0.916.\n",
      "[I 2025-04-11 16:15:57,250] Trial 22 finished with value: 0.891 and parameters: {'lr': 0.009425259895470882, 'momentum': 0.45824172072402547, 'kernel_size': 5}. Best is trial 16 with value: 0.916.\n",
      "[I 2025-04-11 16:16:00,535] Trial 23 finished with value: 0.896 and parameters: {'lr': 0.0034772730405731645, 'momentum': 0.7971428615987111, 'kernel_size': 7}. Best is trial 16 with value: 0.916.\n",
      "[I 2025-04-11 16:16:03,867] Trial 24 finished with value: 0.8911666666666667 and parameters: {'lr': 0.004745151114523392, 'momentum': 0.6529702328139415, 'kernel_size': 5}. Best is trial 16 with value: 0.916.\n",
      "[I 2025-04-11 16:16:07,115] Trial 25 finished with value: 0.8995 and parameters: {'lr': 0.0012226894492016905, 'momentum': 0.9334954526511011, 'kernel_size': 7}. Best is trial 16 with value: 0.916.\n",
      "[I 2025-04-11 16:16:10,411] Trial 26 finished with value: 0.8446666666666667 and parameters: {'lr': 0.002393721145776326, 'momentum': 0.6504262901347646, 'kernel_size': 5}. Best is trial 16 with value: 0.916.\n",
      "[I 2025-04-11 16:16:13,738] Trial 27 finished with value: 0.4116666666666667 and parameters: {'lr': 9.344028792207712e-05, 'momentum': 0.796501905922377, 'kernel_size': 5}. Best is trial 16 with value: 0.916.\n",
      "[I 2025-04-11 16:16:17,090] Trial 28 finished with value: 0.9173333333333333 and parameters: {'lr': 0.00917473445748504, 'momentum': 0.8913728883598993, 'kernel_size': 3}. Best is trial 28 with value: 0.9173333333333333.\n",
      "[I 2025-04-11 16:16:20,447] Trial 29 finished with value: 0.33266666666666667 and parameters: {'lr': 3.0484903592162724e-05, 'momentum': 0.9199446470474326, 'kernel_size': 3}. Best is trial 28 with value: 0.9173333333333333.\n",
      "[I 2025-04-11 16:16:23,819] Trial 30 finished with value: 0.9226666666666666 and parameters: {'lr': 0.004376153196905818, 'momentum': 0.9720673388063213, 'kernel_size': 3}. Best is trial 30 with value: 0.9226666666666666.\n",
      "[I 2025-04-11 16:16:27,115] Trial 31 finished with value: 0.9256666666666666 and parameters: {'lr': 0.004586952143485746, 'momentum': 0.9891127213273367, 'kernel_size': 3}. Best is trial 31 with value: 0.9256666666666666.\n",
      "[I 2025-04-11 16:16:30,440] Trial 32 finished with value: 0.8985 and parameters: {'lr': 0.003484573580140498, 'momentum': 0.9625065132982162, 'kernel_size': 3}. Best is trial 31 with value: 0.9256666666666666.\n",
      "[I 2025-04-11 16:16:33,827] Trial 33 finished with value: 0.8491666666666666 and parameters: {'lr': 0.00098623780507888, 'momentum': 0.9993048556861319, 'kernel_size': 3}. Best is trial 31 with value: 0.9256666666666666.\n",
      "[I 2025-04-11 16:16:37,233] Trial 34 finished with value: 0.9053333333333333 and parameters: {'lr': 0.0052474487530780375, 'momentum': 0.8666959840134772, 'kernel_size': 3}. Best is trial 31 with value: 0.9256666666666666.\n",
      "[I 2025-04-11 16:16:40,630] Trial 35 finished with value: 0.6451666666666667 and parameters: {'lr': 0.00024294181057609837, 'momentum': 0.9111636286029994, 'kernel_size': 3}. Best is trial 31 with value: 0.9256666666666666.\n",
      "[I 2025-04-11 16:16:43,989] Trial 36 finished with value: 0.9038333333333334 and parameters: {'lr': 0.0021298441681208502, 'momentum': 0.975680281212139, 'kernel_size': 3}. Best is trial 31 with value: 0.9256666666666666.\n",
      "[I 2025-04-11 16:16:47,324] Trial 37 finished with value: 0.14866666666666667 and parameters: {'lr': 1.2405319719901503e-05, 'momentum': 0.8950609002080613, 'kernel_size': 3}. Best is trial 31 with value: 0.9256666666666666.\n",
      "[I 2025-04-11 16:16:50,657] Trial 38 finished with value: 0.8611666666666666 and parameters: {'lr': 0.0005063372770920712, 'momentum': 0.9923672138590849, 'kernel_size': 3}. Best is trial 31 with value: 0.9256666666666666.\n",
      "[I 2025-04-11 16:16:54,027] Trial 39 finished with value: 0.43766666666666665 and parameters: {'lr': 0.00016710953398010392, 'momentum': 0.8271179612694655, 'kernel_size': 3}. Best is trial 31 with value: 0.9256666666666666.\n",
      "[I 2025-04-11 16:16:57,395] Trial 40 finished with value: 0.6843333333333333 and parameters: {'lr': 0.0016183001530105626, 'momentum': 0.03813561558710432, 'kernel_size': 3}. Best is trial 31 with value: 0.9256666666666666.\n",
      "[I 2025-04-11 16:17:00,749] Trial 41 finished with value: 0.914 and parameters: {'lr': 0.005674644711265095, 'momentum': 0.9358963857298311, 'kernel_size': 3}. Best is trial 31 with value: 0.9256666666666666.\n",
      "[I 2025-04-11 16:17:04,084] Trial 42 finished with value: 0.9113333333333333 and parameters: {'lr': 0.00557482915259042, 'momentum': 0.920602909759303, 'kernel_size': 3}. Best is trial 31 with value: 0.9256666666666666.\n",
      "[I 2025-04-11 16:17:07,430] Trial 43 finished with value: 0.9153333333333333 and parameters: {'lr': 0.003225753974526201, 'momentum': 0.952316590053456, 'kernel_size': 3}. Best is trial 31 with value: 0.9256666666666666.\n",
      "[I 2025-04-11 16:17:10,812] Trial 44 finished with value: 0.8878333333333334 and parameters: {'lr': 0.0031376649283944217, 'momentum': 0.8272086657334019, 'kernel_size': 3}. Best is trial 31 with value: 0.9256666666666666.\n",
      "[I 2025-04-11 16:17:14,168] Trial 45 finished with value: 0.4265 and parameters: {'lr': 0.0012878326037031043, 'momentum': 0.3816494115978139, 'kernel_size': 3}. Best is trial 31 with value: 0.9256666666666666.\n",
      "[I 2025-04-11 16:17:17,486] Trial 46 finished with value: 0.0855 and parameters: {'lr': 1.7620822291138474e-06, 'momentum': 0.8794030749595018, 'kernel_size': 3}. Best is trial 31 with value: 0.9256666666666666.\n",
      "[I 2025-04-11 16:17:20,855] Trial 47 finished with value: 0.9033333333333333 and parameters: {'lr': 0.002418971603067853, 'momentum': 0.9494357704405153, 'kernel_size': 3}. Best is trial 31 with value: 0.9256666666666666.\n",
      "[I 2025-04-11 16:17:24,224] Trial 48 finished with value: 0.9108333333333334 and parameters: {'lr': 0.0070370464163542045, 'momentum': 0.9974698284809738, 'kernel_size': 3}. Best is trial 31 with value: 0.9256666666666666.\n",
      "[I 2025-04-11 16:17:27,588] Trial 49 finished with value: 0.8946666666666667 and parameters: {'lr': 0.003520304492043394, 'momentum': 0.7690494585848814, 'kernel_size': 7}. Best is trial 31 with value: 0.9256666666666666.\n",
      "[I 2025-04-11 16:17:30,947] Trial 50 finished with value: 0.8645 and parameters: {'lr': 0.009935138101942667, 'momentum': 0.09941750363166746, 'kernel_size': 3}. Best is trial 31 with value: 0.9256666666666666.\n",
      "[I 2025-04-11 16:17:34,322] Trial 51 finished with value: 0.9148333333333334 and parameters: {'lr': 0.006080102822811925, 'momentum': 0.9511428162034941, 'kernel_size': 3}. Best is trial 31 with value: 0.9256666666666666.\n",
      "[I 2025-04-11 16:17:37,700] Trial 52 finished with value: 0.9023333333333333 and parameters: {'lr': 0.004125389716611215, 'momentum': 0.9552110782917573, 'kernel_size': 3}. Best is trial 31 with value: 0.9256666666666666.\n",
      "[I 2025-04-11 16:17:41,065] Trial 53 finished with value: 0.8935 and parameters: {'lr': 0.006303020786683736, 'momentum': 0.8448708231145957, 'kernel_size': 3}. Best is trial 31 with value: 0.9256666666666666.\n",
      "[I 2025-04-11 16:17:44,379] Trial 54 finished with value: 0.888 and parameters: {'lr': 0.001601582073952902, 'momentum': 0.8968878204536882, 'kernel_size': 7}. Best is trial 31 with value: 0.9256666666666666.\n",
      "[I 2025-04-11 16:17:47,784] Trial 55 finished with value: 0.8706666666666667 and parameters: {'lr': 0.0072697829901383956, 'momentum': 0.24214637567618935, 'kernel_size': 3}. Best is trial 31 with value: 0.9256666666666666.\n",
      "[I 2025-04-11 16:17:51,177] Trial 56 finished with value: 0.883 and parameters: {'lr': 0.0008857120153204352, 'momentum': 0.9506160051299476, 'kernel_size': 3}. Best is trial 31 with value: 0.9256666666666666.\n",
      "[I 2025-04-11 16:17:54,555] Trial 57 finished with value: 0.868 and parameters: {'lr': 0.0025551574794262567, 'momentum': 0.7529834011604783, 'kernel_size': 7}. Best is trial 31 with value: 0.9256666666666666.\n",
      "[I 2025-04-11 16:17:57,898] Trial 58 finished with value: 0.8861666666666667 and parameters: {'lr': 0.004196707640476844, 'momentum': 0.7067839095394446, 'kernel_size': 3}. Best is trial 31 with value: 0.9256666666666666.\n",
      "[I 2025-04-11 16:18:01,207] Trial 59 finished with value: 0.6831666666666667 and parameters: {'lr': 0.00037200808980947486, 'momentum': 0.8506151832428817, 'kernel_size': 7}. Best is trial 31 with value: 0.9256666666666666.\n",
      "[I 2025-04-11 16:18:04,589] Trial 60 finished with value: 0.9008333333333334 and parameters: {'lr': 0.00758199921091347, 'momentum': 0.8044670307834086, 'kernel_size': 3}. Best is trial 31 with value: 0.9256666666666666.\n",
      "[I 2025-04-11 16:18:07,932] Trial 61 finished with value: 0.9065 and parameters: {'lr': 0.00559025177569131, 'momentum': 0.9071654077127108, 'kernel_size': 3}. Best is trial 31 with value: 0.9256666666666666.\n",
      "[I 2025-04-11 16:18:11,313] Trial 62 finished with value: 0.9031666666666667 and parameters: {'lr': 0.0028636285664920586, 'momentum': 0.9355261587449568, 'kernel_size': 3}. Best is trial 31 with value: 0.9256666666666666.\n",
      "[I 2025-04-11 16:18:14,732] Trial 63 finished with value: 0.9025 and parameters: {'lr': 0.001980517573131732, 'momentum': 0.9688376857309873, 'kernel_size': 3}. Best is trial 31 with value: 0.9256666666666666.\n",
      "[I 2025-04-11 16:18:18,072] Trial 64 finished with value: 0.8986666666666666 and parameters: {'lr': 0.004980699205152222, 'momentum': 0.8900906543906275, 'kernel_size': 3}. Best is trial 31 with value: 0.9256666666666666.\n",
      "[I 2025-04-11 16:18:21,444] Trial 65 finished with value: 0.9326666666666666 and parameters: {'lr': 0.00907928385847107, 'momentum': 0.9328383530226396, 'kernel_size': 3}. Best is trial 65 with value: 0.9326666666666666.\n",
      "[I 2025-04-11 16:18:24,706] Trial 66 finished with value: 0.9418333333333333 and parameters: {'lr': 0.009357894312946115, 'momentum': 0.9803011479918858, 'kernel_size': 7}. Best is trial 66 with value: 0.9418333333333333.\n",
      "[I 2025-04-11 16:18:28,013] Trial 67 finished with value: 0.9001666666666667 and parameters: {'lr': 0.009709404189535873, 'momentum': 0.9927105587376527, 'kernel_size': 7}. Best is trial 66 with value: 0.9418333333333333.\n",
      "[I 2025-04-11 16:18:31,324] Trial 68 finished with value: 0.911 and parameters: {'lr': 0.004118967749891728, 'momentum': 0.8670456616409364, 'kernel_size': 7}. Best is trial 66 with value: 0.9418333333333333.\n",
      "[I 2025-04-11 16:18:34,629] Trial 69 finished with value: 0.9338333333333333 and parameters: {'lr': 0.007567788771502257, 'momentum': 0.9111952705095506, 'kernel_size': 7}. Best is trial 66 with value: 0.9418333333333333.\n",
      "[I 2025-04-11 16:18:37,940] Trial 70 finished with value: 0.9143333333333333 and parameters: {'lr': 0.007683196533727971, 'momentum': 0.7894535449363947, 'kernel_size': 7}. Best is trial 66 with value: 0.9418333333333333.\n",
      "[I 2025-04-11 16:18:41,265] Trial 71 finished with value: 0.9481666666666667 and parameters: {'lr': 0.009600854576391135, 'momentum': 0.9125812444833696, 'kernel_size': 7}. Best is trial 71 with value: 0.9481666666666667.\n",
      "[I 2025-04-11 16:18:44,559] Trial 72 finished with value: 0.9453333333333334 and parameters: {'lr': 0.00805452353408844, 'momentum': 0.9142176663852074, 'kernel_size': 7}. Best is trial 71 with value: 0.9481666666666667.\n",
      "[I 2025-04-11 16:18:47,843] Trial 73 finished with value: 0.9508333333333333 and parameters: {'lr': 0.00983387984728913, 'momentum': 0.9093386968088377, 'kernel_size': 7}. Best is trial 73 with value: 0.9508333333333333.\n",
      "[I 2025-04-11 16:18:51,174] Trial 74 finished with value: 0.9425 and parameters: {'lr': 0.007332325454274721, 'momentum': 0.9219579581461638, 'kernel_size': 7}. Best is trial 73 with value: 0.9508333333333333.\n"
     ]
    },
    {
     "name": "stdout",
     "output_type": "stream",
     "text": [
      "Best hyperparameters: {'lr': 0.00983387984728913, 'momentum': 0.9093386968088377, 'kernel_size': 7}\n",
      "Best validation accuracy: 0.9508333333333333\n"
     ]
    }
   ],
   "source": [
    "def objective(trial):\n",
    "    # Define hyperparameter search spaces.\n",
    "    lr = trial.suggest_float(\"lr\", 1e-6, 1e-2, log=True)\n",
    "    momentum = trial.suggest_float(\"momentum\", 0.0, 1.0)\n",
    "    kernel_size = trial.suggest_categorical(\"kernel_size\", [3, 5, 7])\n",
    "    parameters = {\"lr\": lr, \"momentum\": momentum, \"kernel_size\": kernel_size}\n",
    "    \n",
    "    # Initialize the model with the chosen kernel_size.\n",
    "    net = CNN(kernel_size=kernel_size)\n",
    "    \n",
    "    # Train the model on the training set.\n",
    "    net = train(net, train_loader, parameters)\n",
    "    \n",
    "    # Evaluate validation sets.\n",
    "    val_accuracy = evaluate(net, valid_loader)\n",
    "    \n",
    "    # Return the validation accuracy (this is what we want to maximize).\n",
    "    return val_accuracy\n",
    "\n",
    "# Create Optuna study and optimize.\n",
    "n_trials = 75\n",
    "sampler = optuna.samplers.TPESampler(seed=seed)\n",
    "study = optuna.create_study(sampler=sampler, direction=\"maximize\")\n",
    "study.optimize(objective, n_trials=n_trials)\n",
    "\n",
    "print(\"Best hyperparameters:\", study.best_trial.params)\n",
    "print(\"Best validation accuracy:\", study.best_trial.value)"
   ]
  },
  {
   "cell_type": "code",
   "execution_count": 6,
   "id": "0df4dd54-78ed-442a-96e9-3a4dde63e6cb",
   "metadata": {},
   "outputs": [
    {
     "name": "stderr",
     "output_type": "stream",
     "text": [
      "C:\\Users\\arasu\\AppData\\Local\\Temp\\ipykernel_26984\\2604171193.py:6: ExperimentalWarning: plot_optimization_history is experimental (supported from v2.2.0). The interface can change in the future.\n",
      "  fig_history = optuna.visualization.matplotlib.plot_optimization_history(study)\n"
     ]
    },
    {
     "data": {
      "image/png": "[encoded data removed]",
      "text/plain": [
       "<Figure size 640x480 with 1 Axes>"
      ]
     },
     "metadata": {},
     "output_type": "display_data"
    }
   ],
   "source": [
    "# Visualize the optimization history. (Interactive)\n",
    "#fig_history = vis.plot_optimization_history(study)\n",
    "#fig_history.show()\n",
    "\n",
    "# Alternative Visualization. You can use this if the plot is not visible in .pdf version (Matplotlib plot)\n",
    "fig_history = optuna.visualization.matplotlib.plot_optimization_history(study)\n",
    "plt.show()"
   ]
  },
  {
   "cell_type": "code",
   "execution_count": 7,
   "id": "6aadb4bd-0742-44b7-a106-f2dd53c098fa",
   "metadata": {},
   "outputs": [
    {
     "name": "stdout",
     "output_type": "stream",
     "text": [
      "Test accuracy with best hyperparameters: 0.9589\n"
     ]
    }
   ],
   "source": [
    "# Evaluate on the test set using the best hyperparameters.\n",
    "test_accuracy = train_test(study.best_trial.params)\n",
    "print(\"Test accuracy with best hyperparameters:\", test_accuracy)"
   ]
  },
  {
   "cell_type": "markdown",
   "id": "99882ba4-2e4d-42f6-ba9e-7a9685c9f162",
   "metadata": {},
   "source": [
    "## (1c) Grid search\n",
    "\n",
    "Implement grid search for the same three parameters.\n",
    "\n",
    "Remember that you **need to cover 75 alternatives in total.**\n",
    "\n",
    "So, think about how to best allocate those to cover the three hyperparameters."
   ]
  },
  {
   "cell_type": "code",
   "execution_count": 8,
   "id": "e55c0c95-9018-48fb-b718-d39ffd35627a",
   "metadata": {},
   "outputs": [
    {
     "name": "stdout",
     "output_type": "stream",
     "text": [
      "{'lr': 1e-06, 'momentum': 0.0, 'kernel_size': 3} , Validation Accuracy: 0.10233333333333333\n",
      "{'lr': 1e-06, 'momentum': 0.0, 'kernel_size': 5} , Validation Accuracy: 0.109\n",
      "{'lr': 1e-06, 'momentum': 0.0, 'kernel_size': 7} , Validation Accuracy: 0.113\n",
      "{'lr': 1e-06, 'momentum': 0.5, 'kernel_size': 3} , Validation Accuracy: 0.1145\n",
      "{'lr': 1e-06, 'momentum': 0.5, 'kernel_size': 5} , Validation Accuracy: 0.09966666666666667\n",
      "{'lr': 1e-06, 'momentum': 0.5, 'kernel_size': 7} , Validation Accuracy: 0.117\n",
      "{'lr': 1e-06, 'momentum': 0.9, 'kernel_size': 3} , Validation Accuracy: 0.08516666666666667\n",
      "{'lr': 1e-06, 'momentum': 0.9, 'kernel_size': 5} , Validation Accuracy: 0.11316666666666667\n",
      "{'lr': 1e-06, 'momentum': 0.9, 'kernel_size': 7} , Validation Accuracy: 0.096\n",
      "{'lr': 1e-06, 'momentum': 0.95, 'kernel_size': 3} , Validation Accuracy: 0.1045\n",
      "{'lr': 1e-06, 'momentum': 0.95, 'kernel_size': 5} , Validation Accuracy: 0.14983333333333335\n",
      "{'lr': 1e-06, 'momentum': 0.95, 'kernel_size': 7} , Validation Accuracy: 0.068\n",
      "{'lr': 1e-06, 'momentum': 0.99, 'kernel_size': 3} , Validation Accuracy: 0.1575\n",
      "{'lr': 1e-06, 'momentum': 0.99, 'kernel_size': 5} , Validation Accuracy: 0.054\n",
      "{'lr': 1e-06, 'momentum': 0.99, 'kernel_size': 7} , Validation Accuracy: 0.11466666666666667\n",
      "{'lr': 1e-05, 'momentum': 0.0, 'kernel_size': 3} , Validation Accuracy: 0.044\n",
      "{'lr': 1e-05, 'momentum': 0.0, 'kernel_size': 5} , Validation Accuracy: 0.11266666666666666\n",
      "{'lr': 1e-05, 'momentum': 0.0, 'kernel_size': 7} , Validation Accuracy: 0.099\n",
      "{'lr': 1e-05, 'momentum': 0.5, 'kernel_size': 3} , Validation Accuracy: 0.10816666666666666\n",
      "{'lr': 1e-05, 'momentum': 0.5, 'kernel_size': 5} , Validation Accuracy: 0.14516666666666667\n",
      "{'lr': 1e-05, 'momentum': 0.5, 'kernel_size': 7} , Validation Accuracy: 0.07916666666666666\n",
      "{'lr': 1e-05, 'momentum': 0.9, 'kernel_size': 3} , Validation Accuracy: 0.11133333333333334\n",
      "{'lr': 1e-05, 'momentum': 0.9, 'kernel_size': 5} , Validation Accuracy: 0.13083333333333333\n",
      "{'lr': 1e-05, 'momentum': 0.9, 'kernel_size': 7} , Validation Accuracy: 0.13266666666666665\n",
      "{'lr': 1e-05, 'momentum': 0.95, 'kernel_size': 3} , Validation Accuracy: 0.19866666666666666\n",
      "{'lr': 1e-05, 'momentum': 0.95, 'kernel_size': 5} , Validation Accuracy: 0.24283333333333335\n",
      "{'lr': 1e-05, 'momentum': 0.95, 'kernel_size': 7} , Validation Accuracy: 0.13116666666666665\n",
      "{'lr': 1e-05, 'momentum': 0.99, 'kernel_size': 3} , Validation Accuracy: 0.36683333333333334\n",
      "{'lr': 1e-05, 'momentum': 0.99, 'kernel_size': 5} , Validation Accuracy: 0.41583333333333333\n",
      "{'lr': 1e-05, 'momentum': 0.99, 'kernel_size': 7} , Validation Accuracy: 0.275\n",
      "{'lr': 0.0001, 'momentum': 0.0, 'kernel_size': 3} , Validation Accuracy: 0.13616666666666666\n",
      "{'lr': 0.0001, 'momentum': 0.0, 'kernel_size': 5} , Validation Accuracy: 0.173\n",
      "{'lr': 0.0001, 'momentum': 0.0, 'kernel_size': 7} , Validation Accuracy: 0.10766666666666666\n",
      "{'lr': 0.0001, 'momentum': 0.5, 'kernel_size': 3} , Validation Accuracy: 0.13483333333333333\n",
      "{'lr': 0.0001, 'momentum': 0.5, 'kernel_size': 5} , Validation Accuracy: 0.18033333333333335\n",
      "{'lr': 0.0001, 'momentum': 0.5, 'kernel_size': 7} , Validation Accuracy: 0.17066666666666666\n",
      "{'lr': 0.0001, 'momentum': 0.9, 'kernel_size': 3} , Validation Accuracy: 0.3011666666666667\n",
      "{'lr': 0.0001, 'momentum': 0.9, 'kernel_size': 5} , Validation Accuracy: 0.3275\n",
      "{'lr': 0.0001, 'momentum': 0.9, 'kernel_size': 7} , Validation Accuracy: 0.4726666666666667\n",
      "{'lr': 0.0001, 'momentum': 0.95, 'kernel_size': 3} , Validation Accuracy: 0.579\n",
      "{'lr': 0.0001, 'momentum': 0.95, 'kernel_size': 5} , Validation Accuracy: 0.645\n",
      "{'lr': 0.0001, 'momentum': 0.95, 'kernel_size': 7} , Validation Accuracy: 0.5116666666666667\n",
      "{'lr': 0.0001, 'momentum': 0.99, 'kernel_size': 3} , Validation Accuracy: 0.7011666666666667\n",
      "{'lr': 0.0001, 'momentum': 0.99, 'kernel_size': 5} , Validation Accuracy: 0.748\n",
      "{'lr': 0.0001, 'momentum': 0.99, 'kernel_size': 7} , Validation Accuracy: 0.7878333333333334\n",
      "{'lr': 0.001, 'momentum': 0.0, 'kernel_size': 3} , Validation Accuracy: 0.558\n",
      "{'lr': 0.001, 'momentum': 0.0, 'kernel_size': 5} , Validation Accuracy: 0.5031666666666667\n",
      "{'lr': 0.001, 'momentum': 0.0, 'kernel_size': 7} , Validation Accuracy: 0.454\n",
      "{'lr': 0.001, 'momentum': 0.5, 'kernel_size': 3} , Validation Accuracy: 0.6995\n",
      "{'lr': 0.001, 'momentum': 0.5, 'kernel_size': 5} , Validation Accuracy: 0.6303333333333333\n",
      "{'lr': 0.001, 'momentum': 0.5, 'kernel_size': 7} , Validation Accuracy: 0.5091666666666667\n",
      "{'lr': 0.001, 'momentum': 0.9, 'kernel_size': 3} , Validation Accuracy: 0.8666666666666667\n",
      "{'lr': 0.001, 'momentum': 0.9, 'kernel_size': 5} , Validation Accuracy: 0.874\n",
      "{'lr': 0.001, 'momentum': 0.9, 'kernel_size': 7} , Validation Accuracy: 0.8618333333333333\n",
      "{'lr': 0.001, 'momentum': 0.95, 'kernel_size': 3} , Validation Accuracy: 0.8868333333333334\n",
      "{'lr': 0.001, 'momentum': 0.95, 'kernel_size': 5} , Validation Accuracy: 0.8936666666666667\n",
      "{'lr': 0.001, 'momentum': 0.95, 'kernel_size': 7} , Validation Accuracy: 0.887\n",
      "{'lr': 0.001, 'momentum': 0.99, 'kernel_size': 3} , Validation Accuracy: 0.8676666666666667\n",
      "{'lr': 0.001, 'momentum': 0.99, 'kernel_size': 5} , Validation Accuracy: 0.8678333333333333\n",
      "{'lr': 0.001, 'momentum': 0.99, 'kernel_size': 7} , Validation Accuracy: 0.8555\n",
      "{'lr': 0.01, 'momentum': 0.0, 'kernel_size': 3} , Validation Accuracy: 0.8546666666666667\n",
      "{'lr': 0.01, 'momentum': 0.0, 'kernel_size': 5} , Validation Accuracy: 0.8816666666666667\n",
      "{'lr': 0.01, 'momentum': 0.0, 'kernel_size': 7} , Validation Accuracy: 0.8746666666666667\n",
      "{'lr': 0.01, 'momentum': 0.5, 'kernel_size': 3} , Validation Accuracy: 0.8916666666666667\n",
      "{'lr': 0.01, 'momentum': 0.5, 'kernel_size': 5} , Validation Accuracy: 0.9005\n",
      "{'lr': 0.01, 'momentum': 0.5, 'kernel_size': 7} , Validation Accuracy: 0.8973333333333333\n",
      "{'lr': 0.01, 'momentum': 0.9, 'kernel_size': 3} , Validation Accuracy: 0.9185\n",
      "{'lr': 0.01, 'momentum': 0.9, 'kernel_size': 5} , Validation Accuracy: 0.9388333333333333\n",
      "{'lr': 0.01, 'momentum': 0.9, 'kernel_size': 7} , Validation Accuracy: 0.95\n",
      "{'lr': 0.01, 'momentum': 0.95, 'kernel_size': 3} , Validation Accuracy: 0.9343333333333333\n",
      "{'lr': 0.01, 'momentum': 0.95, 'kernel_size': 5} , Validation Accuracy: 0.9506666666666667\n",
      "{'lr': 0.01, 'momentum': 0.95, 'kernel_size': 7} , Validation Accuracy: 0.9595\n",
      "{'lr': 0.01, 'momentum': 0.99, 'kernel_size': 3} , Validation Accuracy: 0.946\n",
      "{'lr': 0.01, 'momentum': 0.99, 'kernel_size': 5} , Validation Accuracy: 0.919\n",
      "{'lr': 0.01, 'momentum': 0.99, 'kernel_size': 7} , Validation Accuracy: 0.9378333333333333\n",
      "\n",
      "Best hyperparameters (grid search): {'lr': np.float64(0.01), 'momentum': 0.95, 'kernel_size': 7} with validation accuracy: 0.9595\n"
     ]
    }
   ],
   "source": [
    "values = {}\n",
    "\n",
    "# Loop over 5 values for learning rate, 5 momentum values, and 3 kernel sizes.\n",
    "# This gives 5 * 5 * 3 = 75 alternatives.\n",
    "for lr in np.geomspace(1e-6, 1e-2, 5):\n",
    "    for momentum in [0.0, 0.5, 0.9, 0.95, 0.99]:\n",
    "        for kernel_size in [3, 5, 7]:\n",
    "            parameterization = {\"lr\": lr, \"momentum\": momentum, \"kernel_size\": kernel_size}\n",
    "            net = CNN(kernel_size=kernel_size)\n",
    "            net = train(net, train_loader, parameterization)\n",
    "            val_accuracy = evaluate(net, valid_loader)\n",
    "            values[str(parameterization)] = val_accuracy\n",
    "            \n",
    "            print({\"lr\": float(lr), \"momentum\": momentum, \"kernel_size\": kernel_size}, \n",
    "                  \", Validation Accuracy:\", val_accuracy)\n",
    "\n",
    "# Get best parameterization (highest val accuracy)\n",
    "best_key = max(values, key=values.get)\n",
    "best_params = eval(best_key)\n",
    "print(\"\\nBest hyperparameters (grid search):\", best_params, \n",
    "      \"with validation accuracy:\", values[best_key])"
   ]
  },
  {
   "cell_type": "code",
   "execution_count": 9,
   "id": "7749f8ab-0622-42ed-a03f-c5b83963db36",
   "metadata": {},
   "outputs": [
    {
     "data": {
      "image/png": "[encoded data removed]",
      "text/plain": [
       "<Figure size 640x480 with 1 Axes>"
      ]
     },
     "metadata": {},
     "output_type": "display_data"
    }
   ],
   "source": [
    "# Track the best validation accuracy so far for each iteration.\n",
    "bests = []\n",
    "best_so_far = 0.0\n",
    "for key, value in values.items():\n",
    "    if value > best_so_far:\n",
    "        best_so_far = value\n",
    "    bests.append(best_so_far)\n",
    "\n",
    "# Plot the best validation accuracy observed over the iterations.\n",
    "plt.plot(bests)\n",
    "plt.title(\"Best Validation Accuracy over Grid Search Iterations\")\n",
    "plt.xlabel(\"Iteration\")\n",
    "plt.ylabel(\"Best Accuracy So Far\")\n",
    "plt.show()"
   ]
  },
  {
   "cell_type": "code",
   "execution_count": 10,
   "id": "1b31b3e6-f29a-4b57-9e71-15583cbe32ce",
   "metadata": {},
   "outputs": [
    {
     "name": "stdout",
     "output_type": "stream",
     "text": [
      "\n",
      "Final Test Accuracy with best hyperparameters from grid search: 0.9661\n"
     ]
    }
   ],
   "source": [
    "final_test_accuracy = train_test(best_params)\n",
    "print(\"\\nFinal Test Accuracy with best hyperparameters from grid search:\", final_test_accuracy)"
   ]
  },
  {
   "cell_type": "markdown",
   "id": "11e75aca-78bb-45a2-bce0-bac671146746",
   "metadata": {},
   "source": [
    "## Observations\n",
    "\n",
    "- Both BO and grid search reached similar final test accuracies. BO achieved a test accuracy of about 95.89% and grid search reached 96.61%. \n",
    "\n",
    "- However, BO found near optimal hyperparameters after only about 10 trials. In grid search, the order of evaluation is fixed, so hitting a good parameter is just a matter of luck. If a promising combination is evaluated early, you see good performance quickly. If not, you might have to wait until the end.\n",
    "\n",
    "- When setting the search range for parameters like the learning rate, using a linear spacing is not ideal. For instance, a linear range between $1e-5$ and $1.0$ with 6 values would give $1e-5$, $0.2$, $0.4$, $0.6$, $0.8$, $1.0$, meaning most values are near the largest value. A geometric spacing like $1e-5$, $1e-4$, $1e-3$, $1e-2$, $1e-1$, $1e0$ gives a more balanced and effective exploration. So for grid search, exact values need to be specified carefully, as it is a choice where mistakes can easily happen.\n"
   ]
  },
  {
   "cell_type": "markdown",
   "id": "a18f94ef-2510-43cd-b207-425ba207428f",
   "metadata": {},
   "source": [
    "# 2. Transfer learning"
   ]
  },
  {
   "cell_type": "code",
   "execution_count": 11,
   "id": "a2ebe257-d9e9-470c-855a-4423e519b533",
   "metadata": {},
   "outputs": [],
   "source": [
    "import random\n",
    "\n",
    "seed = 42\n",
    "torch.manual_seed(seed)\n",
    "random.seed(seed)"
   ]
  },
  {
   "cell_type": "markdown",
   "id": "dcebf4ae-e0cf-4f99-bda6-12a2c4654d7e",
   "metadata": {},
   "source": [
    "Model - **DO NOT CHANGE THIS**"
   ]
  },
  {
   "cell_type": "code",
   "execution_count": 12,
   "id": "2ad346a9-e39f-4a55-bae9-4127122091dd",
   "metadata": {},
   "outputs": [],
   "source": [
    "class CNNModel(nn.Module):\n",
    "    def __init__(self):\n",
    "        super(CNNModel, self).__init__()\n",
    "\n",
    "        # Block 1\n",
    "        self.cnn1 = nn.Conv2d(in_channels=1, out_channels=16, kernel_size=5, stride=1, padding=2)\n",
    "        self.relu1 = nn.ReLU()\n",
    "        self.bn1 = nn.BatchNorm2d(16)\n",
    "        self.MaxPool1 = nn.MaxPool2d(kernel_size=2)\n",
    "\n",
    "        # Block 2\n",
    "        self.cnn2 = nn.Conv2d(16, 32, kernel_size=5, stride=1, padding=2)\n",
    "        self.relu2 = nn.ReLU()\n",
    "        self.bn2 = nn.BatchNorm2d(32)\n",
    "        self.MaxPool2 = nn.MaxPool2d(kernel_size=2)\n",
    "\n",
    "        # Block 3\n",
    "        self.cnn3 = nn.Conv2d(32, 64, kernel_size=5, stride=1, padding=2)\n",
    "        self.relu3 = nn.ReLU()\n",
    "        self.bn3 = nn.BatchNorm2d(64)\n",
    "        self.MaxPool3 = nn.MaxPool2d(kernel_size=2)\n",
    "\n",
    "        self.fc1 = nn.Linear(576, 10)  # Fully connected layer\n",
    "\n",
    "    def forward(self, x):\n",
    "        out = self.MaxPool1(self.bn1(self.relu1(self.cnn1(x))))\n",
    "        out = self.MaxPool2(self.bn2(self.relu2(self.cnn2(out))))\n",
    "        out = self.MaxPool3(self.bn3(self.relu3(self.cnn3(out))))\n",
    "\n",
    "        out = out.view(out.size(0), -1)\n",
    "        out = self.fc1(out)\n",
    "\n",
    "        return out"
   ]
  },
  {
   "cell_type": "markdown",
   "id": "bfe0911c-7041-4fef-8ad2-1de4b2f8d5fa",
   "metadata": {},
   "source": [
    "Load Fashion-MNIST data. 128 training samples, 10k test samples. **DO NOT CHANGE THIS**"
   ]
  },
  {
   "cell_type": "code",
   "execution_count": 13,
   "id": "f9c48c70-708c-4542-bb94-51a95ccb34ad",
   "metadata": {},
   "outputs": [
    {
     "name": "stdout",
     "output_type": "stream",
     "text": [
      "Training set size: 128\n",
      "Test set size: 10000\n"
     ]
    }
   ],
   "source": [
    "transform = transforms.Compose([transforms.ToTensor()])\n",
    "        \n",
    "# Load full dataset\n",
    "full_train_dataset = torchvision.datasets.FashionMNIST(root=\"./data\", train=True, download=True, transform=transform)\n",
    "test_dataset = torchvision.datasets.FashionMNIST(root=\"./data\", train=False, download=True, transform=transform)\n",
    "\n",
    "batch_size = 128\n",
    "\n",
    "# Slice small set of data\n",
    "indices = random.sample(range(len(full_train_dataset)), batch_size)\n",
    "train_dataset = Subset(full_train_dataset, indices)\n",
    "\n",
    "# Create DataLoaders\n",
    "train_loader = DataLoader(train_dataset, batch_size=batch_size, shuffle=True)\n",
    "test_loader = DataLoader(test_dataset, batch_size=batch_size, shuffle=False)\n",
    "\n",
    "print(\"Training set size:\", len(train_loader.dataset))\n",
    "print(\"Test set size:\", len(test_loader.dataset))"
   ]
  },
  {
   "cell_type": "markdown",
   "id": "b474efb3-06e3-4299-bd28-3013b758121a",
   "metadata": {},
   "source": [
    "We recommend writing a general training function that implements all three alternative models.\n",
    "\n",
    "Below **train_model()** function is a template that already has some functionality for storing the errors, doing evaluation over test dataset and printing results.\n",
    "\n",
    "You should think about how to implement alternative ways of doing transfer learning.\n",
    "\n",
    "Once you have this function, you can simply run the following cells to try out the alternative approaches."
   ]
  },
  {
   "cell_type": "code",
   "execution_count": 14,
   "id": "153e0b55-ed3f-4e10-9f2f-9ae0d567301b",
   "metadata": {},
   "outputs": [],
   "source": [
    "# Training function\n",
    "def train_model(model, train_loader, test_loader, optimizer, criterion, epochs, freeze_layers):\n",
    "    if freeze_layers:\n",
    "        # Freeze all layers except fc1\n",
    "        for name, param in model.named_parameters():\n",
    "            if name not in ['fc1.weight', 'fc1.bias']:\n",
    "                param.requires_grad = False\n",
    "\n",
    "    train_losses = []\n",
    "    test_losses = []\n",
    "    train_accs = []\n",
    "    test_accs = []\n",
    "    \n",
    "    # Training Loop\n",
    "    for epoch in range(epochs):\n",
    "        model.train()\n",
    "        total_loss, correct, total = 0, 0, 0\n",
    "        for images, labels in train_loader:\n",
    "            optimizer.zero_grad()\n",
    "            outputs = model(images)\n",
    "            loss = criterion(outputs, labels)\n",
    "            loss.backward()\n",
    "            optimizer.step()\n",
    "            total_loss += loss.item() * images.size(0)\n",
    "            _, predicted = torch.max(outputs, 1)\n",
    "            correct += (predicted == labels).sum().item()\n",
    "            total += labels.size(0)\n",
    "        train_losses.append(total_loss / total)\n",
    "        train_accs.append(100 * correct / total)\n",
    "\n",
    "        # Evaluation\n",
    "        model.eval()\n",
    "        test_loss_total, correct, total = 0, 0, 0\n",
    "        with torch.no_grad():\n",
    "            for images, labels in test_loader:\n",
    "                outputs = model(images)\n",
    "                loss = criterion(outputs, labels)\n",
    "                test_loss_total += loss.item() * images.size(0)\n",
    "                _, predicted = torch.max(outputs, 1)\n",
    "                correct += (predicted == labels).sum().item()\n",
    "                total += labels.size(0)\n",
    "        test_losses.append(test_loss_total / total)\n",
    "        test_accs.append(100 * correct / total)\n",
    "\n",
    "        print(f\"Epoch {epoch+1:>2}/{epochs} | \"\n",
    "              f\"Train Loss: {train_losses[-1]:.4f} | Train Acc: {train_accs[-1]:.2f}% | \"\n",
    "              f\"Test Loss: {test_losses[-1]:.4f} | Test Acc: {test_accs[-1]:.2f}%\")\n",
    "\n",
    "    return train_losses, test_losses, train_accs, test_accs"
   ]
  },
  {
   "cell_type": "markdown",
   "id": "4dde5833-9385-406a-97f4-c7e4885d4120",
   "metadata": {},
   "source": [
    "## (2a) From Scratch\n",
    "\n",
    "Create a new CNNModel and train from scratch."
   ]
  },
  {
   "cell_type": "markdown",
   "id": "0283df92-3e9b-488f-b3ca-6d66de89c780",
   "metadata": {},
   "source": [
    "- Here, we train the CNN model from scratch by initializing it with random weights using `model1 = CNNModel()` and setting `freeze_layers` to `False`, meaning all layers are updated during training. The `train_model()` function is written in a way that it can be used in all three alternatives by giving required inputs."
   ]
  },
  {
   "cell_type": "code",
   "execution_count": 15,
   "id": "e131f0bd-c882-44db-b7f3-b5fb5732bc7c",
   "metadata": {},
   "outputs": [
    {
     "name": "stdout",
     "output_type": "stream",
     "text": [
      "Epoch  1/70 | Train Loss: 2.5355 | Train Acc: 10.16% | Test Loss: 2.3114 | Test Acc: 18.27%\n",
      "Epoch  2/70 | Train Loss: 2.2945 | Train Acc: 59.38% | Test Loss: 2.1899 | Test Acc: 17.21%\n",
      "Epoch  3/70 | Train Loss: 1.7182 | Train Acc: 48.44% | Test Loss: 2.0385 | Test Acc: 28.75%\n",
      "Epoch  4/70 | Train Loss: 1.0557 | Train Acc: 71.09% | Test Loss: 2.0840 | Test Acc: 29.94%\n",
      "Epoch  5/70 | Train Loss: 0.6350 | Train Acc: 78.91% | Test Loss: 2.5933 | Test Acc: 18.44%\n",
      "Epoch  6/70 | Train Loss: 0.5867 | Train Acc: 78.91% | Test Loss: 3.3037 | Test Acc: 10.36%\n",
      "Epoch  7/70 | Train Loss: 0.3912 | Train Acc: 82.03% | Test Loss: 3.9069 | Test Acc: 10.02%\n",
      "Epoch  8/70 | Train Loss: 0.2761 | Train Acc: 89.84% | Test Loss: 4.5573 | Test Acc: 10.00%\n",
      "Epoch  9/70 | Train Loss: 0.2529 | Train Acc: 91.41% | Test Loss: 5.3759 | Test Acc: 10.00%\n",
      "Epoch 10/70 | Train Loss: 0.2085 | Train Acc: 94.53% | Test Loss: 6.1915 | Test Acc: 10.02%\n",
      "Epoch 11/70 | Train Loss: 0.1702 | Train Acc: 95.31% | Test Loss: 6.8189 | Test Acc: 10.00%\n",
      "Epoch 12/70 | Train Loss: 0.1183 | Train Acc: 96.88% | Test Loss: 7.2791 | Test Acc: 10.00%\n",
      "Epoch 13/70 | Train Loss: 0.0909 | Train Acc: 98.44% | Test Loss: 7.7010 | Test Acc: 10.00%\n",
      "Epoch 14/70 | Train Loss: 0.0829 | Train Acc: 98.44% | Test Loss: 8.1551 | Test Acc: 10.00%\n",
      "Epoch 15/70 | Train Loss: 0.0625 | Train Acc: 99.22% | Test Loss: 8.6367 | Test Acc: 10.00%\n",
      "Epoch 16/70 | Train Loss: 0.0437 | Train Acc: 100.00% | Test Loss: 9.0637 | Test Acc: 10.00%\n",
      "Epoch 17/70 | Train Loss: 0.0369 | Train Acc: 100.00% | Test Loss: 9.3645 | Test Acc: 10.00%\n",
      "Epoch 18/70 | Train Loss: 0.0319 | Train Acc: 100.00% | Test Loss: 9.5371 | Test Acc: 10.00%\n",
      "Epoch 19/70 | Train Loss: 0.0259 | Train Acc: 100.00% | Test Loss: 9.6292 | Test Acc: 10.03%\n",
      "Epoch 20/70 | Train Loss: 0.0227 | Train Acc: 100.00% | Test Loss: 9.6815 | Test Acc: 10.09%\n",
      "Epoch 21/70 | Train Loss: 0.0202 | Train Acc: 100.00% | Test Loss: 9.7132 | Test Acc: 10.30%\n",
      "Epoch 22/70 | Train Loss: 0.0154 | Train Acc: 100.00% | Test Loss: 9.7250 | Test Acc: 10.52%\n",
      "Epoch 23/70 | Train Loss: 0.0111 | Train Acc: 100.00% | Test Loss: 9.7075 | Test Acc: 10.84%\n",
      "Epoch 24/70 | Train Loss: 0.0089 | Train Acc: 100.00% | Test Loss: 9.6437 | Test Acc: 11.55%\n",
      "Epoch 25/70 | Train Loss: 0.0078 | Train Acc: 100.00% | Test Loss: 9.5212 | Test Acc: 12.33%\n",
      "Epoch 26/70 | Train Loss: 0.0070 | Train Acc: 100.00% | Test Loss: 9.3416 | Test Acc: 13.21%\n",
      "Epoch 27/70 | Train Loss: 0.0060 | Train Acc: 100.00% | Test Loss: 9.1198 | Test Acc: 14.57%\n",
      "Epoch 28/70 | Train Loss: 0.0050 | Train Acc: 100.00% | Test Loss: 8.8763 | Test Acc: 16.42%\n",
      "Epoch 29/70 | Train Loss: 0.0042 | Train Acc: 100.00% | Test Loss: 8.6284 | Test Acc: 18.60%\n",
      "Epoch 30/70 | Train Loss: 0.0036 | Train Acc: 100.00% | Test Loss: 8.3980 | Test Acc: 20.85%\n",
      "Epoch 31/70 | Train Loss: 0.0032 | Train Acc: 100.00% | Test Loss: 8.1929 | Test Acc: 22.95%\n",
      "Epoch 32/70 | Train Loss: 0.0028 | Train Acc: 100.00% | Test Loss: 8.0098 | Test Acc: 24.67%\n",
      "Epoch 33/70 | Train Loss: 0.0025 | Train Acc: 100.00% | Test Loss: 7.8430 | Test Acc: 26.22%\n",
      "Epoch 34/70 | Train Loss: 0.0022 | Train Acc: 100.00% | Test Loss: 7.6885 | Test Acc: 27.72%\n",
      "Epoch 35/70 | Train Loss: 0.0019 | Train Acc: 100.00% | Test Loss: 7.5412 | Test Acc: 29.05%\n",
      "Epoch 36/70 | Train Loss: 0.0017 | Train Acc: 100.00% | Test Loss: 7.3966 | Test Acc: 30.62%\n",
      "Epoch 37/70 | Train Loss: 0.0015 | Train Acc: 100.00% | Test Loss: 7.2516 | Test Acc: 32.16%\n",
      "Epoch 38/70 | Train Loss: 0.0014 | Train Acc: 100.00% | Test Loss: 7.1032 | Test Acc: 33.40%\n",
      "Epoch 39/70 | Train Loss: 0.0013 | Train Acc: 100.00% | Test Loss: 6.9489 | Test Acc: 34.84%\n",
      "Epoch 40/70 | Train Loss: 0.0012 | Train Acc: 100.00% | Test Loss: 6.7880 | Test Acc: 36.53%\n",
      "Epoch 41/70 | Train Loss: 0.0011 | Train Acc: 100.00% | Test Loss: 6.6196 | Test Acc: 38.27%\n",
      "Epoch 42/70 | Train Loss: 0.0010 | Train Acc: 100.00% | Test Loss: 6.4435 | Test Acc: 39.95%\n",
      "Epoch 43/70 | Train Loss: 0.0010 | Train Acc: 100.00% | Test Loss: 6.2598 | Test Acc: 41.58%\n",
      "Epoch 44/70 | Train Loss: 0.0009 | Train Acc: 100.00% | Test Loss: 6.0703 | Test Acc: 43.15%\n",
      "Epoch 45/70 | Train Loss: 0.0009 | Train Acc: 100.00% | Test Loss: 5.8768 | Test Acc: 44.85%\n",
      "Epoch 46/70 | Train Loss: 0.0008 | Train Acc: 100.00% | Test Loss: 5.6801 | Test Acc: 46.33%\n",
      "Epoch 47/70 | Train Loss: 0.0008 | Train Acc: 100.00% | Test Loss: 5.4817 | Test Acc: 47.79%\n",
      "Epoch 48/70 | Train Loss: 0.0008 | Train Acc: 100.00% | Test Loss: 5.2839 | Test Acc: 49.47%\n",
      "Epoch 49/70 | Train Loss: 0.0007 | Train Acc: 100.00% | Test Loss: 5.0885 | Test Acc: 50.91%\n",
      "Epoch 50/70 | Train Loss: 0.0007 | Train Acc: 100.00% | Test Loss: 4.8972 | Test Acc: 52.29%\n",
      "Epoch 51/70 | Train Loss: 0.0006 | Train Acc: 100.00% | Test Loss: 4.7113 | Test Acc: 53.43%\n",
      "Epoch 52/70 | Train Loss: 0.0006 | Train Acc: 100.00% | Test Loss: 4.5315 | Test Acc: 54.63%\n",
      "Epoch 53/70 | Train Loss: 0.0006 | Train Acc: 100.00% | Test Loss: 4.3593 | Test Acc: 55.88%\n",
      "Epoch 54/70 | Train Loss: 0.0005 | Train Acc: 100.00% | Test Loss: 4.1962 | Test Acc: 57.01%\n",
      "Epoch 55/70 | Train Loss: 0.0005 | Train Acc: 100.00% | Test Loss: 4.0427 | Test Acc: 58.17%\n",
      "Epoch 56/70 | Train Loss: 0.0005 | Train Acc: 100.00% | Test Loss: 3.8992 | Test Acc: 59.35%\n",
      "Epoch 57/70 | Train Loss: 0.0005 | Train Acc: 100.00% | Test Loss: 3.7658 | Test Acc: 60.22%\n",
      "Epoch 58/70 | Train Loss: 0.0004 | Train Acc: 100.00% | Test Loss: 3.6427 | Test Acc: 61.20%\n",
      "Epoch 59/70 | Train Loss: 0.0004 | Train Acc: 100.00% | Test Loss: 3.5293 | Test Acc: 61.94%\n",
      "Epoch 60/70 | Train Loss: 0.0004 | Train Acc: 100.00% | Test Loss: 3.4256 | Test Acc: 62.71%\n",
      "Epoch 61/70 | Train Loss: 0.0004 | Train Acc: 100.00% | Test Loss: 3.3310 | Test Acc: 63.27%\n",
      "Epoch 62/70 | Train Loss: 0.0004 | Train Acc: 100.00% | Test Loss: 3.2455 | Test Acc: 63.77%\n",
      "Epoch 63/70 | Train Loss: 0.0004 | Train Acc: 100.00% | Test Loss: 3.1683 | Test Acc: 64.11%\n",
      "Epoch 64/70 | Train Loss: 0.0004 | Train Acc: 100.00% | Test Loss: 3.0990 | Test Acc: 64.55%\n",
      "Epoch 65/70 | Train Loss: 0.0004 | Train Acc: 100.00% | Test Loss: 3.0370 | Test Acc: 64.86%\n",
      "Epoch 66/70 | Train Loss: 0.0003 | Train Acc: 100.00% | Test Loss: 2.9817 | Test Acc: 65.22%\n",
      "Epoch 67/70 | Train Loss: 0.0003 | Train Acc: 100.00% | Test Loss: 2.9325 | Test Acc: 65.65%\n",
      "Epoch 68/70 | Train Loss: 0.0003 | Train Acc: 100.00% | Test Loss: 2.8888 | Test Acc: 66.11%\n",
      "Epoch 69/70 | Train Loss: 0.0003 | Train Acc: 100.00% | Test Loss: 2.8504 | Test Acc: 66.34%\n",
      "Epoch 70/70 | Train Loss: 0.0003 | Train Acc: 100.00% | Test Loss: 2.8168 | Test Acc: 66.53%\n"
     ]
    }
   ],
   "source": [
    "model1 = CNNModel()\n",
    "criterion = nn.CrossEntropyLoss()\n",
    "optimizer1 = torch.optim.Adam(model1.parameters(), lr=0.01)\n",
    "epochs = 70\n",
    "freeze_layers = False\n",
    "train_loss1, test_loss1, train_acc1, test_acc1 = train_model(model1, train_loader, test_loader, optimizer1,\n",
    "                                                             criterion, epochs=epochs, freeze_layers=freeze_layers)"
   ]
  },
  {
   "cell_type": "code",
   "execution_count": 16,
   "id": "651b41ed-fff8-4557-95f4-610f494f01e5",
   "metadata": {},
   "outputs": [
    {
     "data": {
      "image/png": "[encoded data removed]",
      "text/plain": [
       "<Figure size 600x400 with 1 Axes>"
      ]
     },
     "metadata": {},
     "output_type": "display_data"
    }
   ],
   "source": [
    "epoch_range = range(1, epochs + 1)\n",
    "plt.figure(figsize=(6, 4))\n",
    "plt.plot(epoch_range, train_loss1, label=\"Train Loss\")\n",
    "plt.plot(epoch_range, test_loss1, label=\"Test Loss\")\n",
    "plt.xlabel(\"Epoch\")\n",
    "plt.ylabel(\"Loss\")\n",
    "plt.title(\"Loss (from scratch)\")\n",
    "plt.legend()\n",
    "plt.tight_layout()\n",
    "plt.show()"
   ]
  },
  {
   "cell_type": "markdown",
   "id": "f376b7b9-cb7e-448f-b424-6965f94fe010",
   "metadata": {},
   "source": [
    "## (2b) Train only last layer of pre-trained model\n",
    "\n",
    "Create a new CNNModel, load pre-trained weights, fix the weights of all other layers and only train the last layer. \n",
    "\n",
    "Remember to implement what happens when **freeze_layers = True** in the given **train_model()** function."
   ]
  },
  {
   "cell_type": "markdown",
   "id": "39b9309c-943b-49d3-bf72-0d7916c8b5f1",
   "metadata": {},
   "source": [
    "- Here, we use a pretrained model by loading its weights with `model2.load_state_dict(torch.load(\"pretrained_MNIST_model.pt\"))`. We freeze all layers except the last (fc1) by setting `freeze_layers` to `True`, so only the final layer is fine-tuned when we call `train_model()`."
   ]
  },
  {
   "cell_type": "code",
   "execution_count": 18,
   "id": "3052fc64-1635-48c2-8879-60d7fed3327c",
   "metadata": {},
   "outputs": [
    {
     "name": "stdout",
     "output_type": "stream",
     "text": [
      "Epoch  1/70 | Train Loss: 10.3249 | Train Acc: 13.28% | Test Loss: 4.6077 | Test Acc: 22.53%\n",
      "Epoch  2/70 | Train Loss: 6.0540 | Train Acc: 25.78% | Test Loss: 3.3054 | Test Acc: 29.61%\n",
      "Epoch  3/70 | Train Loss: 3.7254 | Train Acc: 39.06% | Test Loss: 2.6625 | Test Acc: 38.05%\n",
      "Epoch  4/70 | Train Loss: 2.4371 | Train Acc: 48.44% | Test Loss: 2.3402 | Test Acc: 44.78%\n",
      "Epoch  5/70 | Train Loss: 1.7668 | Train Acc: 56.25% | Test Loss: 2.0748 | Test Acc: 50.14%\n",
      "Epoch  6/70 | Train Loss: 1.1403 | Train Acc: 64.06% | Test Loss: 1.8857 | Test Acc: 56.47%\n",
      "Epoch  7/70 | Train Loss: 0.7263 | Train Acc: 80.47% | Test Loss: 1.8122 | Test Acc: 59.25%\n",
      "Epoch  8/70 | Train Loss: 0.4949 | Train Acc: 85.16% | Test Loss: 1.8067 | Test Acc: 60.20%\n",
      "Epoch  9/70 | Train Loss: 0.3610 | Train Acc: 89.06% | Test Loss: 1.8307 | Test Acc: 61.05%\n",
      "Epoch 10/70 | Train Loss: 0.2688 | Train Acc: 91.41% | Test Loss: 1.8787 | Test Acc: 62.08%\n",
      "Epoch 11/70 | Train Loss: 0.2134 | Train Acc: 93.75% | Test Loss: 1.9418 | Test Acc: 62.64%\n",
      "Epoch 12/70 | Train Loss: 0.1839 | Train Acc: 96.09% | Test Loss: 2.0022 | Test Acc: 63.16%\n",
      "Epoch 13/70 | Train Loss: 0.1699 | Train Acc: 96.09% | Test Loss: 2.0448 | Test Acc: 63.69%\n",
      "Epoch 14/70 | Train Loss: 0.1459 | Train Acc: 96.09% | Test Loss: 2.0701 | Test Acc: 64.20%\n",
      "Epoch 15/70 | Train Loss: 0.1120 | Train Acc: 96.88% | Test Loss: 2.0878 | Test Acc: 64.79%\n",
      "Epoch 16/70 | Train Loss: 0.0784 | Train Acc: 98.44% | Test Loss: 2.1071 | Test Acc: 65.38%\n",
      "Epoch 17/70 | Train Loss: 0.0511 | Train Acc: 98.44% | Test Loss: 2.1326 | Test Acc: 65.74%\n",
      "Epoch 18/70 | Train Loss: 0.0348 | Train Acc: 100.00% | Test Loss: 2.1650 | Test Acc: 66.07%\n",
      "Epoch 19/70 | Train Loss: 0.0283 | Train Acc: 100.00% | Test Loss: 2.2020 | Test Acc: 66.33%\n",
      "Epoch 20/70 | Train Loss: 0.0246 | Train Acc: 100.00% | Test Loss: 2.2409 | Test Acc: 66.48%\n",
      "Epoch 21/70 | Train Loss: 0.0215 | Train Acc: 100.00% | Test Loss: 2.2800 | Test Acc: 66.51%\n",
      "Epoch 22/70 | Train Loss: 0.0185 | Train Acc: 100.00% | Test Loss: 2.3184 | Test Acc: 66.62%\n",
      "Epoch 23/70 | Train Loss: 0.0157 | Train Acc: 100.00% | Test Loss: 2.3556 | Test Acc: 66.67%\n",
      "Epoch 24/70 | Train Loss: 0.0132 | Train Acc: 100.00% | Test Loss: 2.3913 | Test Acc: 66.76%\n",
      "Epoch 25/70 | Train Loss: 0.0112 | Train Acc: 100.00% | Test Loss: 2.4254 | Test Acc: 66.77%\n",
      "Epoch 26/70 | Train Loss: 0.0096 | Train Acc: 100.00% | Test Loss: 2.4578 | Test Acc: 66.76%\n",
      "Epoch 27/70 | Train Loss: 0.0085 | Train Acc: 100.00% | Test Loss: 2.4883 | Test Acc: 66.68%\n",
      "Epoch 28/70 | Train Loss: 0.0076 | Train Acc: 100.00% | Test Loss: 2.5169 | Test Acc: 66.65%\n",
      "Epoch 29/70 | Train Loss: 0.0069 | Train Acc: 100.00% | Test Loss: 2.5436 | Test Acc: 66.58%\n",
      "Epoch 30/70 | Train Loss: 0.0063 | Train Acc: 100.00% | Test Loss: 2.5683 | Test Acc: 66.48%\n",
      "Epoch 31/70 | Train Loss: 0.0059 | Train Acc: 100.00% | Test Loss: 2.5911 | Test Acc: 66.40%\n",
      "Epoch 32/70 | Train Loss: 0.0055 | Train Acc: 100.00% | Test Loss: 2.6121 | Test Acc: 66.39%\n",
      "Epoch 33/70 | Train Loss: 0.0052 | Train Acc: 100.00% | Test Loss: 2.6312 | Test Acc: 66.40%\n",
      "Epoch 34/70 | Train Loss: 0.0049 | Train Acc: 100.00% | Test Loss: 2.6487 | Test Acc: 66.40%\n",
      "Epoch 35/70 | Train Loss: 0.0046 | Train Acc: 100.00% | Test Loss: 2.6646 | Test Acc: 66.31%\n",
      "Epoch 36/70 | Train Loss: 0.0044 | Train Acc: 100.00% | Test Loss: 2.6789 | Test Acc: 66.28%\n",
      "Epoch 37/70 | Train Loss: 0.0041 | Train Acc: 100.00% | Test Loss: 2.6918 | Test Acc: 66.32%\n",
      "Epoch 38/70 | Train Loss: 0.0039 | Train Acc: 100.00% | Test Loss: 2.7033 | Test Acc: 66.31%\n",
      "Epoch 39/70 | Train Loss: 0.0037 | Train Acc: 100.00% | Test Loss: 2.7137 | Test Acc: 66.26%\n",
      "Epoch 40/70 | Train Loss: 0.0035 | Train Acc: 100.00% | Test Loss: 2.7229 | Test Acc: 66.26%\n",
      "Epoch 41/70 | Train Loss: 0.0033 | Train Acc: 100.00% | Test Loss: 2.7310 | Test Acc: 66.21%\n",
      "Epoch 42/70 | Train Loss: 0.0032 | Train Acc: 100.00% | Test Loss: 2.7383 | Test Acc: 66.24%\n",
      "Epoch 43/70 | Train Loss: 0.0030 | Train Acc: 100.00% | Test Loss: 2.7447 | Test Acc: 66.20%\n",
      "Epoch 44/70 | Train Loss: 0.0029 | Train Acc: 100.00% | Test Loss: 2.7503 | Test Acc: 66.29%\n",
      "Epoch 45/70 | Train Loss: 0.0027 | Train Acc: 100.00% | Test Loss: 2.7552 | Test Acc: 66.31%\n",
      "Epoch 46/70 | Train Loss: 0.0026 | Train Acc: 100.00% | Test Loss: 2.7596 | Test Acc: 66.27%\n",
      "Epoch 47/70 | Train Loss: 0.0025 | Train Acc: 100.00% | Test Loss: 2.7634 | Test Acc: 66.25%\n",
      "Epoch 48/70 | Train Loss: 0.0024 | Train Acc: 100.00% | Test Loss: 2.7667 | Test Acc: 66.28%\n",
      "Epoch 49/70 | Train Loss: 0.0023 | Train Acc: 100.00% | Test Loss: 2.7697 | Test Acc: 66.28%\n",
      "Epoch 50/70 | Train Loss: 0.0022 | Train Acc: 100.00% | Test Loss: 2.7723 | Test Acc: 66.30%\n",
      "Epoch 51/70 | Train Loss: 0.0021 | Train Acc: 100.00% | Test Loss: 2.7746 | Test Acc: 66.36%\n",
      "Epoch 52/70 | Train Loss: 0.0020 | Train Acc: 100.00% | Test Loss: 2.7766 | Test Acc: 66.38%\n",
      "Epoch 53/70 | Train Loss: 0.0019 | Train Acc: 100.00% | Test Loss: 2.7785 | Test Acc: 66.35%\n",
      "Epoch 54/70 | Train Loss: 0.0019 | Train Acc: 100.00% | Test Loss: 2.7801 | Test Acc: 66.40%\n",
      "Epoch 55/70 | Train Loss: 0.0018 | Train Acc: 100.00% | Test Loss: 2.7816 | Test Acc: 66.35%\n",
      "Epoch 56/70 | Train Loss: 0.0018 | Train Acc: 100.00% | Test Loss: 2.7830 | Test Acc: 66.30%\n",
      "Epoch 57/70 | Train Loss: 0.0017 | Train Acc: 100.00% | Test Loss: 2.7843 | Test Acc: 66.31%\n",
      "Epoch 58/70 | Train Loss: 0.0017 | Train Acc: 100.00% | Test Loss: 2.7854 | Test Acc: 66.35%\n",
      "Epoch 59/70 | Train Loss: 0.0016 | Train Acc: 100.00% | Test Loss: 2.7865 | Test Acc: 66.40%\n",
      "Epoch 60/70 | Train Loss: 0.0016 | Train Acc: 100.00% | Test Loss: 2.7876 | Test Acc: 66.43%\n",
      "Epoch 61/70 | Train Loss: 0.0015 | Train Acc: 100.00% | Test Loss: 2.7885 | Test Acc: 66.42%\n",
      "Epoch 62/70 | Train Loss: 0.0015 | Train Acc: 100.00% | Test Loss: 2.7895 | Test Acc: 66.41%\n",
      "Epoch 63/70 | Train Loss: 0.0015 | Train Acc: 100.00% | Test Loss: 2.7903 | Test Acc: 66.39%\n",
      "Epoch 64/70 | Train Loss: 0.0015 | Train Acc: 100.00% | Test Loss: 2.7912 | Test Acc: 66.40%\n",
      "Epoch 65/70 | Train Loss: 0.0014 | Train Acc: 100.00% | Test Loss: 2.7920 | Test Acc: 66.41%\n",
      "Epoch 66/70 | Train Loss: 0.0014 | Train Acc: 100.00% | Test Loss: 2.7928 | Test Acc: 66.43%\n",
      "Epoch 67/70 | Train Loss: 0.0014 | Train Acc: 100.00% | Test Loss: 2.7935 | Test Acc: 66.42%\n",
      "Epoch 68/70 | Train Loss: 0.0014 | Train Acc: 100.00% | Test Loss: 2.7943 | Test Acc: 66.44%\n",
      "Epoch 69/70 | Train Loss: 0.0013 | Train Acc: 100.00% | Test Loss: 2.7950 | Test Acc: 66.44%\n",
      "Epoch 70/70 | Train Loss: 0.0013 | Train Acc: 100.00% | Test Loss: 2.7956 | Test Acc: 66.42%\n"
     ]
    }
   ],
   "source": [
    "# Transfer Learning: Freeze all but last layer\n",
    "model2 = CNNModel()\n",
    "model2.load_state_dict(torch.load(\"pretrained_MNIST_model.pt\"))\n",
    "optimizer2 = torch.optim.Adam(model2.parameters(), lr=0.01)\n",
    "epochs = 70\n",
    "freeze_layers = True\n",
    "train_loss2, test_loss2, train_acc2, test_acc2 = train_model(model2, train_loader, test_loader, optimizer2, \n",
    "                                                             criterion, epochs=epochs, freeze_layers=freeze_layers)"
   ]
  },
  {
   "cell_type": "code",
   "execution_count": 19,
   "id": "147d8d8b-129e-4b32-97f0-d3af4ac7a0e9",
   "metadata": {},
   "outputs": [
    {
     "data": {
      "image/png": "[encoded data removed]",
      "text/plain": [
       "<Figure size 600x400 with 1 Axes>"
      ]
     },
     "metadata": {},
     "output_type": "display_data"
    }
   ],
   "source": [
    "epoch_range = range(1, epochs + 1)\n",
    "plt.figure(figsize=(6, 4))\n",
    "plt.plot(epoch_range, train_loss2, label=\"Train Loss\")\n",
    "plt.plot(epoch_range, test_loss2, label=\"Test Loss\")\n",
    "plt.xlabel(\"Epoch\")\n",
    "plt.ylabel(\"Loss\")\n",
    "plt.title(\"Loss (Pre-trained model: train only last layer)\")\n",
    "plt.legend()\n",
    "plt.tight_layout()\n",
    "plt.show()"
   ]
  },
  {
   "cell_type": "markdown",
   "id": "3a4eb426-9459-42b3-afdd-ee2573d4650b",
   "metadata": {},
   "source": [
    "## (2c) Train all layers of pre-trained model\n",
    "\n",
    "Create a new CNNModel, load pre-trained weights and fine-tune all weights."
   ]
  },
  {
   "cell_type": "markdown",
   "id": "321cbe46-2447-4221-9485-7ca69d862644",
   "metadata": {},
   "source": [
    "- Here, we also start with a pretrained model using `model3.load_state_dict(torch.load(\"pretrained_MNIST_model.pt\"))`, but we allow the whole network to be updated by setting `freeze_layers` to `False`, enabling full fine-tuning when `train_model()` is called."
   ]
  },
  {
   "cell_type": "code",
   "execution_count": 20,
   "id": "a18e992e-1777-45ce-97e4-34ac155ad19d",
   "metadata": {},
   "outputs": [
    {
     "name": "stdout",
     "output_type": "stream",
     "text": [
      "Epoch  1/70 | Train Loss: 10.3249 | Train Acc: 13.28% | Test Loss: 2.2430 | Test Acc: 29.70%\n",
      "Epoch  2/70 | Train Loss: 2.5464 | Train Acc: 40.62% | Test Loss: 2.1010 | Test Acc: 42.66%\n",
      "Epoch  3/70 | Train Loss: 1.1323 | Train Acc: 64.06% | Test Loss: 2.2624 | Test Acc: 45.03%\n",
      "Epoch  4/70 | Train Loss: 0.7314 | Train Acc: 74.22% | Test Loss: 1.9307 | Test Acc: 57.68%\n",
      "Epoch  5/70 | Train Loss: 0.3989 | Train Acc: 83.59% | Test Loss: 1.8112 | Test Acc: 61.76%\n",
      "Epoch  6/70 | Train Loss: 0.3248 | Train Acc: 87.50% | Test Loss: 1.9029 | Test Acc: 58.87%\n",
      "Epoch  7/70 | Train Loss: 0.2517 | Train Acc: 89.84% | Test Loss: 2.0201 | Test Acc: 59.11%\n",
      "Epoch  8/70 | Train Loss: 0.2049 | Train Acc: 93.75% | Test Loss: 2.0425 | Test Acc: 62.29%\n",
      "Epoch  9/70 | Train Loss: 0.1702 | Train Acc: 95.31% | Test Loss: 1.9814 | Test Acc: 63.44%\n",
      "Epoch 10/70 | Train Loss: 0.1278 | Train Acc: 96.88% | Test Loss: 1.8811 | Test Acc: 64.94%\n",
      "Epoch 11/70 | Train Loss: 0.0967 | Train Acc: 97.66% | Test Loss: 1.9258 | Test Acc: 64.62%\n",
      "Epoch 12/70 | Train Loss: 0.0698 | Train Acc: 99.22% | Test Loss: 1.9910 | Test Acc: 64.43%\n",
      "Epoch 13/70 | Train Loss: 0.0546 | Train Acc: 100.00% | Test Loss: 1.9471 | Test Acc: 65.21%\n",
      "Epoch 14/70 | Train Loss: 0.0385 | Train Acc: 100.00% | Test Loss: 1.9606 | Test Acc: 65.46%\n",
      "Epoch 15/70 | Train Loss: 0.0331 | Train Acc: 100.00% | Test Loss: 2.0633 | Test Acc: 64.71%\n",
      "Epoch 16/70 | Train Loss: 0.0253 | Train Acc: 100.00% | Test Loss: 2.1807 | Test Acc: 63.88%\n",
      "Epoch 17/70 | Train Loss: 0.0215 | Train Acc: 100.00% | Test Loss: 2.2103 | Test Acc: 64.03%\n",
      "Epoch 18/70 | Train Loss: 0.0169 | Train Acc: 100.00% | Test Loss: 2.1831 | Test Acc: 64.50%\n",
      "Epoch 19/70 | Train Loss: 0.0130 | Train Acc: 100.00% | Test Loss: 2.1746 | Test Acc: 64.70%\n",
      "Epoch 20/70 | Train Loss: 0.0110 | Train Acc: 100.00% | Test Loss: 2.1998 | Test Acc: 64.83%\n",
      "Epoch 21/70 | Train Loss: 0.0090 | Train Acc: 100.00% | Test Loss: 2.2493 | Test Acc: 64.63%\n",
      "Epoch 22/70 | Train Loss: 0.0072 | Train Acc: 100.00% | Test Loss: 2.2994 | Test Acc: 64.27%\n",
      "Epoch 23/70 | Train Loss: 0.0061 | Train Acc: 100.00% | Test Loss: 2.3273 | Test Acc: 64.37%\n",
      "Epoch 24/70 | Train Loss: 0.0054 | Train Acc: 100.00% | Test Loss: 2.3255 | Test Acc: 64.60%\n",
      "Epoch 25/70 | Train Loss: 0.0047 | Train Acc: 100.00% | Test Loss: 2.3059 | Test Acc: 65.16%\n",
      "Epoch 26/70 | Train Loss: 0.0039 | Train Acc: 100.00% | Test Loss: 2.2853 | Test Acc: 65.65%\n",
      "Epoch 27/70 | Train Loss: 0.0033 | Train Acc: 100.00% | Test Loss: 2.2739 | Test Acc: 65.97%\n",
      "Epoch 28/70 | Train Loss: 0.0029 | Train Acc: 100.00% | Test Loss: 2.2728 | Test Acc: 66.21%\n",
      "Epoch 29/70 | Train Loss: 0.0025 | Train Acc: 100.00% | Test Loss: 2.2807 | Test Acc: 66.23%\n",
      "Epoch 30/70 | Train Loss: 0.0022 | Train Acc: 100.00% | Test Loss: 2.2949 | Test Acc: 66.38%\n",
      "Epoch 31/70 | Train Loss: 0.0019 | Train Acc: 100.00% | Test Loss: 2.3133 | Test Acc: 66.33%\n",
      "Epoch 32/70 | Train Loss: 0.0016 | Train Acc: 100.00% | Test Loss: 2.3341 | Test Acc: 66.38%\n",
      "Epoch 33/70 | Train Loss: 0.0014 | Train Acc: 100.00% | Test Loss: 2.3553 | Test Acc: 66.23%\n",
      "Epoch 34/70 | Train Loss: 0.0012 | Train Acc: 100.00% | Test Loss: 2.3752 | Test Acc: 66.27%\n",
      "Epoch 35/70 | Train Loss: 0.0011 | Train Acc: 100.00% | Test Loss: 2.3924 | Test Acc: 66.14%\n",
      "Epoch 36/70 | Train Loss: 0.0010 | Train Acc: 100.00% | Test Loss: 2.4057 | Test Acc: 66.13%\n",
      "Epoch 37/70 | Train Loss: 0.0009 | Train Acc: 100.00% | Test Loss: 2.4147 | Test Acc: 66.16%\n",
      "Epoch 38/70 | Train Loss: 0.0008 | Train Acc: 100.00% | Test Loss: 2.4198 | Test Acc: 66.13%\n",
      "Epoch 39/70 | Train Loss: 0.0007 | Train Acc: 100.00% | Test Loss: 2.4218 | Test Acc: 66.22%\n",
      "Epoch 40/70 | Train Loss: 0.0007 | Train Acc: 100.00% | Test Loss: 2.4220 | Test Acc: 66.30%\n",
      "Epoch 41/70 | Train Loss: 0.0006 | Train Acc: 100.00% | Test Loss: 2.4213 | Test Acc: 66.29%\n",
      "Epoch 42/70 | Train Loss: 0.0006 | Train Acc: 100.00% | Test Loss: 2.4205 | Test Acc: 66.34%\n",
      "Epoch 43/70 | Train Loss: 0.0005 | Train Acc: 100.00% | Test Loss: 2.4201 | Test Acc: 66.41%\n",
      "Epoch 44/70 | Train Loss: 0.0005 | Train Acc: 100.00% | Test Loss: 2.4206 | Test Acc: 66.38%\n",
      "Epoch 45/70 | Train Loss: 0.0005 | Train Acc: 100.00% | Test Loss: 2.4220 | Test Acc: 66.44%\n",
      "Epoch 46/70 | Train Loss: 0.0004 | Train Acc: 100.00% | Test Loss: 2.4242 | Test Acc: 66.52%\n",
      "Epoch 47/70 | Train Loss: 0.0004 | Train Acc: 100.00% | Test Loss: 2.4274 | Test Acc: 66.62%\n",
      "Epoch 48/70 | Train Loss: 0.0004 | Train Acc: 100.00% | Test Loss: 2.4314 | Test Acc: 66.60%\n",
      "Epoch 49/70 | Train Loss: 0.0004 | Train Acc: 100.00% | Test Loss: 2.4360 | Test Acc: 66.64%\n",
      "Epoch 50/70 | Train Loss: 0.0004 | Train Acc: 100.00% | Test Loss: 2.4411 | Test Acc: 66.64%\n",
      "Epoch 51/70 | Train Loss: 0.0003 | Train Acc: 100.00% | Test Loss: 2.4466 | Test Acc: 66.68%\n",
      "Epoch 52/70 | Train Loss: 0.0003 | Train Acc: 100.00% | Test Loss: 2.4524 | Test Acc: 66.66%\n",
      "Epoch 53/70 | Train Loss: 0.0003 | Train Acc: 100.00% | Test Loss: 2.4585 | Test Acc: 66.69%\n",
      "Epoch 54/70 | Train Loss: 0.0003 | Train Acc: 100.00% | Test Loss: 2.4646 | Test Acc: 66.71%\n",
      "Epoch 55/70 | Train Loss: 0.0003 | Train Acc: 100.00% | Test Loss: 2.4707 | Test Acc: 66.69%\n",
      "Epoch 56/70 | Train Loss: 0.0003 | Train Acc: 100.00% | Test Loss: 2.4767 | Test Acc: 66.68%\n",
      "Epoch 57/70 | Train Loss: 0.0003 | Train Acc: 100.00% | Test Loss: 2.4825 | Test Acc: 66.63%\n",
      "Epoch 58/70 | Train Loss: 0.0002 | Train Acc: 100.00% | Test Loss: 2.4882 | Test Acc: 66.62%\n",
      "Epoch 59/70 | Train Loss: 0.0002 | Train Acc: 100.00% | Test Loss: 2.4935 | Test Acc: 66.55%\n",
      "Epoch 60/70 | Train Loss: 0.0002 | Train Acc: 100.00% | Test Loss: 2.4986 | Test Acc: 66.56%\n",
      "Epoch 61/70 | Train Loss: 0.0002 | Train Acc: 100.00% | Test Loss: 2.5033 | Test Acc: 66.56%\n",
      "Epoch 62/70 | Train Loss: 0.0002 | Train Acc: 100.00% | Test Loss: 2.5077 | Test Acc: 66.56%\n",
      "Epoch 63/70 | Train Loss: 0.0002 | Train Acc: 100.00% | Test Loss: 2.5117 | Test Acc: 66.55%\n",
      "Epoch 64/70 | Train Loss: 0.0002 | Train Acc: 100.00% | Test Loss: 2.5154 | Test Acc: 66.56%\n",
      "Epoch 65/70 | Train Loss: 0.0002 | Train Acc: 100.00% | Test Loss: 2.5187 | Test Acc: 66.58%\n",
      "Epoch 66/70 | Train Loss: 0.0002 | Train Acc: 100.00% | Test Loss: 2.5218 | Test Acc: 66.54%\n",
      "Epoch 67/70 | Train Loss: 0.0002 | Train Acc: 100.00% | Test Loss: 2.5245 | Test Acc: 66.52%\n",
      "Epoch 68/70 | Train Loss: 0.0002 | Train Acc: 100.00% | Test Loss: 2.5270 | Test Acc: 66.54%\n",
      "Epoch 69/70 | Train Loss: 0.0002 | Train Acc: 100.00% | Test Loss: 2.5293 | Test Acc: 66.57%\n",
      "Epoch 70/70 | Train Loss: 0.0002 | Train Acc: 100.00% | Test Loss: 2.5314 | Test Acc: 66.57%\n"
     ]
    }
   ],
   "source": [
    "model3 = CNNModel()\n",
    "model3.load_state_dict(torch.load(\"pretrained_MNIST_model.pt\"))\n",
    "optimizer3 = torch.optim.Adam(model3.parameters(), lr=0.01)\n",
    "epochs = 70\n",
    "freeze_layers = False\n",
    "train_loss3, test_loss3, train_acc3, test_acc3 = train_model(model3, train_loader, test_loader, optimizer3, \n",
    "                                                             criterion, epochs=epochs, freeze_layers=freeze_layers)"
   ]
  },
  {
   "cell_type": "code",
   "execution_count": 21,
   "id": "1c1ff68b-c681-40d9-ac52-f6fe5e441e09",
   "metadata": {},
   "outputs": [
    {
     "data": {
      "image/png": "[encoded data removed]",
      "text/plain": [
       "<Figure size 600x400 with 1 Axes>"
      ]
     },
     "metadata": {},
     "output_type": "display_data"
    }
   ],
   "source": [
    "epoch_range = range(1, epochs + 1)\n",
    "plt.figure(figsize=(6, 4))\n",
    "plt.plot(epoch_range, train_loss3, label=\"Train Loss\")\n",
    "plt.plot(epoch_range, test_loss3, label=\"Test Loss\")\n",
    "plt.xlabel(\"Epoch\")\n",
    "plt.ylabel(\"Loss\")\n",
    "plt.title(\"Loss (Pre-trained model: train all layers)\")\n",
    "plt.legend()\n",
    "plt.tight_layout()\n",
    "plt.show()"
   ]
  },
  {
   "cell_type": "markdown",
   "id": "222e98ca-49ca-4cd4-962b-a624da64949a",
   "metadata": {},
   "source": [
    "## (2d) Plot and Report"
   ]
  },
  {
   "cell_type": "code",
   "execution_count": 22,
   "id": "7ec219bb-1104-4db5-939b-760b3086a638",
   "metadata": {},
   "outputs": [
    {
     "data": {
      "image/png": "[encoded data removed]",
      "text/plain": [
       "<Figure size 800x500 with 1 Axes>"
      ]
     },
     "metadata": {},
     "output_type": "display_data"
    }
   ],
   "source": [
    "# Test Acc of all 3 methods\n",
    "plt.figure(figsize=(8, 5))\n",
    "plt.plot(test_acc1, label=\"Scratch\")\n",
    "plt.plot(test_acc2, label=\"Pre-trained: Last Layer\")\n",
    "plt.plot(test_acc3, label=\"Pre-trained: All Layers\")\n",
    "plt.xlabel(\"Epoch\")\n",
    "plt.ylabel(\"Test Accuracy (%)\")\n",
    "plt.title(\"Test Accuracy\")\n",
    "plt.legend()\n",
    "plt.tight_layout()\n",
    "plt.show()"
   ]
  },
  {
   "cell_type": "markdown",
   "id": "70226f92-0342-4a55-862f-360d46b48b2e",
   "metadata": {},
   "source": [
    "### Observations\n",
    "\n",
    "- All three variants reach fairly similar final accuracies with the training settings used here.\n",
    "\n",
    "- Transfer learning significantly speeds up training. Model with pre-trained weights performs much better in the early epochs compared to one trained from scratch.\n",
    "\n",
    "- There is no significant difference in final accuracy between fully fine-tuning the model and fine-tuning only the last layer, but training only the final layer is computationally faster. Note: However, the relative performance of these alternatives may depend on the specific problem and network architecture, so they might not be equally effective in all cases."
   ]
  },
  {
   "cell_type": "markdown",
   "id": "9d4c7e47-d270-4be3-a575-bb85c00d014c",
   "metadata": {},
   "source": [
    "# 3. Few-shot learning"
   ]
  },
  {
   "cell_type": "markdown",
   "id": "6dbee012-64f5-467d-8cb7-e7fe8b775db1",
   "metadata": {},
   "source": [
    "We use the trained classifier as a feature extractor. Specifically, some intermediate outputs of the neural networks are used as the features. Denote the feature extractor as $f$, then we can obtain the representation of one data point as $f(I)$. The method then performs nearest neighbor classification on the features, predicting the result as $y(x) = \\arg\\min_{c\\in\\{1,\\dots,C\\}}d(x,x_{c})$."
   ]
  },
  {
   "cell_type": "markdown",
   "id": "7548151b-b4e3-476e-9ce8-a50fc71df6d4",
   "metadata": {},
   "source": [
    "In principle, any set of neuron outputs within the network can be used as representation. In most cases, a layer close to the end of the network is chosen because it captures a rich set of learned features. In our case, two most natural options would be:\n",
    "\n",
    "- The 576 dimensional feature vector we get by flattening the output from the final convolution layer.\n",
    "\n",
    "- The 10 dimensional output layer (class probabilities).\n",
    "\n",
    "Although both are technically possible, the 576 dimensional features are preferable here because they form a latent space that more generally encodes meaningful information about the image content. Final 10 neurons, are already tuned for classification on the source task, so they may lose some variability needed for the new task. In the code, `forward()` returns `features` by flattening the output of the last convolution block, and those features are what we use for few-shot learning.\n"
   ]
  },
  {
   "cell_type": "code",
   "execution_count": 23,
   "id": "e7b3eae4-e437-467a-8b76-2cc66a4f8d76",
   "metadata": {},
   "outputs": [
    {
     "name": "stdout",
     "output_type": "stream",
     "text": [
      "Accuracy for 1 shot is 49.12\n",
      "Accuracy for 7 shot is 69.09\n"
     ]
    }
   ],
   "source": [
    "from torch.utils.data import Dataset\n",
    "\n",
    "# Set random seed for reproducibility -- DO NOT CHANGE THIS\n",
    "seed = 42\n",
    "random.seed(seed)\n",
    "torch.manual_seed(seed)\n",
    "\n",
    "# Define the model architecture\n",
    "class CNNModel(nn.Module):\n",
    "    def __init__(self):\n",
    "        super(CNNModel, self).__init__()\n",
    "\n",
    "        # Block 1\n",
    "        self.cnn1 = nn.Conv2d(in_channels=1, out_channels=16, kernel_size=5, stride=1, padding=2)\n",
    "        self.relu1 = nn.ReLU()\n",
    "        self.bn1 = nn.BatchNorm2d(16)\n",
    "        self.MaxPool1 = nn.MaxPool2d(kernel_size=2)\n",
    "\n",
    "        # Block 2\n",
    "        self.cnn2 = nn.Conv2d(in_channels=16, out_channels=32, kernel_size=5, stride=1, padding=2)\n",
    "        self.relu2 = nn.ReLU()\n",
    "        self.bn2 = nn.BatchNorm2d(32)\n",
    "        self.MaxPool2 = nn.MaxPool2d(kernel_size=2)\n",
    "\n",
    "        # Block 3\n",
    "        self.cnn3 = nn.Conv2d(in_channels=32, out_channels=64, kernel_size=5, stride=1, padding=2)\n",
    "        self.relu3 = nn.ReLU()\n",
    "        self.bn3 = nn.BatchNorm2d(64)\n",
    "        self.MaxPool3 = nn.MaxPool2d(kernel_size=2)\n",
    "\n",
    "        self.fc1 = nn.Linear(576, 10)\n",
    "\n",
    "    def forward(self, x):\n",
    "        out = self.MaxPool1(self.bn1(self.relu1(self.cnn1(x))))\n",
    "        out = self.MaxPool2(self.bn2(self.relu2(self.cnn2(out))))\n",
    "        out = self.MaxPool3(self.bn3(self.relu3(self.cnn3(out))))\n",
    "\n",
    "        features = out.view(out.size(0), -1)\n",
    "        out = self.fc1(features)\n",
    "\n",
    "        return out, features\n",
    "\n",
    "class KShotCDataset(Dataset):\n",
    "    def __init__(self, fashion_mnist_dataset, k_shot, c_way):\n",
    "        self.fashion_mnist_dataset = fashion_mnist_dataset\n",
    "        self.k_shot = k_shot\n",
    "        self.c_way = c_way\n",
    "\n",
    "        self.data_indices = []\n",
    "\n",
    "        self.class_indices = {label: [] for label in range(self.c_way)}\n",
    "        self.create_balanced_dataset()\n",
    "\n",
    "    def create_balanced_dataset(self):\n",
    "        for idx, (_, label) in enumerate(self.fashion_mnist_dataset):\n",
    "            if label < self.c_way:\n",
    "                self.class_indices[label].append(idx)\n",
    "\n",
    "        for label in range(self.c_way):\n",
    "            self.data_indices.extend(self.class_indices[label][:self.k_shot])\n",
    "\n",
    "    def __len__(self):\n",
    "        return len(self.data_indices)\n",
    "\n",
    "    def __getitem__(self, index):\n",
    "        fashion_mnist_index = self.data_indices[index]\n",
    "        image, label = self.fashion_mnist_dataset[fashion_mnist_index]\n",
    "        return image, label\n",
    "\n",
    "\n",
    "def simple_shot(model, train_loader, test_loader, K):\n",
    "    # Load K-shot data.\n",
    "    features = []\n",
    "    labels = []\n",
    "    for i, (image, label) in enumerate(train_loader):\n",
    "        _, output = model(image)\n",
    "        features.append(output)\n",
    "        labels.append(label)\n",
    "    features = torch.cat(features, dim=0)\n",
    "    labels = torch.cat(labels, dim=0)\n",
    "\n",
    "    # Get the centroids\n",
    "    centroids = dict()\n",
    "    for unique_label in torch.unique(labels):\n",
    "        mask = labels == unique_label\n",
    "        norm_feat = features[mask] / torch.norm(features[mask], dim=1).unsqueeze(1)\n",
    "        centroids[unique_label] = norm_feat.mean(dim=0)\n",
    "\n",
    "    # Get the cluster assignments based on l2-distance\n",
    "    all_predicted = []\n",
    "    all_labels = []\n",
    "    for image, label in test_loader:\n",
    "        _, output = model(image)\n",
    "        output /= torch.norm(output, dim=1).unsqueeze(1)\n",
    "        distances = torch.cdist(output, torch.stack(list(centroids.values())))\n",
    "        _, predicted = torch.min(distances, dim=1)\n",
    "        all_predicted.append(predicted)\n",
    "        all_labels.append(label)\n",
    "\n",
    "    # get accuracy\n",
    "    all_predicted = torch.cat(all_predicted, dim=0)\n",
    "\n",
    "    all_labels = torch.cat(all_labels, dim=0)\n",
    "    accuracy = torch.mean((all_predicted == all_labels).float())*100\n",
    "    return accuracy\n",
    "\n",
    "transform = transforms.Compose([transforms.ToTensor()])\n",
    "\n",
    "# Load the Fashion MNIST training dataset\n",
    "fashionmnist_dataset = torchvision.datasets.FashionMNIST(\n",
    "    root='./data',\n",
    "    train=True,\n",
    "    transform=transform,\n",
    "    download=True\n",
    ")\n",
    "\n",
    "# ...and the test data as well\n",
    "test_dataset = torchvision.datasets.FashionMNIST(root='./data', train=False, download=True,\n",
    "                                                 transform=transform)\n",
    "\n",
    "C = 10  # Number of classes -- ordered labels are selected, e.g. C = 3 means labels=[0, 1, 2]\n",
    "batch_size = 64\n",
    "\n",
    "for K in [1, 7]:  # Number of shots per class\n",
    "    # Create the K-shot C-way dataset\n",
    "    k_shot_c_dataset = KShotCDataset(fashionmnist_dataset, K, C)\n",
    "\n",
    "    # train data loader\n",
    "    train_dataloader = DataLoader(k_shot_c_dataset, batch_size=K*C, shuffle=False)\n",
    "\n",
    "    # test data loader\n",
    "    test_dataloader = DataLoader(test_dataset, batch_size=batch_size, shuffle=False)\n",
    "\n",
    "    model = CNNModel()\n",
    "    model.load_state_dict(torch.load('pretrained_MNIST_model.pt'))\n",
    "    acc = simple_shot(model, train_dataloader, test_dataloader, K=K)\n",
    "    print(f\"Accuracy for {K} shot is {acc:.2f}\")\n"
   ]
  },
  {
   "cell_type": "markdown",
   "id": "ff0f886b-a3aa-4331-8146-13288caf75be",
   "metadata": {},
   "source": [
    "### Observations\n",
    "\n",
    "- We tested $K=1$ and $K=7$ for the few-shot classification. With $K=7$, we saw higher accuracy (about 69%) than with $K=1$ (about 49%), showing that having more examples per class significantly improves performance.\n",
    "\n",
    "- In practice, $K$ can be viewed as a hyperparameter to be tuned. However, tuning requires access to labeled examples for the new task.\n",
    "\n",
    "- The purpose of this exercise was to show how a neural network can act as feature extractor for other learning algorithms. Instead of relying on the standard linear classification layer, you can perform clustering, nearest neighbor classification, or other techniques directly on the extracted features. This can give good results, especially compared to using raw pixel data since network's latent space already encodes useful information about the images."
   ]
  },
  {
   "cell_type": "code",
   "execution_count": null,
   "id": "86cffc7d-71c0-4b47-a4c9-324361e43e40",
   "metadata": {},
   "outputs": [],
   "source": []
  }
 ],
 "metadata": {
  "kernelspec": {
   "display_name": "Python 3 (ipykernel)",
   "language": "python",
   "name": "python3"
  },
  "language_info": {
   "codemirror_mode": {
    "name": "ipython",
    "version": 3
   },
   "file_extension": ".py",
   "mimetype": "text/x-python",
   "name": "python",
   "nbconvert_exporter": "python",
   "pygments_lexer": "ipython3",
   "version": "3.10.16"
  }
 },
 "nbformat": 4,
 "nbformat_minor": 5
}
