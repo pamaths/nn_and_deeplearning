{
 "cells": [
  {
   "cell_type": "markdown",
   "id": "94cc029b-0d55-4891-afb4-05961f66d729",
   "metadata": {},
   "source": [
    "# Problem 1\n"
   ]
  },
  {
   "cell_type": "code",
   "execution_count": 1,
   "id": "bce6084d-0ac9-46e7-b74d-367ea80b5670",
   "metadata": {},
   "outputs": [],
   "source": [
    "import torch\n",
    "from torch import nn\n",
    "from torch.utils.data import TensorDataset, DataLoader\n",
    "from torchvision import datasets, transforms\n",
    "import numpy as np\n",
    "import matplotlib.pyplot as plt\n",
    "\n",
    "seed = 42\n",
    "torch.manual_seed(seed)\n",
    "np.random.seed(seed)"
   ]
  },
  {
   "cell_type": "markdown",
   "id": "a0dc8e95",
   "metadata": {},
   "source": [
    "## Load training data"
   ]
  },
  {
   "cell_type": "code",
   "execution_count": 2,
   "id": "66c9b3ed",
   "metadata": {},
   "outputs": [],
   "source": [
    "# Load tensors from the file\n",
    "loaded_tensors = torch.load('exercise_2_problem_1_data.pth')\n",
    "\n",
    "# Retrieve tensors\n",
    "X_tensor = loaded_tensors['X_tensor']\n",
    "Y_tensor = loaded_tensors['Y_tensor']\n",
    "\n",
    "# Create a dataset & DataLoader for mini-batch training\n",
    "dataset = TensorDataset(X_tensor, Y_tensor)\n",
    "\n",
    "batch_size = 128\n",
    "dataloader = DataLoader(dataset, batch_size=batch_size, shuffle=True)"
   ]
  },
  {
   "cell_type": "markdown",
   "id": "879c23b7",
   "metadata": {},
   "source": [
    "## a) Finalize model definition"
   ]
  },
  {
   "cell_type": "code",
   "execution_count": 3,
   "id": "d19f2fb3",
   "metadata": {},
   "outputs": [],
   "source": [
    "class RegressionModel(nn.Module):\n",
    "    def __init__(self, input_dim, output_dim):\n",
    "        super().__init__()\n",
    "        self.layers = nn.Sequential(\n",
    "            nn.Linear(input_dim, 400),\n",
    "            nn.ReLU(),\n",
    "            nn.Linear(400, 200),\n",
    "            nn.ReLU(),\n",
    "            nn.Linear(200, 100),\n",
    "            nn.ReLU(),\n",
    "            nn.Linear(100, output_dim)\n",
    "        )\n",
    "\n",
    "    def forward(self, x):\n",
    "        return self.layers(x)\n"
   ]
  },
  {
   "cell_type": "markdown",
   "id": "8e71365f",
   "metadata": {},
   "source": [
    "## b) Write optimization loop"
   ]
  },
  {
   "cell_type": "code",
   "execution_count": 4,
   "id": "e294969d",
   "metadata": {},
   "outputs": [
    {
     "name": "stdout",
     "output_type": "stream",
     "text": [
      "Epoch [2/250] - MSE Loss: 0.913816\n",
      "Epoch [27/250] - MSE Loss: 0.189765\n",
      "Epoch [52/250] - MSE Loss: 0.062930\n",
      "Epoch [77/250] - MSE Loss: 0.020868\n",
      "Epoch [102/250] - MSE Loss: 0.006340\n",
      "Epoch [127/250] - MSE Loss: 0.001762\n",
      "Epoch [152/250] - MSE Loss: 0.000406\n",
      "Epoch [177/250] - MSE Loss: 0.000090\n",
      "Epoch [202/250] - MSE Loss: 0.000017\n",
      "Epoch [227/250] - MSE Loss: 0.000003\n"
     ]
    }
   ],
   "source": [
    "model = RegressionModel(100, 2)\n",
    "\n",
    "criterion = nn.MSELoss()\n",
    "lr = 1e-4\n",
    "optimizer = torch.optim.Adam(model.parameters(), lr=lr)\n",
    "\n",
    "num_epochs = 250\n",
    "printing_interval = num_epochs // 10 # Avoid printing hundreds or thousands of losses, to keep the notebook cleaner\n",
    "losses_ = []\n",
    "\n",
    "for epoch in range(num_epochs):\n",
    "    model.train()\n",
    "    running_loss = 0.0\n",
    "\n",
    "    for batch_x, batch_y in dataloader:\n",
    "        # 1) Zero the gradients\n",
    "        optimizer.zero_grad()\n",
    "        # 2) Forward pass\n",
    "        preds = model(batch_x)\n",
    "        # 3) Compute loss (MSE)\n",
    "        loss = criterion(preds, batch_y)\n",
    "        # 4) Backprop\n",
    "        loss.backward()\n",
    "        # 5) Update parameters\n",
    "        optimizer.step()\n",
    "\n",
    "        running_loss += loss.item()\n",
    "\n",
    "    avg_loss = running_loss / len(dataloader)\n",
    "    losses_.append(avg_loss)\n",
    "    \n",
    "    \n",
    "    if(epoch % printing_interval == 1):\n",
    "        print(f\"Epoch [{epoch+1}/{num_epochs}] - MSE Loss: {avg_loss:.6f}\")\n"
   ]
  },
  {
   "cell_type": "markdown",
   "id": "a7406456",
   "metadata": {},
   "source": [
    "## c) Plot errors on log-scale"
   ]
  },
  {
   "cell_type": "code",
   "execution_count": 5,
   "id": "0a722fff",
   "metadata": {},
   "outputs": [
    {
     "data": {
      "image/png": "[encoded data removed]",
      "text/plain": [
       "<Figure size 640x480 with 1 Axes>"
      ]
     },
     "metadata": {},
     "output_type": "display_data"
    }
   ],
   "source": [
    "plt.plot(losses_)\n",
    "plt.yscale('log')  # set y-axis to log-scale\n",
    "plt.xlabel('Epoch')\n",
    "plt.ylabel('Loss (log scale)')\n",
    "plt.title('Training Loss')\n",
    "plt.show()"
   ]
  },
  {
   "cell_type": "markdown",
   "id": "4533d5f4",
   "metadata": {},
   "source": [
    "## e) Report your choices\n",
    "\n",
    "* The Adam optimizer with a 1e-4 learning rate and batch size of 128 is selected.\n",
    "\n",
    "* The threshold 1e-6 was reached in 250 epochs."
   ]
  },
  {
   "cell_type": "markdown",
   "id": "27acb6b3",
   "metadata": {},
   "source": [
    "## d) Computing the gradient norms"
   ]
  },
  {
   "cell_type": "code",
   "execution_count": 6,
   "id": "045d7753",
   "metadata": {},
   "outputs": [
    {
     "name": "stdout",
     "output_type": "stream",
     "text": [
      "Gradient Norm stats for evaluation pass:\n",
      "  Mean  : 0.003642\n",
      "  Std   : 0.000498\n"
     ]
    }
   ],
   "source": [
    "model.eval()\n",
    "\n",
    "grad_norms = []  # to store gradient norms for each batch\n",
    "\n",
    "# Loop over batches\n",
    "for batch_x, batch_y in dataloader:\n",
    "    optimizer.zero_grad()           # Zero the gradients\n",
    "    preds = model(batch_x)          # Forward pass\n",
    "    loss = criterion(preds, batch_y)  # Compute loss\n",
    "    loss.backward()                 # Compute gradients via backpropagation\n",
    "    \n",
    "    # Compute total L2 norm across all model parameter gradients\n",
    "    total_norm = 0.0\n",
    "    for p in model.parameters(): # Loop over model parameters\n",
    "        if p.grad is not None:\n",
    "            param_norm = p.grad.data.norm(2)  # L2 norm of the gradient for this parameter\n",
    "            total_norm += param_norm.item() ** 2\n",
    "    total_norm = total_norm ** 0.5 # sqrt of sum of squares\n",
    "    grad_norms.append(total_norm)\n",
    "\n",
    "# Convert to numpy array for statistics\n",
    "grad_norms = np.array(grad_norms)\n",
    "mean_gn = grad_norms.mean()\n",
    "std_gn  = grad_norms.std()\n",
    "min_gn  = grad_norms.min()\n",
    "max_gn  = grad_norms.max()\n",
    "\n",
    "print(\"Gradient Norm stats for evaluation pass:\")\n",
    "print(f\"  Mean  : {mean_gn:.6f}\")\n",
    "print(f\"  Std   : {std_gn:.6f}\")"
   ]
  },
  {
   "cell_type": "markdown",
   "id": "e43dd42e",
   "metadata": {},
   "source": [
    "# Problem 2"
   ]
  },
  {
   "cell_type": "markdown",
   "id": "361f9014-7dc5-406f-aa27-afbbe26b8f11",
   "metadata": {},
   "source": [
    "## a) Generate training/testing data"
   ]
  },
  {
   "cell_type": "code",
   "execution_count": 7,
   "id": "0dbd36f1-0ecc-49af-85e6-61631a2136e2",
   "metadata": {},
   "outputs": [],
   "source": [
    "# N samples with D inputs and O outputs\n",
    "N = 100\n",
    "D = 10\n",
    "O = 5\n",
    "\n",
    "# Random mapping from x to y, as small neural network\n",
    "class CreationModel(nn.Module):\n",
    "  def __init__(self, D, O, M):\n",
    "    super().__init__()\n",
    "    self.layers = nn.Sequential(\n",
    "      nn.Linear(D, M),\n",
    "      nn.Tanh(),\n",
    "      nn.Linear(M, O)\n",
    "    )\n",
    "\n",
    "  def forward(self, x):\n",
    "    return self.layers(x)\n",
    "\n",
    "# For getting the same data\n",
    "torch.manual_seed(78798)\n",
    "\n",
    "# Training data\n",
    "x = torch.randn(N, D)\n",
    "noiselevel = 0.1\n",
    "modelGenerate = CreationModel(D,O,5)\n",
    "modelGenerate.eval()\n",
    "y = modelGenerate(x).clone().detach() + noiselevel*torch.randn(N, O)\n",
    "\n",
    "# Test data\n",
    "N_test = 10000\n",
    "x_test = torch.randn(N_test, D)\n",
    "y_test = modelGenerate(x_test).clone().detach()  + noiselevel*torch.randn(N_test, O)"
   ]
  },
  {
   "cell_type": "markdown",
   "id": "995b3f1a",
   "metadata": {},
   "source": [
    "#### Create model"
   ]
  },
  {
   "cell_type": "code",
   "execution_count": 8,
   "id": "c1ef3b0f",
   "metadata": {},
   "outputs": [],
   "source": [
    "class RegressionModel(nn.Module):\n",
    "  def __init__(self, D, O, M):\n",
    "    super().__init__()\n",
    "    self.layers = nn.Sequential(\n",
    "      nn.Linear(D, M),\n",
    "      nn.Tanh(),\n",
    "      nn.Linear(M, M),\n",
    "      nn.Tanh(),\n",
    "      nn.Linear(M, O)\n",
    "    )\n",
    "\n",
    "  def forward(self, x):\n",
    "    return self.layers(x)"
   ]
  },
  {
   "cell_type": "markdown",
   "id": "e9682148-ec80-4bf8-afc9-6e0eea3126ae",
   "metadata": {},
   "source": [
    "### b) Train model and validate double descent"
   ]
  },
  {
   "cell_type": "code",
   "execution_count": 9,
   "id": "287db507-0292-47cd-8d83-773806614813",
   "metadata": {},
   "outputs": [],
   "source": [
    "# Use full data for gradients\n",
    "B = N\n",
    "data_loader = DataLoader(TensorDataset(x,y), batch_size=B, shuffle=True)\n",
    "\n",
    "# logspace generates M=2 twice, so dropping the first entry\n",
    "Mvalues = np.logspace(np.log10(2),np.log10(60),num=15,dtype='int')[1:]\n",
    "losses = np.zeros((len(Mvalues),2))\n",
    "for mi, M in enumerate(Mvalues):\n",
    "    model = RegressionModel(D,O,M)\n",
    "    objective = nn.MSELoss()\n",
    "    optimizer = torch.optim.Adam(model.parameters())\n",
    "\n",
    "    num_epochs = 5000\n",
    "    losses_ = []\n",
    "    for epoch in range(num_epochs):\n",
    "        epoch_loss = 0.0\n",
    "        # loop over batches\n",
    "        for i, data in enumerate(data_loader):\n",
    "            # retrieve inputs and labels for this batch\n",
    "            x_batch, y_batch = data\n",
    "            # zero the parameter gradients\n",
    "            optimizer.zero_grad()\n",
    "            # forward pass\n",
    "            pred = model(x_batch)\n",
    "            loss = objective(pred, y_batch)\n",
    "            # bacMward pass\n",
    "            loss.backward()\n",
    "            # update\n",
    "            optimizer.step()\n",
    "            # update statistics\n",
    "            epoch_loss += loss.item()\n",
    "        losses_.append(epoch_loss)\n",
    "\n",
    "\n",
    "    model.eval()\n",
    "    pred = model(x_test)\n",
    "    testloss = objective(pred, y_test)\n",
    "\n",
    "    losses[mi,0] = losses_[-1]\n",
    "    losses[mi,1] = testloss.item()"
   ]
  },
  {
   "cell_type": "code",
   "execution_count": 10,
   "id": "7ff3c59e",
   "metadata": {},
   "outputs": [
    {
     "data": {
      "image/png": "[encoded data removed]",
      "text/plain": [
       "<Figure size 640x480 with 1 Axes>"
      ]
     },
     "metadata": {},
     "output_type": "display_data"
    }
   ],
   "source": [
    "plt.loglog(Mvalues, losses[:,0], 'b-')\n",
    "plt.loglog(Mvalues, losses[:,1], 'b:')\n",
    "plt.legend(['Training loss', 'Test loss'])\n",
    "ax = plt.gca(); ax.set_ylim([10**(-5),10**(0)])\n",
    "ax.set_ylabel(\"MSE\")\n",
    "ax.set_xlabel(\"Number of neurons\")\n",
    "# Customize x-axis to show more detailed labels\n",
    "from matplotlib.ticker import LogLocator, ScalarFormatter\n",
    "ax.xaxis.set_major_locator(LogLocator(base=10.0, subs=np.arange(1, 10)))\n",
    "ax.xaxis.set_major_formatter(ScalarFormatter())\n",
    "plt.show()"
   ]
  },
  {
   "cell_type": "markdown",
   "id": "0561e620",
   "metadata": {},
   "source": [
    "* The interpolation threshold is about at M=20. For that M, model has about DM+MM+MO=200+400+100=700 parameters.\n"
   ]
  },
  {
   "cell_type": "markdown",
   "id": "4f7de7b2-e7ce-4141-8bb5-eb5ce0b6a525",
   "metadata": {},
   "source": [
    "### c) Having more data can hurt\n",
    "\n",
    "Just repeat the same experiment with more data for two manually chosen M."
   ]
  },
  {
   "cell_type": "code",
   "execution_count": 11,
   "id": "89c3f98d-ebd6-4c45-9d4a-7af66f4fb5f4",
   "metadata": {},
   "outputs": [
    {
     "name": "stdout",
     "output_type": "stream",
     "text": [
      "Test losses\n",
      "M = 22, N=100: 0.045165468007326126\n",
      "M = 22, N=500: 0.020338062196969986\n",
      "M = 47, N=100: 0.030292870476841927\n",
      "M = 47, N=500: 0.047420721501111984\n"
     ]
    }
   ],
   "source": [
    "# Generate the larger training set, using the same process as before\n",
    "N_large = 500\n",
    "x_large = torch.randn(N_large, D)\n",
    "y_large = modelGenerate(x_large).clone().detach() + noiselevel*torch.randn(N_large, O)\n",
    "\n",
    "\n",
    "B = N\n",
    "data_loader = DataLoader(TensorDataset(x_large,y_large), batch_size=B, shuffle=True)\n",
    "\n",
    "Mvalues = [22,47]\n",
    "losses2 = np.zeros((len(Mvalues),2))\n",
    "for mi, M in enumerate(Mvalues):\n",
    "    model = RegressionModel(D,O,M)\n",
    "    objective = nn.MSELoss()\n",
    "    optimizer = torch.optim.Adam(model.parameters())\n",
    "\n",
    "    num_epochs = 5000\n",
    "    losses_ = []\n",
    "    for epoch in range(num_epochs):\n",
    "        epoch_loss = 0.0\n",
    "        # loop over batches\n",
    "        for i, data in enumerate(data_loader):\n",
    "            # retrieve inputs and labels for this batch\n",
    "            x_batch, y_batch = data\n",
    "            # zero the parameter gradients\n",
    "            optimizer.zero_grad()\n",
    "            # forward pass\n",
    "            pred = model(x_batch)\n",
    "            loss = objective(pred, y_batch)\n",
    "            # backward pass\n",
    "            loss.backward()\n",
    "            # update\n",
    "            optimizer.step()\n",
    "            # update statistics\n",
    "            epoch_loss += loss.item()\n",
    "        losses_.append(epoch_loss)\n",
    "\n",
    "    model.eval()\n",
    "    pred = model(x_test)\n",
    "    testloss = objective(pred, y_test)\n",
    "\n",
    "    losses2[mi,0] = losses_[-1]\n",
    "    losses2[mi,1] = testloss.item()\n",
    "\n",
    "print(\"Test losses\")\n",
    "print(\"M = 22, N=100:\", losses[9,1])\n",
    "print(\"M = 22, N=500:\", losses2[0,1])\n",
    "print(\"M = 47, N=100:\", losses[12,1])\n",
    "print(\"M = 47, N=500:\", losses2[1,1])"
   ]
  },
  {
   "cell_type": "code",
   "execution_count": null,
   "id": "b59b6437",
   "metadata": {},
   "outputs": [],
   "source": []
  }
 ],
 "metadata": {
  "kernelspec": {
   "display_name": "Python 3 (ipykernel)",
   "language": "python",
   "name": "python3"
  },
  "language_info": {
   "codemirror_mode": {
    "name": "ipython",
    "version": 3
   },
   "file_extension": ".py",
   "mimetype": "text/x-python",
   "name": "python",
   "nbconvert_exporter": "python",
   "pygments_lexer": "ipython3",
   "version": "3.11.4"
  }
 },
 "nbformat": 4,
 "nbformat_minor": 5
}
